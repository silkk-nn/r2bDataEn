{
  "nbformat": 4,
  "nbformat_minor": 0,
  "metadata": {
    "colab": {
      "name": "[Solution] Workshop2 - Data Cleansing with Spark",
      "provenance": [],
      "collapsed_sections": [],
      "toc_visible": true,
      "include_colab_link": true
    },
    "kernelspec": {
      "name": "python3",
      "display_name": "Python 3"
    }
  },
  "cells": [
    {
      "cell_type": "markdown",
      "metadata": {
        "id": "view-in-github",
        "colab_type": "text"
      },
      "source": [
        "<a href=\"https://colab.research.google.com/github/silkk-nn/r2bDataEn/blob/main/%5BSolution%5D_Workshop2_Data_Cleansing_with_Spark.ipynb\" target=\"_parent\"><img src=\"https://colab.research.google.com/assets/colab-badge.svg\" alt=\"Open In Colab\"/></a>"
      ]
    },
    {
      "cell_type": "markdown",
      "metadata": {
        "id": "_SQc75fHqX85"
      },
      "source": [
        "# Workshop 2: Data Cleansing with Spark"
      ]
    },
    {
      "cell_type": "markdown",
      "metadata": {
        "id": "VnxzvnOmsN-X"
      },
      "source": [
        "ภาพรวมของคอร์สนี้\n",
        "\n",
        "![alt text](https://cdn-std.droplr.net/files/acc_513973/z7Gqhs)\n",
        "\n",
        "Workshop 2 นี้เราจะทำอะไรกันบ้าง\n",
        "\n",
        "![alt text](https://cdn-std.droplr.net/files/acc_513973/SCN8wh)"
      ]
    },
    {
      "cell_type": "markdown",
      "metadata": {
        "id": "k-V1EYBzrt5b"
      },
      "source": [
        "## Spark Cheatsheet by DataCamp\n",
        "\n",
        "แนะนำให้โหลดเก็บไว้ อุ่นใจกว่า <3\n",
        "\n",
        "![alt text](https://cdn-std.droplr.net/files/acc_513973/PglivG)\n",
        "\n",
        "**RDD:**\n",
        "https://www.datacamp.com/community/blog/pyspark-cheat-sheet-python \n",
        "\n",
        "**DataFrame:**\n",
        "https://www.datacamp.com/community/blog/pyspark-sql-cheat-sheet"
      ]
    },
    {
      "cell_type": "markdown",
      "metadata": {
        "id": "nGaAOQ3Yi7PC"
      },
      "source": [
        "## ข้อมูลขายของออนไลน์\n",
        "### Data Dictionary\n",
        "https://archive.ics.uci.edu/ml/datasets/Online+Retail\n",
        "\n",
        "This is a transactional data set which contains all the transactions occurring between 01/12/2018 and 09/12/2019 for a UK-based and registered non-store online retail.\n",
        "\n",
        "The company mainly sells unique all-occasion gifts. Many customers of the company are wholesalers.\n",
        "\n",
        "- InvoiceNo: Invoice number. Nominal, a 6-digit integral number uniquely assigned to each transaction. If this code starts with letter 'c', it indicates a cancellation.\n",
        "- StockCode: Product (item) code. Nominal, a 5-digit integral number uniquely assigned to each distinct product.\n",
        "- Description: Product (item) name. Nominal.\n",
        "- Quantity: The quantities of each product (item) per transaction. Numeric.\n",
        "- InvoiceDate: Invice Date and time. Numeric, the day and time when each transaction was generated.\n",
        "- UnitPrice: Unit price. Numeric, Product price per unit in sterling.\n",
        "- CustomerID: Customer number. Nominal, a 5-digit integral number uniquely assigned to each customer.\n",
        "- Country: Country name. Nominal, the name of the country where each customer resides.\n"
      ]
    },
    {
      "cell_type": "markdown",
      "metadata": {
        "id": "hZ06tCiTn7z9"
      },
      "source": [
        "## ลง Pyspark และเชื่อมต่อ Google Colab กับ Google Drive"
      ]
    },
    {
      "cell_type": "code",
      "metadata": {
        "id": "y4Qym1H89mfB",
        "colab": {
          "base_uri": "https://localhost:8080/",
          "height": 1000
        },
        "outputId": "815e42a4-61d5-4ab1-ed84-176e73bb367f"
      },
      "source": [
        "# ลง Spark ใน Google Colab\n",
        "!apt-get update\n",
        "!apt-get install openjdk-8-jdk-headless -qq > /dev/null\n",
        "!wget -q https://archive.apache.org/dist/spark/spark-2.4.5/spark-2.4.5-bin-hadoop2.7.tgz\n",
        "!tar xzvf spark-2.4.5-bin-hadoop2.7.tgz\n",
        "!pip install -q findspark==1.3.0"
      ],
      "execution_count": null,
      "outputs": [
        {
          "output_type": "stream",
          "text": [
            "\r0% [Working]\r            \rGet:1 https://cloud.r-project.org/bin/linux/ubuntu bionic-cran35/ InRelease [3,626 B]\n",
            "\r0% [Connecting to archive.ubuntu.com (91.189.88.142)] [Connecting to security.u\r0% [Connecting to archive.ubuntu.com (91.189.88.142)] [Connecting to security.u\r0% [1 InRelease gpgv 3,626 B] [Connecting to archive.ubuntu.com (91.189.88.142)\r                                                                               \rIgn:2 https://developer.download.nvidia.com/compute/cuda/repos/ubuntu1804/x86_64  InRelease\n",
            "\r0% [1 InRelease gpgv 3,626 B] [Connecting to archive.ubuntu.com (91.189.88.142)\r                                                                               \rIgn:3 https://developer.download.nvidia.com/compute/machine-learning/repos/ubuntu1804/x86_64  InRelease\n",
            "\r0% [1 InRelease gpgv 3,626 B] [Connecting to archive.ubuntu.com (91.189.88.142)\r                                                                               \rGet:4 https://developer.download.nvidia.com/compute/cuda/repos/ubuntu1804/x86_64  Release [697 B]\n",
            "\r0% [1 InRelease gpgv 3,626 B] [Waiting for headers] [Connecting to security.ubu\r0% [1 InRelease gpgv 3,626 B] [Waiting for headers] [Connecting to security.ubu\r                                                                               \rHit:5 https://developer.download.nvidia.com/compute/machine-learning/repos/ubuntu1804/x86_64  Release\n",
            "Get:6 https://developer.download.nvidia.com/compute/cuda/repos/ubuntu1804/x86_64  Release.gpg [836 B]\n",
            "Hit:7 http://archive.ubuntu.com/ubuntu bionic InRelease\n",
            "Hit:8 http://ppa.launchpad.net/graphics-drivers/ppa/ubuntu bionic InRelease\n",
            "Get:9 http://security.ubuntu.com/ubuntu bionic-security InRelease [88.7 kB]\n",
            "Get:10 http://archive.ubuntu.com/ubuntu bionic-updates InRelease [88.7 kB]\n",
            "Get:12 http://ppa.launchpad.net/marutter/c2d4u3.5/ubuntu bionic InRelease [15.4 kB]\n",
            "Ign:13 https://developer.download.nvidia.com/compute/cuda/repos/ubuntu1804/x86_64  Packages\n",
            "Get:13 https://developer.download.nvidia.com/compute/cuda/repos/ubuntu1804/x86_64  Packages [255 kB]\n",
            "Get:14 http://archive.ubuntu.com/ubuntu bionic-backports InRelease [74.6 kB]\n",
            "Get:15 http://ppa.launchpad.net/marutter/c2d4u3.5/ubuntu bionic/main Sources [1,857 kB]\n",
            "Get:16 http://security.ubuntu.com/ubuntu bionic-security/universe amd64 Packages [884 kB]\n",
            "Get:17 http://archive.ubuntu.com/ubuntu bionic-updates/main amd64 Packages [1,336 kB]\n",
            "Get:18 http://security.ubuntu.com/ubuntu bionic-security/multiverse amd64 Packages [9,558 B]\n",
            "Get:19 http://security.ubuntu.com/ubuntu bionic-security/main amd64 Packages [1,038 kB]\n",
            "Get:20 http://archive.ubuntu.com/ubuntu bionic-updates/multiverse amd64 Packages [27.1 kB]\n",
            "Get:21 http://archive.ubuntu.com/ubuntu bionic-updates/restricted amd64 Packages [116 kB]\n",
            "Get:22 http://archive.ubuntu.com/ubuntu bionic-updates/universe amd64 Packages [1,413 kB]\n",
            "Get:23 http://ppa.launchpad.net/marutter/c2d4u3.5/ubuntu bionic/main amd64 Packages [896 kB]\n",
            "Fetched 8,104 kB in 4s (2,171 kB/s)\n",
            "Reading package lists... Done\n",
            "spark-2.4.5-bin-hadoop2.7/\n",
            "spark-2.4.5-bin-hadoop2.7/licenses/\n",
            "spark-2.4.5-bin-hadoop2.7/licenses/LICENSE-jtransforms.html\n",
            "spark-2.4.5-bin-hadoop2.7/licenses/LICENSE-zstd.txt\n",
            "spark-2.4.5-bin-hadoop2.7/licenses/LICENSE-zstd-jni.txt\n",
            "spark-2.4.5-bin-hadoop2.7/licenses/LICENSE-xmlenc.txt\n",
            "spark-2.4.5-bin-hadoop2.7/licenses/LICENSE-vis.txt\n",
            "spark-2.4.5-bin-hadoop2.7/licenses/LICENSE-spire.txt\n",
            "spark-2.4.5-bin-hadoop2.7/licenses/LICENSE-sorttable.js.txt\n",
            "spark-2.4.5-bin-hadoop2.7/licenses/LICENSE-slf4j.txt\n",
            "spark-2.4.5-bin-hadoop2.7/licenses/LICENSE-scopt.txt\n",
            "spark-2.4.5-bin-hadoop2.7/licenses/LICENSE-scala.txt\n",
            "spark-2.4.5-bin-hadoop2.7/licenses/LICENSE-sbt-launch-lib.txt\n",
            "spark-2.4.5-bin-hadoop2.7/licenses/LICENSE-respond.txt\n",
            "spark-2.4.5-bin-hadoop2.7/licenses/LICENSE-reflectasm.txt\n",
            "spark-2.4.5-bin-hadoop2.7/licenses/LICENSE-pyrolite.txt\n",
            "spark-2.4.5-bin-hadoop2.7/licenses/LICENSE-py4j.txt\n",
            "spark-2.4.5-bin-hadoop2.7/licenses/LICENSE-protobuf.txt\n",
            "spark-2.4.5-bin-hadoop2.7/licenses/LICENSE-pmml-model.txt\n",
            "spark-2.4.5-bin-hadoop2.7/licenses/LICENSE-paranamer.txt\n",
            "spark-2.4.5-bin-hadoop2.7/licenses/LICENSE-netlib.txt\n",
            "spark-2.4.5-bin-hadoop2.7/licenses/LICENSE-mustache.txt\n",
            "spark-2.4.5-bin-hadoop2.7/licenses/LICENSE-modernizr.txt\n",
            "spark-2.4.5-bin-hadoop2.7/licenses/LICENSE-minlog.txt\n",
            "spark-2.4.5-bin-hadoop2.7/licenses/LICENSE-matchMedia-polyfill.txt\n",
            "spark-2.4.5-bin-hadoop2.7/licenses/LICENSE-machinist.txt\n",
            "spark-2.4.5-bin-hadoop2.7/licenses/LICENSE-leveldbjni.txt\n",
            "spark-2.4.5-bin-hadoop2.7/licenses/LICENSE-kryo.txt\n",
            "spark-2.4.5-bin-hadoop2.7/licenses/LICENSE-json-formatter.txt\n",
            "spark-2.4.5-bin-hadoop2.7/licenses/LICENSE-jquery.txt\n",
            "spark-2.4.5-bin-hadoop2.7/licenses/LICENSE-join.txt\n",
            "spark-2.4.5-bin-hadoop2.7/licenses/LICENSE-jodd.txt\n",
            "spark-2.4.5-bin-hadoop2.7/licenses/LICENSE-jline.txt\n",
            "spark-2.4.5-bin-hadoop2.7/licenses/LICENSE-javolution.txt\n",
            "spark-2.4.5-bin-hadoop2.7/licenses/LICENSE-javassist.html\n",
            "spark-2.4.5-bin-hadoop2.7/licenses/LICENSE-janino.txt\n",
            "spark-2.4.5-bin-hadoop2.7/licenses/LICENSE-heapq.txt\n",
            "spark-2.4.5-bin-hadoop2.7/licenses/LICENSE-graphlib-dot.txt\n",
            "spark-2.4.5-bin-hadoop2.7/licenses/LICENSE-f2j.txt\n",
            "spark-2.4.5-bin-hadoop2.7/licenses/LICENSE-datatables.txt\n",
            "spark-2.4.5-bin-hadoop2.7/licenses/LICENSE-dagre-d3.txt\n",
            "spark-2.4.5-bin-hadoop2.7/licenses/LICENSE-d3.min.js.txt\n",
            "spark-2.4.5-bin-hadoop2.7/licenses/LICENSE-cloudpickle.txt\n",
            "spark-2.4.5-bin-hadoop2.7/licenses/LICENSE-bootstrap.txt\n",
            "spark-2.4.5-bin-hadoop2.7/licenses/LICENSE-automaton.txt\n",
            "spark-2.4.5-bin-hadoop2.7/licenses/LICENSE-arpack.txt\n",
            "spark-2.4.5-bin-hadoop2.7/licenses/LICENSE-antlr.txt\n",
            "spark-2.4.5-bin-hadoop2.7/licenses/LICENSE-CC0.txt\n",
            "spark-2.4.5-bin-hadoop2.7/licenses/LICENSE-AnchorJS.txt\n",
            "spark-2.4.5-bin-hadoop2.7/LICENSE\n",
            "spark-2.4.5-bin-hadoop2.7/examples/\n",
            "spark-2.4.5-bin-hadoop2.7/examples/jars/\n",
            "spark-2.4.5-bin-hadoop2.7/examples/jars/spark-examples_2.11-2.4.5.jar\n",
            "spark-2.4.5-bin-hadoop2.7/examples/jars/scopt_2.11-3.7.0.jar\n",
            "spark-2.4.5-bin-hadoop2.7/examples/src/\n",
            "spark-2.4.5-bin-hadoop2.7/examples/src/main/\n",
            "spark-2.4.5-bin-hadoop2.7/examples/src/main/java/\n",
            "spark-2.4.5-bin-hadoop2.7/examples/src/main/java/org/\n",
            "spark-2.4.5-bin-hadoop2.7/examples/src/main/java/org/apache/\n",
            "spark-2.4.5-bin-hadoop2.7/examples/src/main/java/org/apache/spark/\n",
            "spark-2.4.5-bin-hadoop2.7/examples/src/main/java/org/apache/spark/examples/\n",
            "spark-2.4.5-bin-hadoop2.7/examples/src/main/java/org/apache/spark/examples/mllib/\n",
            "spark-2.4.5-bin-hadoop2.7/examples/src/main/java/org/apache/spark/examples/mllib/JavaRecommendationExample.java\n",
            "spark-2.4.5-bin-hadoop2.7/examples/src/main/java/org/apache/spark/examples/mllib/JavaRandomForestRegressionExample.java\n",
            "spark-2.4.5-bin-hadoop2.7/examples/src/main/java/org/apache/spark/examples/mllib/JavaPrefixSpanExample.java\n",
            "spark-2.4.5-bin-hadoop2.7/examples/src/main/java/org/apache/spark/examples/mllib/JavaPowerIterationClusteringExample.java\n",
            "spark-2.4.5-bin-hadoop2.7/examples/src/main/java/org/apache/spark/examples/mllib/JavaPCAExample.java\n",
            "spark-2.4.5-bin-hadoop2.7/examples/src/main/java/org/apache/spark/examples/mllib/JavaNaiveBayesExample.java\n",
            "spark-2.4.5-bin-hadoop2.7/examples/src/main/java/org/apache/spark/examples/mllib/JavaMulticlassClassificationMetricsExample.java\n",
            "spark-2.4.5-bin-hadoop2.7/examples/src/main/java/org/apache/spark/examples/mllib/JavaMultiLabelClassificationMetricsExample.java\n",
            "spark-2.4.5-bin-hadoop2.7/examples/src/main/java/org/apache/spark/examples/mllib/JavaLogisticRegressionWithLBFGSExample.java\n",
            "spark-2.4.5-bin-hadoop2.7/examples/src/main/java/org/apache/spark/examples/mllib/JavaLatentDirichletAllocationExample.java\n",
            "spark-2.4.5-bin-hadoop2.7/examples/src/main/java/org/apache/spark/examples/mllib/JavaLBFGSExample.java\n",
            "spark-2.4.5-bin-hadoop2.7/examples/src/main/java/org/apache/spark/examples/mllib/JavaKernelDensityEstimationExample.java\n",
            "spark-2.4.5-bin-hadoop2.7/examples/src/main/java/org/apache/spark/examples/mllib/JavaKMeansExample.java\n",
            "spark-2.4.5-bin-hadoop2.7/examples/src/main/java/org/apache/spark/examples/mllib/JavaIsotonicRegressionExample.java\n",
            "spark-2.4.5-bin-hadoop2.7/examples/src/main/java/org/apache/spark/examples/mllib/JavaHypothesisTestingKolmogorovSmirnovTestExample.java\n",
            "spark-2.4.5-bin-hadoop2.7/examples/src/main/java/org/apache/spark/examples/mllib/JavaHypothesisTestingExample.java\n",
            "spark-2.4.5-bin-hadoop2.7/examples/src/main/java/org/apache/spark/examples/mllib/JavaGradientBoostingRegressionExample.java\n",
            "spark-2.4.5-bin-hadoop2.7/examples/src/main/java/org/apache/spark/examples/mllib/JavaGradientBoostingClassificationExample.java\n",
            "spark-2.4.5-bin-hadoop2.7/examples/src/main/java/org/apache/spark/examples/mllib/JavaGaussianMixtureExample.java\n",
            "spark-2.4.5-bin-hadoop2.7/examples/src/main/java/org/apache/spark/examples/mllib/JavaElementwiseProductExample.java\n",
            "spark-2.4.5-bin-hadoop2.7/examples/src/main/java/org/apache/spark/examples/mllib/JavaDecisionTreeRegressionExample.java\n",
            "spark-2.4.5-bin-hadoop2.7/examples/src/main/java/org/apache/spark/examples/mllib/JavaDecisionTreeClassificationExample.java\n",
            "spark-2.4.5-bin-hadoop2.7/examples/src/main/java/org/apache/spark/examples/mllib/JavaChiSqSelectorExample.java\n",
            "spark-2.4.5-bin-hadoop2.7/examples/src/main/java/org/apache/spark/examples/mllib/JavaBisectingKMeansExample.java\n",
            "spark-2.4.5-bin-hadoop2.7/examples/src/main/java/org/apache/spark/examples/mllib/JavaBinaryClassificationMetricsExample.java\n",
            "spark-2.4.5-bin-hadoop2.7/examples/src/main/java/org/apache/spark/examples/mllib/JavaAssociationRulesExample.java\n",
            "spark-2.4.5-bin-hadoop2.7/examples/src/main/java/org/apache/spark/examples/mllib/JavaALS.java\n",
            "spark-2.4.5-bin-hadoop2.7/examples/src/main/java/org/apache/spark/examples/mllib/JavaRegressionMetricsExample.java\n",
            "spark-2.4.5-bin-hadoop2.7/examples/src/main/java/org/apache/spark/examples/mllib/JavaRankingMetricsExample.java\n",
            "spark-2.4.5-bin-hadoop2.7/examples/src/main/java/org/apache/spark/examples/mllib/JavaRandomForestClassificationExample.java\n",
            "spark-2.4.5-bin-hadoop2.7/examples/src/main/java/org/apache/spark/examples/mllib/JavaLinearRegressionWithSGDExample.java\n",
            "spark-2.4.5-bin-hadoop2.7/examples/src/main/java/org/apache/spark/examples/mllib/JavaCorrelationsExample.java\n",
            "spark-2.4.5-bin-hadoop2.7/examples/src/main/java/org/apache/spark/examples/mllib/JavaSummaryStatisticsExample.java\n",
            "spark-2.4.5-bin-hadoop2.7/examples/src/main/java/org/apache/spark/examples/mllib/JavaStreamingTestExample.java\n",
            "spark-2.4.5-bin-hadoop2.7/examples/src/main/java/org/apache/spark/examples/mllib/JavaStratifiedSamplingExample.java\n",
            "spark-2.4.5-bin-hadoop2.7/examples/src/main/java/org/apache/spark/examples/mllib/JavaSimpleFPGrowth.java\n",
            "spark-2.4.5-bin-hadoop2.7/examples/src/main/java/org/apache/spark/examples/mllib/JavaSVMWithSGDExample.java\n",
            "spark-2.4.5-bin-hadoop2.7/examples/src/main/java/org/apache/spark/examples/mllib/JavaSVDExample.java\n",
            "spark-2.4.5-bin-hadoop2.7/examples/src/main/java/org/apache/spark/examples/ml/\n",
            "spark-2.4.5-bin-hadoop2.7/examples/src/main/java/org/apache/spark/examples/ml/JavaRandomForestClassifierExample.java\n",
            "spark-2.4.5-bin-hadoop2.7/examples/src/main/java/org/apache/spark/examples/ml/JavaPrefixSpanExample.java\n",
            "spark-2.4.5-bin-hadoop2.7/examples/src/main/java/org/apache/spark/examples/ml/JavaOneHotEncoderEstimatorExample.java\n",
            "spark-2.4.5-bin-hadoop2.7/examples/src/main/java/org/apache/spark/examples/ml/JavaGradientBoostedTreeClassifierExample.java\n",
            "spark-2.4.5-bin-hadoop2.7/examples/src/main/java/org/apache/spark/examples/ml/JavaDecisionTreeClassificationExample.java\n",
            "spark-2.4.5-bin-hadoop2.7/examples/src/main/java/org/apache/spark/examples/ml/JavaBisectingKMeansExample.java\n",
            "spark-2.4.5-bin-hadoop2.7/examples/src/main/java/org/apache/spark/examples/ml/JavaALSExample.java\n",
            "spark-2.4.5-bin-hadoop2.7/examples/src/main/java/org/apache/spark/examples/ml/JavaWord2VecExample.java\n",
            "spark-2.4.5-bin-hadoop2.7/examples/src/main/java/org/apache/spark/examples/ml/JavaVectorSlicerExample.java\n",
            "spark-2.4.5-bin-hadoop2.7/examples/src/main/java/org/apache/spark/examples/ml/JavaVectorSizeHintExample.java\n",
            "spark-2.4.5-bin-hadoop2.7/examples/src/main/java/org/apache/spark/examples/ml/JavaVectorIndexerExample.java\n",
            "spark-2.4.5-bin-hadoop2.7/examples/src/main/java/org/apache/spark/examples/ml/JavaVectorAssemblerExample.java\n",
            "spark-2.4.5-bin-hadoop2.7/examples/src/main/java/org/apache/spark/examples/ml/JavaTokenizerExample.java\n",
            "spark-2.4.5-bin-hadoop2.7/examples/src/main/java/org/apache/spark/examples/ml/JavaTfIdfExample.java\n",
            "spark-2.4.5-bin-hadoop2.7/examples/src/main/java/org/apache/spark/examples/ml/JavaSummarizerExample.java\n",
            "spark-2.4.5-bin-hadoop2.7/examples/src/main/java/org/apache/spark/examples/ml/JavaStringIndexerExample.java\n",
            "spark-2.4.5-bin-hadoop2.7/examples/src/main/java/org/apache/spark/examples/ml/JavaStopWordsRemoverExample.java\n",
            "spark-2.4.5-bin-hadoop2.7/examples/src/main/java/org/apache/spark/examples/ml/JavaStandardScalerExample.java\n",
            "spark-2.4.5-bin-hadoop2.7/examples/src/main/java/org/apache/spark/examples/ml/JavaSQLTransformerExample.java\n",
            "spark-2.4.5-bin-hadoop2.7/examples/src/main/java/org/apache/spark/examples/ml/JavaRandomForestRegressorExample.java\n",
            "spark-2.4.5-bin-hadoop2.7/examples/src/main/java/org/apache/spark/examples/ml/JavaRFormulaExample.java\n",
            "spark-2.4.5-bin-hadoop2.7/examples/src/main/java/org/apache/spark/examples/ml/JavaQuantileDiscretizerExample.java\n",
            "spark-2.4.5-bin-hadoop2.7/examples/src/main/java/org/apache/spark/examples/ml/JavaPowerIterationClusteringExample.java\n",
            "spark-2.4.5-bin-hadoop2.7/examples/src/main/java/org/apache/spark/examples/ml/JavaPolynomialExpansionExample.java\n",
            "spark-2.4.5-bin-hadoop2.7/examples/src/main/java/org/apache/spark/examples/ml/JavaPipelineExample.java\n",
            "spark-2.4.5-bin-hadoop2.7/examples/src/main/java/org/apache/spark/examples/ml/JavaPCAExample.java\n",
            "spark-2.4.5-bin-hadoop2.7/examples/src/main/java/org/apache/spark/examples/ml/JavaOneVsRestExample.java\n",
            "spark-2.4.5-bin-hadoop2.7/examples/src/main/java/org/apache/spark/examples/ml/JavaNormalizerExample.java\n",
            "spark-2.4.5-bin-hadoop2.7/examples/src/main/java/org/apache/spark/examples/ml/JavaNaiveBayesExample.java\n",
            "spark-2.4.5-bin-hadoop2.7/examples/src/main/java/org/apache/spark/examples/ml/JavaNGramExample.java\n",
            "spark-2.4.5-bin-hadoop2.7/examples/src/main/java/org/apache/spark/examples/ml/JavaMultilayerPerceptronClassifierExample.java\n",
            "spark-2.4.5-bin-hadoop2.7/examples/src/main/java/org/apache/spark/examples/ml/JavaMulticlassLogisticRegressionWithElasticNetExample.java\n",
            "spark-2.4.5-bin-hadoop2.7/examples/src/main/java/org/apache/spark/examples/ml/JavaModelSelectionViaTrainValidationSplitExample.java\n",
            "spark-2.4.5-bin-hadoop2.7/examples/src/main/java/org/apache/spark/examples/ml/JavaModelSelectionViaCrossValidationExample.java\n",
            "spark-2.4.5-bin-hadoop2.7/examples/src/main/java/org/apache/spark/examples/ml/JavaMinMaxScalerExample.java\n",
            "spark-2.4.5-bin-hadoop2.7/examples/src/main/java/org/apache/spark/examples/ml/JavaMinHashLSHExample.java\n",
            "spark-2.4.5-bin-hadoop2.7/examples/src/main/java/org/apache/spark/examples/ml/JavaMaxAbsScalerExample.java\n",
            "spark-2.4.5-bin-hadoop2.7/examples/src/main/java/org/apache/spark/examples/ml/JavaLogisticRegressionWithElasticNetExample.java\n",
            "spark-2.4.5-bin-hadoop2.7/examples/src/main/java/org/apache/spark/examples/ml/JavaLogisticRegressionSummaryExample.java\n",
            "spark-2.4.5-bin-hadoop2.7/examples/src/main/java/org/apache/spark/examples/ml/JavaLinearSVCExample.java\n",
            "spark-2.4.5-bin-hadoop2.7/examples/src/main/java/org/apache/spark/examples/ml/JavaLinearRegressionWithElasticNetExample.java\n",
            "spark-2.4.5-bin-hadoop2.7/examples/src/main/java/org/apache/spark/examples/ml/JavaLabeledDocument.java\n",
            "spark-2.4.5-bin-hadoop2.7/examples/src/main/java/org/apache/spark/examples/ml/JavaLDAExample.java\n",
            "spark-2.4.5-bin-hadoop2.7/examples/src/main/java/org/apache/spark/examples/ml/JavaKMeansExample.java\n",
            "spark-2.4.5-bin-hadoop2.7/examples/src/main/java/org/apache/spark/examples/ml/JavaIsotonicRegressionExample.java\n",
            "spark-2.4.5-bin-hadoop2.7/examples/src/main/java/org/apache/spark/examples/ml/JavaInteractionExample.java\n",
            "spark-2.4.5-bin-hadoop2.7/examples/src/main/java/org/apache/spark/examples/ml/JavaIndexToStringExample.java\n",
            "spark-2.4.5-bin-hadoop2.7/examples/src/main/java/org/apache/spark/examples/ml/JavaImputerExample.java\n",
            "spark-2.4.5-bin-hadoop2.7/examples/src/main/java/org/apache/spark/examples/ml/JavaGradientBoostedTreeRegressorExample.java\n",
            "spark-2.4.5-bin-hadoop2.7/examples/src/main/java/org/apache/spark/examples/ml/JavaGeneralizedLinearRegressionExample.java\n",
            "spark-2.4.5-bin-hadoop2.7/examples/src/main/java/org/apache/spark/examples/ml/JavaGaussianMixtureExample.java\n",
            "spark-2.4.5-bin-hadoop2.7/examples/src/main/java/org/apache/spark/examples/ml/JavaFeatureHasherExample.java\n",
            "spark-2.4.5-bin-hadoop2.7/examples/src/main/java/org/apache/spark/examples/ml/JavaFPGrowthExample.java\n",
            "spark-2.4.5-bin-hadoop2.7/examples/src/main/java/org/apache/spark/examples/ml/JavaEstimatorTransformerParamExample.java\n",
            "spark-2.4.5-bin-hadoop2.7/examples/src/main/java/org/apache/spark/examples/ml/JavaElementwiseProductExample.java\n",
            "spark-2.4.5-bin-hadoop2.7/examples/src/main/java/org/apache/spark/examples/ml/JavaDocument.java\n",
            "spark-2.4.5-bin-hadoop2.7/examples/src/main/java/org/apache/spark/examples/ml/JavaDecisionTreeRegressionExample.java\n",
            "spark-2.4.5-bin-hadoop2.7/examples/src/main/java/org/apache/spark/examples/ml/JavaDCTExample.java\n",
            "spark-2.4.5-bin-hadoop2.7/examples/src/main/java/org/apache/spark/examples/ml/JavaCountVectorizerExample.java\n",
            "spark-2.4.5-bin-hadoop2.7/examples/src/main/java/org/apache/spark/examples/ml/JavaCorrelationExample.java\n",
            "spark-2.4.5-bin-hadoop2.7/examples/src/main/java/org/apache/spark/examples/ml/JavaChiSquareTestExample.java\n",
            "spark-2.4.5-bin-hadoop2.7/examples/src/main/java/org/apache/spark/examples/ml/JavaChiSqSelectorExample.java\n",
            "spark-2.4.5-bin-hadoop2.7/examples/src/main/java/org/apache/spark/examples/ml/JavaBucketizerExample.java\n",
            "spark-2.4.5-bin-hadoop2.7/examples/src/main/java/org/apache/spark/examples/ml/JavaBucketedRandomProjectionLSHExample.java\n",
            "spark-2.4.5-bin-hadoop2.7/examples/src/main/java/org/apache/spark/examples/ml/JavaBinarizerExample.java\n",
            "spark-2.4.5-bin-hadoop2.7/examples/src/main/java/org/apache/spark/examples/ml/JavaAFTSurvivalRegressionExample.java\n",
            "spark-2.4.5-bin-hadoop2.7/examples/src/main/java/org/apache/spark/examples/JavaWordCount.java\n",
            "spark-2.4.5-bin-hadoop2.7/examples/src/main/java/org/apache/spark/examples/JavaStatusTrackerDemo.java\n",
            "spark-2.4.5-bin-hadoop2.7/examples/src/main/java/org/apache/spark/examples/JavaSparkPi.java\n",
            "spark-2.4.5-bin-hadoop2.7/examples/src/main/java/org/apache/spark/examples/JavaPageRank.java\n",
            "spark-2.4.5-bin-hadoop2.7/examples/src/main/java/org/apache/spark/examples/JavaLogQuery.java\n",
            "spark-2.4.5-bin-hadoop2.7/examples/src/main/java/org/apache/spark/examples/JavaHdfsLR.java\n",
            "spark-2.4.5-bin-hadoop2.7/examples/src/main/java/org/apache/spark/examples/JavaTC.java\n",
            "spark-2.4.5-bin-hadoop2.7/examples/src/main/java/org/apache/spark/examples/streaming/\n",
            "spark-2.4.5-bin-hadoop2.7/examples/src/main/java/org/apache/spark/examples/streaming/JavaStatefulNetworkWordCount.java\n",
            "spark-2.4.5-bin-hadoop2.7/examples/src/main/java/org/apache/spark/examples/streaming/JavaSqlNetworkWordCount.java\n",
            "spark-2.4.5-bin-hadoop2.7/examples/src/main/java/org/apache/spark/examples/streaming/JavaRecoverableNetworkWordCount.java\n",
            "spark-2.4.5-bin-hadoop2.7/examples/src/main/java/org/apache/spark/examples/streaming/JavaRecord.java\n",
            "spark-2.4.5-bin-hadoop2.7/examples/src/main/java/org/apache/spark/examples/streaming/JavaQueueStream.java\n",
            "spark-2.4.5-bin-hadoop2.7/examples/src/main/java/org/apache/spark/examples/streaming/JavaNetworkWordCount.java\n",
            "spark-2.4.5-bin-hadoop2.7/examples/src/main/java/org/apache/spark/examples/streaming/JavaDirectKafkaWordCount.java\n",
            "spark-2.4.5-bin-hadoop2.7/examples/src/main/java/org/apache/spark/examples/streaming/JavaCustomReceiver.java\n",
            "spark-2.4.5-bin-hadoop2.7/examples/src/main/java/org/apache/spark/examples/sql/\n",
            "spark-2.4.5-bin-hadoop2.7/examples/src/main/java/org/apache/spark/examples/sql/JavaUserDefinedUntypedAggregation.java\n",
            "spark-2.4.5-bin-hadoop2.7/examples/src/main/java/org/apache/spark/examples/sql/JavaSQLDataSourceExample.java\n",
            "spark-2.4.5-bin-hadoop2.7/examples/src/main/java/org/apache/spark/examples/sql/streaming/\n",
            "spark-2.4.5-bin-hadoop2.7/examples/src/main/java/org/apache/spark/examples/sql/streaming/JavaStructuredSessionization.java\n",
            "spark-2.4.5-bin-hadoop2.7/examples/src/main/java/org/apache/spark/examples/sql/streaming/JavaStructuredNetworkWordCountWindowed.java\n",
            "spark-2.4.5-bin-hadoop2.7/examples/src/main/java/org/apache/spark/examples/sql/streaming/JavaStructuredNetworkWordCount.java\n",
            "spark-2.4.5-bin-hadoop2.7/examples/src/main/java/org/apache/spark/examples/sql/streaming/JavaStructuredKafkaWordCount.java\n",
            "spark-2.4.5-bin-hadoop2.7/examples/src/main/java/org/apache/spark/examples/sql/hive/\n",
            "spark-2.4.5-bin-hadoop2.7/examples/src/main/java/org/apache/spark/examples/sql/hive/JavaSparkHiveExample.java\n",
            "spark-2.4.5-bin-hadoop2.7/examples/src/main/java/org/apache/spark/examples/sql/JavaUserDefinedTypedAggregation.java\n",
            "spark-2.4.5-bin-hadoop2.7/examples/src/main/java/org/apache/spark/examples/sql/JavaSparkSQLExample.java\n",
            "spark-2.4.5-bin-hadoop2.7/examples/src/main/scala/\n",
            "spark-2.4.5-bin-hadoop2.7/examples/src/main/scala/org/\n",
            "spark-2.4.5-bin-hadoop2.7/examples/src/main/scala/org/apache/\n",
            "spark-2.4.5-bin-hadoop2.7/examples/src/main/scala/org/apache/spark/\n",
            "spark-2.4.5-bin-hadoop2.7/examples/src/main/scala/org/apache/spark/examples/\n",
            "spark-2.4.5-bin-hadoop2.7/examples/src/main/scala/org/apache/spark/examples/SparkTC.scala\n",
            "spark-2.4.5-bin-hadoop2.7/examples/src/main/scala/org/apache/spark/examples/SparkRemoteFileTest.scala\n",
            "spark-2.4.5-bin-hadoop2.7/examples/src/main/scala/org/apache/spark/examples/SparkPi.scala\n",
            "spark-2.4.5-bin-hadoop2.7/examples/src/main/scala/org/apache/spark/examples/SparkPageRank.scala\n",
            "spark-2.4.5-bin-hadoop2.7/examples/src/main/scala/org/apache/spark/examples/SparkLR.scala\n",
            "spark-2.4.5-bin-hadoop2.7/examples/src/main/scala/org/apache/spark/examples/SparkKMeans.scala\n",
            "spark-2.4.5-bin-hadoop2.7/examples/src/main/scala/org/apache/spark/examples/SparkHdfsLR.scala\n",
            "spark-2.4.5-bin-hadoop2.7/examples/src/main/scala/org/apache/spark/examples/SparkALS.scala\n",
            "spark-2.4.5-bin-hadoop2.7/examples/src/main/scala/org/apache/spark/examples/SkewedGroupByTest.scala\n",
            "spark-2.4.5-bin-hadoop2.7/examples/src/main/scala/org/apache/spark/examples/SimpleSkewedGroupByTest.scala\n",
            "spark-2.4.5-bin-hadoop2.7/examples/src/main/scala/org/apache/spark/examples/MultiBroadcastTest.scala\n",
            "spark-2.4.5-bin-hadoop2.7/examples/src/main/scala/org/apache/spark/examples/LogQuery.scala\n",
            "spark-2.4.5-bin-hadoop2.7/examples/src/main/scala/org/apache/spark/examples/LocalPi.scala\n",
            "spark-2.4.5-bin-hadoop2.7/examples/src/main/scala/org/apache/spark/examples/LocalLR.scala\n",
            "spark-2.4.5-bin-hadoop2.7/examples/src/main/scala/org/apache/spark/examples/LocalKMeans.scala\n",
            "spark-2.4.5-bin-hadoop2.7/examples/src/main/scala/org/apache/spark/examples/LocalFileLR.scala\n",
            "spark-2.4.5-bin-hadoop2.7/examples/src/main/scala/org/apache/spark/examples/LocalALS.scala\n",
            "spark-2.4.5-bin-hadoop2.7/examples/src/main/scala/org/apache/spark/examples/HdfsTest.scala\n",
            "spark-2.4.5-bin-hadoop2.7/examples/src/main/scala/org/apache/spark/examples/GroupByTest.scala\n",
            "spark-2.4.5-bin-hadoop2.7/examples/src/main/scala/org/apache/spark/examples/ExceptionHandlingTest.scala\n",
            "spark-2.4.5-bin-hadoop2.7/examples/src/main/scala/org/apache/spark/examples/DriverSubmissionTest.scala\n",
            "spark-2.4.5-bin-hadoop2.7/examples/src/main/scala/org/apache/spark/examples/DFSReadWriteTest.scala\n",
            "spark-2.4.5-bin-hadoop2.7/examples/src/main/scala/org/apache/spark/examples/BroadcastTest.scala\n",
            "spark-2.4.5-bin-hadoop2.7/examples/src/main/scala/org/apache/spark/examples/streaming/\n",
            "spark-2.4.5-bin-hadoop2.7/examples/src/main/scala/org/apache/spark/examples/streaming/StreamingExamples.scala\n",
            "spark-2.4.5-bin-hadoop2.7/examples/src/main/scala/org/apache/spark/examples/streaming/StatefulNetworkWordCount.scala\n",
            "spark-2.4.5-bin-hadoop2.7/examples/src/main/scala/org/apache/spark/examples/streaming/SqlNetworkWordCount.scala\n",
            "spark-2.4.5-bin-hadoop2.7/examples/src/main/scala/org/apache/spark/examples/streaming/RecoverableNetworkWordCount.scala\n",
            "spark-2.4.5-bin-hadoop2.7/examples/src/main/scala/org/apache/spark/examples/streaming/RawNetworkGrep.scala\n",
            "spark-2.4.5-bin-hadoop2.7/examples/src/main/scala/org/apache/spark/examples/streaming/QueueStream.scala\n",
            "spark-2.4.5-bin-hadoop2.7/examples/src/main/scala/org/apache/spark/examples/streaming/NetworkWordCount.scala\n",
            "spark-2.4.5-bin-hadoop2.7/examples/src/main/scala/org/apache/spark/examples/streaming/HdfsWordCount.scala\n",
            "spark-2.4.5-bin-hadoop2.7/examples/src/main/scala/org/apache/spark/examples/streaming/DirectKafkaWordCount.scala\n",
            "spark-2.4.5-bin-hadoop2.7/examples/src/main/scala/org/apache/spark/examples/streaming/CustomReceiver.scala\n",
            "spark-2.4.5-bin-hadoop2.7/examples/src/main/scala/org/apache/spark/examples/streaming/clickstream/\n",
            "spark-2.4.5-bin-hadoop2.7/examples/src/main/scala/org/apache/spark/examples/streaming/clickstream/PageViewStream.scala\n",
            "spark-2.4.5-bin-hadoop2.7/examples/src/main/scala/org/apache/spark/examples/streaming/clickstream/PageViewGenerator.scala\n",
            "spark-2.4.5-bin-hadoop2.7/examples/src/main/scala/org/apache/spark/examples/sql/\n",
            "spark-2.4.5-bin-hadoop2.7/examples/src/main/scala/org/apache/spark/examples/sql/UserDefinedUntypedAggregation.scala\n",
            "spark-2.4.5-bin-hadoop2.7/examples/src/main/scala/org/apache/spark/examples/sql/SparkSQLExample.scala\n",
            "spark-2.4.5-bin-hadoop2.7/examples/src/main/scala/org/apache/spark/examples/sql/SQLDataSourceExample.scala\n",
            "spark-2.4.5-bin-hadoop2.7/examples/src/main/scala/org/apache/spark/examples/sql/RDDRelation.scala\n",
            "spark-2.4.5-bin-hadoop2.7/examples/src/main/scala/org/apache/spark/examples/sql/streaming/\n",
            "spark-2.4.5-bin-hadoop2.7/examples/src/main/scala/org/apache/spark/examples/sql/streaming/StructuredNetworkWordCountWindowed.scala\n",
            "spark-2.4.5-bin-hadoop2.7/examples/src/main/scala/org/apache/spark/examples/sql/streaming/StructuredNetworkWordCount.scala\n",
            "spark-2.4.5-bin-hadoop2.7/examples/src/main/scala/org/apache/spark/examples/sql/streaming/StructuredSessionization.scala\n",
            "spark-2.4.5-bin-hadoop2.7/examples/src/main/scala/org/apache/spark/examples/sql/streaming/StructuredKafkaWordCount.scala\n",
            "spark-2.4.5-bin-hadoop2.7/examples/src/main/scala/org/apache/spark/examples/sql/hive/\n",
            "spark-2.4.5-bin-hadoop2.7/examples/src/main/scala/org/apache/spark/examples/sql/hive/SparkHiveExample.scala\n",
            "spark-2.4.5-bin-hadoop2.7/examples/src/main/scala/org/apache/spark/examples/sql/UserDefinedTypedAggregation.scala\n",
            "spark-2.4.5-bin-hadoop2.7/examples/src/main/scala/org/apache/spark/examples/pythonconverters/\n",
            "spark-2.4.5-bin-hadoop2.7/examples/src/main/scala/org/apache/spark/examples/pythonconverters/AvroConverters.scala\n",
            "spark-2.4.5-bin-hadoop2.7/examples/src/main/scala/org/apache/spark/examples/mllib/\n",
            "spark-2.4.5-bin-hadoop2.7/examples/src/main/scala/org/apache/spark/examples/mllib/TallSkinnySVD.scala\n",
            "spark-2.4.5-bin-hadoop2.7/examples/src/main/scala/org/apache/spark/examples/mllib/TallSkinnyPCA.scala\n",
            "spark-2.4.5-bin-hadoop2.7/examples/src/main/scala/org/apache/spark/examples/mllib/StreamingTestExample.scala\n",
            "spark-2.4.5-bin-hadoop2.7/examples/src/main/scala/org/apache/spark/examples/mllib/StreamingLogisticRegression.scala\n",
            "spark-2.4.5-bin-hadoop2.7/examples/src/main/scala/org/apache/spark/examples/mllib/StreamingKMeansExample.scala\n",
            "spark-2.4.5-bin-hadoop2.7/examples/src/main/scala/org/apache/spark/examples/mllib/SparseNaiveBayes.scala\n",
            "spark-2.4.5-bin-hadoop2.7/examples/src/main/scala/org/apache/spark/examples/mllib/SimpleFPGrowth.scala\n",
            "spark-2.4.5-bin-hadoop2.7/examples/src/main/scala/org/apache/spark/examples/mllib/SampledRDDs.scala\n",
            "spark-2.4.5-bin-hadoop2.7/examples/src/main/scala/org/apache/spark/examples/mllib/RegressionMetricsExample.scala\n",
            "spark-2.4.5-bin-hadoop2.7/examples/src/main/scala/org/apache/spark/examples/mllib/RankingMetricsExample.scala\n",
            "spark-2.4.5-bin-hadoop2.7/examples/src/main/scala/org/apache/spark/examples/mllib/RandomRDDGeneration.scala\n",
            "spark-2.4.5-bin-hadoop2.7/examples/src/main/scala/org/apache/spark/examples/mllib/PrefixSpanExample.scala\n",
            "spark-2.4.5-bin-hadoop2.7/examples/src/main/scala/org/apache/spark/examples/mllib/PowerIterationClusteringExample.scala\n",
            "spark-2.4.5-bin-hadoop2.7/examples/src/main/scala/org/apache/spark/examples/mllib/PCAExample.scala\n",
            "spark-2.4.5-bin-hadoop2.7/examples/src/main/scala/org/apache/spark/examples/mllib/MultivariateSummarizer.scala\n",
            "spark-2.4.5-bin-hadoop2.7/examples/src/main/scala/org/apache/spark/examples/mllib/MovieLensALS.scala\n",
            "spark-2.4.5-bin-hadoop2.7/examples/src/main/scala/org/apache/spark/examples/mllib/LinearRegressionWithSGDExample.scala\n",
            "spark-2.4.5-bin-hadoop2.7/examples/src/main/scala/org/apache/spark/examples/mllib/LinearRegression.scala\n",
            "spark-2.4.5-bin-hadoop2.7/examples/src/main/scala/org/apache/spark/examples/mllib/LatentDirichletAllocationExample.scala\n",
            "spark-2.4.5-bin-hadoop2.7/examples/src/main/scala/org/apache/spark/examples/mllib/LDAExample.scala\n",
            "spark-2.4.5-bin-hadoop2.7/examples/src/main/scala/org/apache/spark/examples/mllib/KMeansExample.scala\n",
            "spark-2.4.5-bin-hadoop2.7/examples/src/main/scala/org/apache/spark/examples/mllib/HypothesisTestingExample.scala\n",
            "spark-2.4.5-bin-hadoop2.7/examples/src/main/scala/org/apache/spark/examples/mllib/GradientBoostedTreesRunner.scala\n",
            "spark-2.4.5-bin-hadoop2.7/examples/src/main/scala/org/apache/spark/examples/mllib/GaussianMixtureExample.scala\n",
            "spark-2.4.5-bin-hadoop2.7/examples/src/main/scala/org/apache/spark/examples/mllib/FPGrowthExample.scala\n",
            "spark-2.4.5-bin-hadoop2.7/examples/src/main/scala/org/apache/spark/examples/mllib/ElementwiseProductExample.scala\n",
            "spark-2.4.5-bin-hadoop2.7/examples/src/main/scala/org/apache/spark/examples/mllib/DenseKMeans.scala\n",
            "spark-2.4.5-bin-hadoop2.7/examples/src/main/scala/org/apache/spark/examples/mllib/DecisionTreeRunner.scala\n",
            "spark-2.4.5-bin-hadoop2.7/examples/src/main/scala/org/apache/spark/examples/mllib/CosineSimilarity.scala\n",
            "spark-2.4.5-bin-hadoop2.7/examples/src/main/scala/org/apache/spark/examples/mllib/Correlations.scala\n",
            "spark-2.4.5-bin-hadoop2.7/examples/src/main/scala/org/apache/spark/examples/mllib/BisectingKMeansExample.scala\n",
            "spark-2.4.5-bin-hadoop2.7/examples/src/main/scala/org/apache/spark/examples/mllib/BinaryClassification.scala\n",
            "spark-2.4.5-bin-hadoop2.7/examples/src/main/scala/org/apache/spark/examples/mllib/AssociationRulesExample.scala\n",
            "spark-2.4.5-bin-hadoop2.7/examples/src/main/scala/org/apache/spark/examples/mllib/Word2VecExample.scala\n",
            "spark-2.4.5-bin-hadoop2.7/examples/src/main/scala/org/apache/spark/examples/mllib/TFIDFExample.scala\n",
            "spark-2.4.5-bin-hadoop2.7/examples/src/main/scala/org/apache/spark/examples/mllib/SummaryStatisticsExample.scala\n",
            "spark-2.4.5-bin-hadoop2.7/examples/src/main/scala/org/apache/spark/examples/mllib/StreamingLinearRegressionExample.scala\n",
            "spark-2.4.5-bin-hadoop2.7/examples/src/main/scala/org/apache/spark/examples/mllib/StratifiedSamplingExample.scala\n",
            "spark-2.4.5-bin-hadoop2.7/examples/src/main/scala/org/apache/spark/examples/mllib/StandardScalerExample.scala\n",
            "spark-2.4.5-bin-hadoop2.7/examples/src/main/scala/org/apache/spark/examples/mllib/SVMWithSGDExample.scala\n",
            "spark-2.4.5-bin-hadoop2.7/examples/src/main/scala/org/apache/spark/examples/mllib/SVDExample.scala\n",
            "spark-2.4.5-bin-hadoop2.7/examples/src/main/scala/org/apache/spark/examples/mllib/RecommendationExample.scala\n",
            "spark-2.4.5-bin-hadoop2.7/examples/src/main/scala/org/apache/spark/examples/mllib/RandomForestRegressionExample.scala\n",
            "spark-2.4.5-bin-hadoop2.7/examples/src/main/scala/org/apache/spark/examples/mllib/RandomForestClassificationExample.scala\n",
            "spark-2.4.5-bin-hadoop2.7/examples/src/main/scala/org/apache/spark/examples/mllib/PMMLModelExportExample.scala\n",
            "spark-2.4.5-bin-hadoop2.7/examples/src/main/scala/org/apache/spark/examples/mllib/PCAOnSourceVectorExample.scala\n",
            "spark-2.4.5-bin-hadoop2.7/examples/src/main/scala/org/apache/spark/examples/mllib/PCAOnRowMatrixExample.scala\n",
            "spark-2.4.5-bin-hadoop2.7/examples/src/main/scala/org/apache/spark/examples/mllib/NormalizerExample.scala\n",
            "spark-2.4.5-bin-hadoop2.7/examples/src/main/scala/org/apache/spark/examples/mllib/NaiveBayesExample.scala\n",
            "spark-2.4.5-bin-hadoop2.7/examples/src/main/scala/org/apache/spark/examples/mllib/MulticlassMetricsExample.scala\n",
            "spark-2.4.5-bin-hadoop2.7/examples/src/main/scala/org/apache/spark/examples/mllib/MultiLabelMetricsExample.scala\n",
            "spark-2.4.5-bin-hadoop2.7/examples/src/main/scala/org/apache/spark/examples/mllib/LogisticRegressionWithLBFGSExample.scala\n",
            "spark-2.4.5-bin-hadoop2.7/examples/src/main/scala/org/apache/spark/examples/mllib/LBFGSExample.scala\n",
            "spark-2.4.5-bin-hadoop2.7/examples/src/main/scala/org/apache/spark/examples/mllib/KernelDensityEstimationExample.scala\n",
            "spark-2.4.5-bin-hadoop2.7/examples/src/main/scala/org/apache/spark/examples/mllib/IsotonicRegressionExample.scala\n",
            "spark-2.4.5-bin-hadoop2.7/examples/src/main/scala/org/apache/spark/examples/mllib/HypothesisTestingKolmogorovSmirnovTestExample.scala\n",
            "spark-2.4.5-bin-hadoop2.7/examples/src/main/scala/org/apache/spark/examples/mllib/GradientBoostingRegressionExample.scala\n",
            "spark-2.4.5-bin-hadoop2.7/examples/src/main/scala/org/apache/spark/examples/mllib/GradientBoostingClassificationExample.scala\n",
            "spark-2.4.5-bin-hadoop2.7/examples/src/main/scala/org/apache/spark/examples/mllib/DecisionTreeRegressionExample.scala\n",
            "spark-2.4.5-bin-hadoop2.7/examples/src/main/scala/org/apache/spark/examples/mllib/DecisionTreeClassificationExample.scala\n",
            "spark-2.4.5-bin-hadoop2.7/examples/src/main/scala/org/apache/spark/examples/mllib/CorrelationsExample.scala\n",
            "spark-2.4.5-bin-hadoop2.7/examples/src/main/scala/org/apache/spark/examples/mllib/ChiSqSelectorExample.scala\n",
            "spark-2.4.5-bin-hadoop2.7/examples/src/main/scala/org/apache/spark/examples/mllib/BinaryClassificationMetricsExample.scala\n",
            "spark-2.4.5-bin-hadoop2.7/examples/src/main/scala/org/apache/spark/examples/mllib/AbstractParams.scala\n",
            "spark-2.4.5-bin-hadoop2.7/examples/src/main/scala/org/apache/spark/examples/ml/\n",
            "spark-2.4.5-bin-hadoop2.7/examples/src/main/scala/org/apache/spark/examples/ml/Word2VecExample.scala\n",
            "spark-2.4.5-bin-hadoop2.7/examples/src/main/scala/org/apache/spark/examples/ml/UnaryTransformerExample.scala\n",
            "spark-2.4.5-bin-hadoop2.7/examples/src/main/scala/org/apache/spark/examples/ml/TfIdfExample.scala\n",
            "spark-2.4.5-bin-hadoop2.7/examples/src/main/scala/org/apache/spark/examples/ml/SQLTransformerExample.scala\n",
            "spark-2.4.5-bin-hadoop2.7/examples/src/main/scala/org/apache/spark/examples/ml/RandomForestExample.scala\n",
            "spark-2.4.5-bin-hadoop2.7/examples/src/main/scala/org/apache/spark/examples/ml/RandomForestClassifierExample.scala\n",
            "spark-2.4.5-bin-hadoop2.7/examples/src/main/scala/org/apache/spark/examples/ml/QuantileDiscretizerExample.scala\n",
            "spark-2.4.5-bin-hadoop2.7/examples/src/main/scala/org/apache/spark/examples/ml/PrefixSpanExample.scala\n",
            "spark-2.4.5-bin-hadoop2.7/examples/src/main/scala/org/apache/spark/examples/ml/OneVsRestExample.scala\n",
            "spark-2.4.5-bin-hadoop2.7/examples/src/main/scala/org/apache/spark/examples/ml/OneHotEncoderEstimatorExample.scala\n",
            "spark-2.4.5-bin-hadoop2.7/examples/src/main/scala/org/apache/spark/examples/ml/LogisticRegressionExample.scala\n",
            "spark-2.4.5-bin-hadoop2.7/examples/src/main/scala/org/apache/spark/examples/ml/LinearRegressionExample.scala\n",
            "spark-2.4.5-bin-hadoop2.7/examples/src/main/scala/org/apache/spark/examples/ml/IndexToStringExample.scala\n",
            "spark-2.4.5-bin-hadoop2.7/examples/src/main/scala/org/apache/spark/examples/ml/GradientBoostedTreeClassifierExample.scala\n",
            "spark-2.4.5-bin-hadoop2.7/examples/src/main/scala/org/apache/spark/examples/ml/GBTExample.scala\n",
            "spark-2.4.5-bin-hadoop2.7/examples/src/main/scala/org/apache/spark/examples/ml/FPGrowthExample.scala\n",
            "spark-2.4.5-bin-hadoop2.7/examples/src/main/scala/org/apache/spark/examples/ml/DeveloperApiExample.scala\n",
            "spark-2.4.5-bin-hadoop2.7/examples/src/main/scala/org/apache/spark/examples/ml/DecisionTreeExample.scala\n",
            "spark-2.4.5-bin-hadoop2.7/examples/src/main/scala/org/apache/spark/examples/ml/DecisionTreeClassificationExample.scala\n",
            "spark-2.4.5-bin-hadoop2.7/examples/src/main/scala/org/apache/spark/examples/ml/DataFrameExample.scala\n",
            "spark-2.4.5-bin-hadoop2.7/examples/src/main/scala/org/apache/spark/examples/ml/CountVectorizerExample.scala\n",
            "spark-2.4.5-bin-hadoop2.7/examples/src/main/scala/org/apache/spark/examples/ml/ChiSqSelectorExample.scala\n",
            "spark-2.4.5-bin-hadoop2.7/examples/src/main/scala/org/apache/spark/examples/ml/BisectingKMeansExample.scala\n",
            "spark-2.4.5-bin-hadoop2.7/examples/src/main/scala/org/apache/spark/examples/ml/ALSExample.scala\n",
            "spark-2.4.5-bin-hadoop2.7/examples/src/main/scala/org/apache/spark/examples/ml/VectorSlicerExample.scala\n",
            "spark-2.4.5-bin-hadoop2.7/examples/src/main/scala/org/apache/spark/examples/ml/VectorSizeHintExample.scala\n",
            "spark-2.4.5-bin-hadoop2.7/examples/src/main/scala/org/apache/spark/examples/ml/VectorIndexerExample.scala\n",
            "spark-2.4.5-bin-hadoop2.7/examples/src/main/scala/org/apache/spark/examples/ml/VectorAssemblerExample.scala\n",
            "spark-2.4.5-bin-hadoop2.7/examples/src/main/scala/org/apache/spark/examples/ml/TokenizerExample.scala\n",
            "spark-2.4.5-bin-hadoop2.7/examples/src/main/scala/org/apache/spark/examples/ml/SummarizerExample.scala\n",
            "spark-2.4.5-bin-hadoop2.7/examples/src/main/scala/org/apache/spark/examples/ml/StringIndexerExample.scala\n",
            "spark-2.4.5-bin-hadoop2.7/examples/src/main/scala/org/apache/spark/examples/ml/StopWordsRemoverExample.scala\n",
            "spark-2.4.5-bin-hadoop2.7/examples/src/main/scala/org/apache/spark/examples/ml/StandardScalerExample.scala\n",
            "spark-2.4.5-bin-hadoop2.7/examples/src/main/scala/org/apache/spark/examples/ml/RandomForestRegressorExample.scala\n",
            "spark-2.4.5-bin-hadoop2.7/examples/src/main/scala/org/apache/spark/examples/ml/RFormulaExample.scala\n",
            "spark-2.4.5-bin-hadoop2.7/examples/src/main/scala/org/apache/spark/examples/ml/PowerIterationClusteringExample.scala\n",
            "spark-2.4.5-bin-hadoop2.7/examples/src/main/scala/org/apache/spark/examples/ml/PolynomialExpansionExample.scala\n",
            "spark-2.4.5-bin-hadoop2.7/examples/src/main/scala/org/apache/spark/examples/ml/PipelineExample.scala\n",
            "spark-2.4.5-bin-hadoop2.7/examples/src/main/scala/org/apache/spark/examples/ml/BinarizerExample.scala\n",
            "spark-2.4.5-bin-hadoop2.7/examples/src/main/scala/org/apache/spark/examples/ml/AFTSurvivalRegressionExample.scala\n",
            "spark-2.4.5-bin-hadoop2.7/examples/src/main/scala/org/apache/spark/examples/ml/PCAExample.scala\n",
            "spark-2.4.5-bin-hadoop2.7/examples/src/main/scala/org/apache/spark/examples/ml/NormalizerExample.scala\n",
            "spark-2.4.5-bin-hadoop2.7/examples/src/main/scala/org/apache/spark/examples/ml/NaiveBayesExample.scala\n",
            "spark-2.4.5-bin-hadoop2.7/examples/src/main/scala/org/apache/spark/examples/ml/NGramExample.scala\n",
            "spark-2.4.5-bin-hadoop2.7/examples/src/main/scala/org/apache/spark/examples/ml/MultilayerPerceptronClassifierExample.scala\n",
            "spark-2.4.5-bin-hadoop2.7/examples/src/main/scala/org/apache/spark/examples/ml/MulticlassLogisticRegressionWithElasticNetExample.scala\n",
            "spark-2.4.5-bin-hadoop2.7/examples/src/main/scala/org/apache/spark/examples/ml/ModelSelectionViaTrainValidationSplitExample.scala\n",
            "spark-2.4.5-bin-hadoop2.7/examples/src/main/scala/org/apache/spark/examples/ml/ModelSelectionViaCrossValidationExample.scala\n",
            "spark-2.4.5-bin-hadoop2.7/examples/src/main/scala/org/apache/spark/examples/ml/MinMaxScalerExample.scala\n",
            "spark-2.4.5-bin-hadoop2.7/examples/src/main/scala/org/apache/spark/examples/ml/MinHashLSHExample.scala\n",
            "spark-2.4.5-bin-hadoop2.7/examples/src/main/scala/org/apache/spark/examples/ml/MaxAbsScalerExample.scala\n",
            "spark-2.4.5-bin-hadoop2.7/examples/src/main/scala/org/apache/spark/examples/ml/LogisticRegressionWithElasticNetExample.scala\n",
            "spark-2.4.5-bin-hadoop2.7/examples/src/main/scala/org/apache/spark/examples/ml/LogisticRegressionSummaryExample.scala\n",
            "spark-2.4.5-bin-hadoop2.7/examples/src/main/scala/org/apache/spark/examples/ml/LinearSVCExample.scala\n",
            "spark-2.4.5-bin-hadoop2.7/examples/src/main/scala/org/apache/spark/examples/ml/LinearRegressionWithElasticNetExample.scala\n",
            "spark-2.4.5-bin-hadoop2.7/examples/src/main/scala/org/apache/spark/examples/ml/LDAExample.scala\n",
            "spark-2.4.5-bin-hadoop2.7/examples/src/main/scala/org/apache/spark/examples/ml/KMeansExample.scala\n",
            "spark-2.4.5-bin-hadoop2.7/examples/src/main/scala/org/apache/spark/examples/ml/IsotonicRegressionExample.scala\n",
            "spark-2.4.5-bin-hadoop2.7/examples/src/main/scala/org/apache/spark/examples/ml/InteractionExample.scala\n",
            "spark-2.4.5-bin-hadoop2.7/examples/src/main/scala/org/apache/spark/examples/ml/ImputerExample.scala\n",
            "spark-2.4.5-bin-hadoop2.7/examples/src/main/scala/org/apache/spark/examples/ml/GradientBoostedTreeRegressorExample.scala\n",
            "spark-2.4.5-bin-hadoop2.7/examples/src/main/scala/org/apache/spark/examples/ml/GeneralizedLinearRegressionExample.scala\n",
            "spark-2.4.5-bin-hadoop2.7/examples/src/main/scala/org/apache/spark/examples/ml/GaussianMixtureExample.scala\n",
            "spark-2.4.5-bin-hadoop2.7/examples/src/main/scala/org/apache/spark/examples/ml/FeatureHasherExample.scala\n",
            "spark-2.4.5-bin-hadoop2.7/examples/src/main/scala/org/apache/spark/examples/ml/EstimatorTransformerParamExample.scala\n",
            "spark-2.4.5-bin-hadoop2.7/examples/src/main/scala/org/apache/spark/examples/ml/ElementwiseProductExample.scala\n",
            "spark-2.4.5-bin-hadoop2.7/examples/src/main/scala/org/apache/spark/examples/ml/DecisionTreeRegressionExample.scala\n",
            "spark-2.4.5-bin-hadoop2.7/examples/src/main/scala/org/apache/spark/examples/ml/DCTExample.scala\n",
            "spark-2.4.5-bin-hadoop2.7/examples/src/main/scala/org/apache/spark/examples/ml/CorrelationExample.scala\n",
            "spark-2.4.5-bin-hadoop2.7/examples/src/main/scala/org/apache/spark/examples/ml/ChiSquareTestExample.scala\n",
            "spark-2.4.5-bin-hadoop2.7/examples/src/main/scala/org/apache/spark/examples/ml/BucketizerExample.scala\n",
            "spark-2.4.5-bin-hadoop2.7/examples/src/main/scala/org/apache/spark/examples/ml/BucketedRandomProjectionLSHExample.scala\n",
            "spark-2.4.5-bin-hadoop2.7/examples/src/main/scala/org/apache/spark/examples/graphx/\n",
            "spark-2.4.5-bin-hadoop2.7/examples/src/main/scala/org/apache/spark/examples/graphx/SynthBenchmark.scala\n",
            "spark-2.4.5-bin-hadoop2.7/examples/src/main/scala/org/apache/spark/examples/graphx/LiveJournalPageRank.scala\n",
            "spark-2.4.5-bin-hadoop2.7/examples/src/main/scala/org/apache/spark/examples/graphx/TriangleCountingExample.scala\n",
            "spark-2.4.5-bin-hadoop2.7/examples/src/main/scala/org/apache/spark/examples/graphx/SSSPExample.scala\n",
            "spark-2.4.5-bin-hadoop2.7/examples/src/main/scala/org/apache/spark/examples/graphx/PageRankExample.scala\n",
            "spark-2.4.5-bin-hadoop2.7/examples/src/main/scala/org/apache/spark/examples/graphx/ConnectedComponentsExample.scala\n",
            "spark-2.4.5-bin-hadoop2.7/examples/src/main/scala/org/apache/spark/examples/graphx/ComprehensiveExample.scala\n",
            "spark-2.4.5-bin-hadoop2.7/examples/src/main/scala/org/apache/spark/examples/graphx/Analytics.scala\n",
            "spark-2.4.5-bin-hadoop2.7/examples/src/main/scala/org/apache/spark/examples/graphx/AggregateMessagesExample.scala\n",
            "spark-2.4.5-bin-hadoop2.7/examples/src/main/resources/\n",
            "spark-2.4.5-bin-hadoop2.7/examples/src/main/resources/users.parquet\n",
            "spark-2.4.5-bin-hadoop2.7/examples/src/main/resources/users.orc\n",
            "spark-2.4.5-bin-hadoop2.7/examples/src/main/resources/users.avro\n",
            "spark-2.4.5-bin-hadoop2.7/examples/src/main/resources/user.avsc\n",
            "spark-2.4.5-bin-hadoop2.7/examples/src/main/resources/people.txt\n",
            "spark-2.4.5-bin-hadoop2.7/examples/src/main/resources/people.json\n",
            "spark-2.4.5-bin-hadoop2.7/examples/src/main/resources/people.csv\n",
            "spark-2.4.5-bin-hadoop2.7/examples/src/main/resources/kv1.txt\n",
            "spark-2.4.5-bin-hadoop2.7/examples/src/main/resources/full_user.avsc\n",
            "spark-2.4.5-bin-hadoop2.7/examples/src/main/resources/employees.json\n",
            "spark-2.4.5-bin-hadoop2.7/examples/src/main/r/\n",
            "spark-2.4.5-bin-hadoop2.7/examples/src/main/r/RSparkSQLExample.R\n",
            "spark-2.4.5-bin-hadoop2.7/examples/src/main/r/streaming/\n",
            "spark-2.4.5-bin-hadoop2.7/examples/src/main/r/streaming/structured_network_wordcount.R\n",
            "spark-2.4.5-bin-hadoop2.7/examples/src/main/r/ml/\n",
            "spark-2.4.5-bin-hadoop2.7/examples/src/main/r/ml/svmLinear.R\n",
            "spark-2.4.5-bin-hadoop2.7/examples/src/main/r/ml/survreg.R\n",
            "spark-2.4.5-bin-hadoop2.7/examples/src/main/r/ml/randomForest.R\n",
            "spark-2.4.5-bin-hadoop2.7/examples/src/main/r/ml/naiveBayes.R\n",
            "spark-2.4.5-bin-hadoop2.7/examples/src/main/r/ml/mlp.R\n",
            "spark-2.4.5-bin-hadoop2.7/examples/src/main/r/ml/ml.R\n",
            "spark-2.4.5-bin-hadoop2.7/examples/src/main/r/ml/logit.R\n",
            "spark-2.4.5-bin-hadoop2.7/examples/src/main/r/ml/lda.R\n",
            "spark-2.4.5-bin-hadoop2.7/examples/src/main/r/ml/kstest.R\n",
            "spark-2.4.5-bin-hadoop2.7/examples/src/main/r/ml/kmeans.R\n",
            "spark-2.4.5-bin-hadoop2.7/examples/src/main/r/ml/isoreg.R\n",
            "spark-2.4.5-bin-hadoop2.7/examples/src/main/r/ml/glm.R\n",
            "spark-2.4.5-bin-hadoop2.7/examples/src/main/r/ml/gbt.R\n",
            "spark-2.4.5-bin-hadoop2.7/examples/src/main/r/ml/gaussianMixture.R\n",
            "spark-2.4.5-bin-hadoop2.7/examples/src/main/r/ml/fpm.R\n",
            "spark-2.4.5-bin-hadoop2.7/examples/src/main/r/ml/decisionTree.R\n",
            "spark-2.4.5-bin-hadoop2.7/examples/src/main/r/ml/bisectingKmeans.R\n",
            "spark-2.4.5-bin-hadoop2.7/examples/src/main/r/ml/als.R\n",
            "spark-2.4.5-bin-hadoop2.7/examples/src/main/r/dataframe.R\n",
            "spark-2.4.5-bin-hadoop2.7/examples/src/main/r/data-manipulation.R\n",
            "spark-2.4.5-bin-hadoop2.7/examples/src/main/python/\n",
            "spark-2.4.5-bin-hadoop2.7/examples/src/main/python/wordcount.py\n",
            "spark-2.4.5-bin-hadoop2.7/examples/src/main/python/transitive_closure.py\n",
            "spark-2.4.5-bin-hadoop2.7/examples/src/main/python/streaming/\n",
            "spark-2.4.5-bin-hadoop2.7/examples/src/main/python/streaming/recoverable_network_wordcount.py\n",
            "spark-2.4.5-bin-hadoop2.7/examples/src/main/python/streaming/kafka_wordcount.py\n",
            "spark-2.4.5-bin-hadoop2.7/examples/src/main/python/streaming/flume_wordcount.py\n",
            "spark-2.4.5-bin-hadoop2.7/examples/src/main/python/streaming/direct_kafka_wordcount.py\n",
            "spark-2.4.5-bin-hadoop2.7/examples/src/main/python/streaming/stateful_network_wordcount.py\n",
            "spark-2.4.5-bin-hadoop2.7/examples/src/main/python/streaming/sql_network_wordcount.py\n",
            "spark-2.4.5-bin-hadoop2.7/examples/src/main/python/streaming/queue_stream.py\n",
            "spark-2.4.5-bin-hadoop2.7/examples/src/main/python/streaming/network_wordjoinsentiments.py\n",
            "spark-2.4.5-bin-hadoop2.7/examples/src/main/python/streaming/network_wordcount.py\n",
            "spark-2.4.5-bin-hadoop2.7/examples/src/main/python/streaming/hdfs_wordcount.py\n",
            "spark-2.4.5-bin-hadoop2.7/examples/src/main/python/status_api_demo.py\n",
            "spark-2.4.5-bin-hadoop2.7/examples/src/main/python/sql/\n",
            "spark-2.4.5-bin-hadoop2.7/examples/src/main/python/sql/hive.py\n",
            "spark-2.4.5-bin-hadoop2.7/examples/src/main/python/sql/datasource.py\n",
            "spark-2.4.5-bin-hadoop2.7/examples/src/main/python/sql/arrow.py\n",
            "spark-2.4.5-bin-hadoop2.7/examples/src/main/python/sql/streaming/\n",
            "spark-2.4.5-bin-hadoop2.7/examples/src/main/python/sql/streaming/structured_network_wordcount_windowed.py\n",
            "spark-2.4.5-bin-hadoop2.7/examples/src/main/python/sql/streaming/structured_network_wordcount.py\n",
            "spark-2.4.5-bin-hadoop2.7/examples/src/main/python/sql/streaming/structured_kafka_wordcount.py\n",
            "spark-2.4.5-bin-hadoop2.7/examples/src/main/python/sql/basic.py\n",
            "spark-2.4.5-bin-hadoop2.7/examples/src/main/python/sort.py\n",
            "spark-2.4.5-bin-hadoop2.7/examples/src/main/python/pi.py\n",
            "spark-2.4.5-bin-hadoop2.7/examples/src/main/python/parquet_inputformat.py\n",
            "spark-2.4.5-bin-hadoop2.7/examples/src/main/python/pagerank.py\n",
            "spark-2.4.5-bin-hadoop2.7/examples/src/main/python/mllib/\n",
            "spark-2.4.5-bin-hadoop2.7/examples/src/main/python/mllib/standard_scaler_example.py\n",
            "spark-2.4.5-bin-hadoop2.7/examples/src/main/python/mllib/ranking_metrics_example.py\n",
            "spark-2.4.5-bin-hadoop2.7/examples/src/main/python/mllib/multi_class_metrics_example.py\n",
            "spark-2.4.5-bin-hadoop2.7/examples/src/main/python/mllib/isotonic_regression_example.py\n",
            "spark-2.4.5-bin-hadoop2.7/examples/src/main/python/mllib/bisecting_k_means_example.py\n",
            "spark-2.4.5-bin-hadoop2.7/examples/src/main/python/mllib/word2vec_example.py\n",
            "spark-2.4.5-bin-hadoop2.7/examples/src/main/python/mllib/word2vec.py\n",
            "spark-2.4.5-bin-hadoop2.7/examples/src/main/python/mllib/tf_idf_example.py\n",
            "spark-2.4.5-bin-hadoop2.7/examples/src/main/python/mllib/svm_with_sgd_example.py\n",
            "spark-2.4.5-bin-hadoop2.7/examples/src/main/python/mllib/svd_example.py\n",
            "spark-2.4.5-bin-hadoop2.7/examples/src/main/python/mllib/summary_statistics_example.py\n",
            "spark-2.4.5-bin-hadoop2.7/examples/src/main/python/mllib/streaming_linear_regression_example.py\n",
            "spark-2.4.5-bin-hadoop2.7/examples/src/main/python/mllib/streaming_k_means_example.py\n",
            "spark-2.4.5-bin-hadoop2.7/examples/src/main/python/mllib/stratified_sampling_example.py\n",
            "spark-2.4.5-bin-hadoop2.7/examples/src/main/python/mllib/sampled_rdds.py\n",
            "spark-2.4.5-bin-hadoop2.7/examples/src/main/python/mllib/regression_metrics_example.py\n",
            "spark-2.4.5-bin-hadoop2.7/examples/src/main/python/mllib/recommendation_example.py\n",
            "spark-2.4.5-bin-hadoop2.7/examples/src/main/python/mllib/random_rdd_generation.py\n",
            "spark-2.4.5-bin-hadoop2.7/examples/src/main/python/mllib/random_forest_regression_example.py\n",
            "spark-2.4.5-bin-hadoop2.7/examples/src/main/python/mllib/random_forest_classification_example.py\n",
            "spark-2.4.5-bin-hadoop2.7/examples/src/main/python/mllib/power_iteration_clustering_example.py\n",
            "spark-2.4.5-bin-hadoop2.7/examples/src/main/python/mllib/pca_rowmatrix_example.py\n",
            "spark-2.4.5-bin-hadoop2.7/examples/src/main/python/mllib/normalizer_example.py\n",
            "spark-2.4.5-bin-hadoop2.7/examples/src/main/python/mllib/naive_bayes_example.py\n",
            "spark-2.4.5-bin-hadoop2.7/examples/src/main/python/mllib/multi_label_metrics_example.py\n",
            "spark-2.4.5-bin-hadoop2.7/examples/src/main/python/mllib/logistic_regression_with_lbfgs_example.py\n",
            "spark-2.4.5-bin-hadoop2.7/examples/src/main/python/mllib/logistic_regression.py\n",
            "spark-2.4.5-bin-hadoop2.7/examples/src/main/python/mllib/linear_regression_with_sgd_example.py\n",
            "spark-2.4.5-bin-hadoop2.7/examples/src/main/python/mllib/latent_dirichlet_allocation_example.py\n",
            "spark-2.4.5-bin-hadoop2.7/examples/src/main/python/mllib/kmeans.py\n",
            "spark-2.4.5-bin-hadoop2.7/examples/src/main/python/mllib/kernel_density_estimation_example.py\n",
            "spark-2.4.5-bin-hadoop2.7/examples/src/main/python/mllib/k_means_example.py\n",
            "spark-2.4.5-bin-hadoop2.7/examples/src/main/python/mllib/hypothesis_testing_kolmogorov_smirnov_test_example.py\n",
            "spark-2.4.5-bin-hadoop2.7/examples/src/main/python/mllib/hypothesis_testing_example.py\n",
            "spark-2.4.5-bin-hadoop2.7/examples/src/main/python/mllib/gradient_boosting_regression_example.py\n",
            "spark-2.4.5-bin-hadoop2.7/examples/src/main/python/mllib/gradient_boosting_classification_example.py\n",
            "spark-2.4.5-bin-hadoop2.7/examples/src/main/python/mllib/gaussian_mixture_model.py\n",
            "spark-2.4.5-bin-hadoop2.7/examples/src/main/python/mllib/gaussian_mixture_example.py\n",
            "spark-2.4.5-bin-hadoop2.7/examples/src/main/python/mllib/fpgrowth_example.py\n",
            "spark-2.4.5-bin-hadoop2.7/examples/src/main/python/mllib/elementwise_product_example.py\n",
            "spark-2.4.5-bin-hadoop2.7/examples/src/main/python/mllib/decision_tree_regression_example.py\n",
            "spark-2.4.5-bin-hadoop2.7/examples/src/main/python/mllib/decision_tree_classification_example.py\n",
            "spark-2.4.5-bin-hadoop2.7/examples/src/main/python/mllib/correlations_example.py\n",
            "spark-2.4.5-bin-hadoop2.7/examples/src/main/python/mllib/correlations.py\n",
            "spark-2.4.5-bin-hadoop2.7/examples/src/main/python/mllib/binary_classification_metrics_example.py\n",
            "spark-2.4.5-bin-hadoop2.7/examples/src/main/python/ml/\n",
            "spark-2.4.5-bin-hadoop2.7/examples/src/main/python/ml/onehot_encoder_estimator_example.py\n",
            "spark-2.4.5-bin-hadoop2.7/examples/src/main/python/ml/bisecting_k_means_example.py\n",
            "spark-2.4.5-bin-hadoop2.7/examples/src/main/python/ml/word2vec_example.py\n",
            "spark-2.4.5-bin-hadoop2.7/examples/src/main/python/ml/vector_slicer_example.py\n",
            "spark-2.4.5-bin-hadoop2.7/examples/src/main/python/ml/vector_size_hint_example.py\n",
            "spark-2.4.5-bin-hadoop2.7/examples/src/main/python/ml/vector_indexer_example.py\n",
            "spark-2.4.5-bin-hadoop2.7/examples/src/main/python/ml/vector_assembler_example.py\n",
            "spark-2.4.5-bin-hadoop2.7/examples/src/main/python/ml/train_validation_split.py\n",
            "spark-2.4.5-bin-hadoop2.7/examples/src/main/python/ml/tokenizer_example.py\n",
            "spark-2.4.5-bin-hadoop2.7/examples/src/main/python/ml/tf_idf_example.py\n",
            "spark-2.4.5-bin-hadoop2.7/examples/src/main/python/ml/summarizer_example.py\n",
            "spark-2.4.5-bin-hadoop2.7/examples/src/main/python/ml/string_indexer_example.py\n",
            "spark-2.4.5-bin-hadoop2.7/examples/src/main/python/ml/stopwords_remover_example.py\n",
            "spark-2.4.5-bin-hadoop2.7/examples/src/main/python/ml/standard_scaler_example.py\n",
            "spark-2.4.5-bin-hadoop2.7/examples/src/main/python/ml/sql_transformer.py\n",
            "spark-2.4.5-bin-hadoop2.7/examples/src/main/python/ml/rformula_example.py\n",
            "spark-2.4.5-bin-hadoop2.7/examples/src/main/python/ml/random_forest_regressor_example.py\n",
            "spark-2.4.5-bin-hadoop2.7/examples/src/main/python/ml/random_forest_classifier_example.py\n",
            "spark-2.4.5-bin-hadoop2.7/examples/src/main/python/ml/quantile_discretizer_example.py\n",
            "spark-2.4.5-bin-hadoop2.7/examples/src/main/python/ml/prefixspan_example.py\n",
            "spark-2.4.5-bin-hadoop2.7/examples/src/main/python/ml/polynomial_expansion_example.py\n",
            "spark-2.4.5-bin-hadoop2.7/examples/src/main/python/ml/pipeline_example.py\n",
            "spark-2.4.5-bin-hadoop2.7/examples/src/main/python/ml/pca_example.py\n",
            "spark-2.4.5-bin-hadoop2.7/examples/src/main/python/ml/one_vs_rest_example.py\n",
            "spark-2.4.5-bin-hadoop2.7/examples/src/main/python/ml/normalizer_example.py\n",
            "spark-2.4.5-bin-hadoop2.7/examples/src/main/python/ml/naive_bayes_example.py\n",
            "spark-2.4.5-bin-hadoop2.7/examples/src/main/python/ml/n_gram_example.py\n",
            "spark-2.4.5-bin-hadoop2.7/examples/src/main/python/ml/multilayer_perceptron_classification.py\n",
            "spark-2.4.5-bin-hadoop2.7/examples/src/main/python/ml/multiclass_logistic_regression_with_elastic_net.py\n",
            "spark-2.4.5-bin-hadoop2.7/examples/src/main/python/ml/min_max_scaler_example.py\n",
            "spark-2.4.5-bin-hadoop2.7/examples/src/main/python/ml/min_hash_lsh_example.py\n",
            "spark-2.4.5-bin-hadoop2.7/examples/src/main/python/ml/max_abs_scaler_example.py\n",
            "spark-2.4.5-bin-hadoop2.7/examples/src/main/python/ml/logistic_regression_with_elastic_net.py\n",
            "spark-2.4.5-bin-hadoop2.7/examples/src/main/python/ml/logistic_regression_summary_example.py\n",
            "spark-2.4.5-bin-hadoop2.7/examples/src/main/python/ml/linearsvc.py\n",
            "spark-2.4.5-bin-hadoop2.7/examples/src/main/python/ml/linear_regression_with_elastic_net.py\n",
            "spark-2.4.5-bin-hadoop2.7/examples/src/main/python/ml/lda_example.py\n",
            "spark-2.4.5-bin-hadoop2.7/examples/src/main/python/ml/kmeans_example.py\n",
            "spark-2.4.5-bin-hadoop2.7/examples/src/main/python/ml/isotonic_regression_example.py\n",
            "spark-2.4.5-bin-hadoop2.7/examples/src/main/python/ml/index_to_string_example.py\n",
            "spark-2.4.5-bin-hadoop2.7/examples/src/main/python/ml/imputer_example.py\n",
            "spark-2.4.5-bin-hadoop2.7/examples/src/main/python/ml/gradient_boosted_tree_regressor_example.py\n",
            "spark-2.4.5-bin-hadoop2.7/examples/src/main/python/ml/gradient_boosted_tree_classifier_example.py\n",
            "spark-2.4.5-bin-hadoop2.7/examples/src/main/python/ml/generalized_linear_regression_example.py\n",
            "spark-2.4.5-bin-hadoop2.7/examples/src/main/python/ml/gaussian_mixture_example.py\n",
            "spark-2.4.5-bin-hadoop2.7/examples/src/main/python/ml/fpgrowth_example.py\n",
            "spark-2.4.5-bin-hadoop2.7/examples/src/main/python/ml/feature_hasher_example.py\n",
            "spark-2.4.5-bin-hadoop2.7/examples/src/main/python/ml/estimator_transformer_param_example.py\n",
            "spark-2.4.5-bin-hadoop2.7/examples/src/main/python/ml/elementwise_product_example.py\n",
            "spark-2.4.5-bin-hadoop2.7/examples/src/main/python/ml/decision_tree_regression_example.py\n",
            "spark-2.4.5-bin-hadoop2.7/examples/src/main/python/ml/decision_tree_classification_example.py\n",
            "spark-2.4.5-bin-hadoop2.7/examples/src/main/python/ml/dct_example.py\n",
            "spark-2.4.5-bin-hadoop2.7/examples/src/main/python/ml/dataframe_example.py\n",
            "spark-2.4.5-bin-hadoop2.7/examples/src/main/python/ml/cross_validator.py\n",
            "spark-2.4.5-bin-hadoop2.7/examples/src/main/python/ml/count_vectorizer_example.py\n",
            "spark-2.4.5-bin-hadoop2.7/examples/src/main/python/ml/correlation_example.py\n",
            "spark-2.4.5-bin-hadoop2.7/examples/src/main/python/ml/chisq_selector_example.py\n",
            "spark-2.4.5-bin-hadoop2.7/examples/src/main/python/ml/chi_square_test_example.py\n",
            "spark-2.4.5-bin-hadoop2.7/examples/src/main/python/ml/bucketizer_example.py\n",
            "spark-2.4.5-bin-hadoop2.7/examples/src/main/python/ml/bucketed_random_projection_lsh_example.py\n",
            "spark-2.4.5-bin-hadoop2.7/examples/src/main/python/ml/binarizer_example.py\n",
            "spark-2.4.5-bin-hadoop2.7/examples/src/main/python/ml/als_example.py\n",
            "spark-2.4.5-bin-hadoop2.7/examples/src/main/python/ml/aft_survival_regression.py\n",
            "spark-2.4.5-bin-hadoop2.7/examples/src/main/python/logistic_regression.py\n",
            "spark-2.4.5-bin-hadoop2.7/examples/src/main/python/kmeans.py\n",
            "spark-2.4.5-bin-hadoop2.7/examples/src/main/python/avro_inputformat.py\n",
            "spark-2.4.5-bin-hadoop2.7/examples/src/main/python/als.py\n",
            "spark-2.4.5-bin-hadoop2.7/kubernetes/\n",
            "spark-2.4.5-bin-hadoop2.7/kubernetes/dockerfiles/\n",
            "spark-2.4.5-bin-hadoop2.7/kubernetes/dockerfiles/spark/\n",
            "spark-2.4.5-bin-hadoop2.7/kubernetes/dockerfiles/spark/entrypoint.sh\n",
            "spark-2.4.5-bin-hadoop2.7/kubernetes/dockerfiles/spark/Dockerfile\n",
            "spark-2.4.5-bin-hadoop2.7/kubernetes/dockerfiles/spark/bindings/\n",
            "spark-2.4.5-bin-hadoop2.7/kubernetes/dockerfiles/spark/bindings/python/\n",
            "spark-2.4.5-bin-hadoop2.7/kubernetes/dockerfiles/spark/bindings/python/Dockerfile\n",
            "spark-2.4.5-bin-hadoop2.7/kubernetes/dockerfiles/spark/bindings/R/\n",
            "spark-2.4.5-bin-hadoop2.7/kubernetes/dockerfiles/spark/bindings/R/Dockerfile\n",
            "spark-2.4.5-bin-hadoop2.7/kubernetes/tests/\n",
            "spark-2.4.5-bin-hadoop2.7/kubernetes/tests/pyfiles.py\n",
            "spark-2.4.5-bin-hadoop2.7/kubernetes/tests/worker_memory_check.py\n",
            "spark-2.4.5-bin-hadoop2.7/kubernetes/tests/py_container_checks.py\n",
            "spark-2.4.5-bin-hadoop2.7/yarn/\n",
            "spark-2.4.5-bin-hadoop2.7/yarn/spark-2.4.5-yarn-shuffle.jar\n",
            "spark-2.4.5-bin-hadoop2.7/jars/\n",
            "spark-2.4.5-bin-hadoop2.7/jars/scala-compiler-2.11.12.jar\n",
            "spark-2.4.5-bin-hadoop2.7/jars/pyrolite-4.13.jar\n",
            "spark-2.4.5-bin-hadoop2.7/jars/py4j-0.10.7.jar\n",
            "spark-2.4.5-bin-hadoop2.7/jars/protobuf-java-2.5.0.jar\n",
            "spark-2.4.5-bin-hadoop2.7/jars/parquet-jackson-1.10.1.jar\n",
            "spark-2.4.5-bin-hadoop2.7/jars/parquet-hadoop-bundle-1.6.0.jar\n",
            "spark-2.4.5-bin-hadoop2.7/jars/parquet-hadoop-1.10.1.jar\n",
            "spark-2.4.5-bin-hadoop2.7/jars/parquet-format-2.4.0.jar\n",
            "spark-2.4.5-bin-hadoop2.7/jars/parquet-encoding-1.10.1.jar\n",
            "spark-2.4.5-bin-hadoop2.7/jars/parquet-common-1.10.1.jar\n",
            "spark-2.4.5-bin-hadoop2.7/jars/parquet-column-1.10.1.jar\n",
            "spark-2.4.5-bin-hadoop2.7/jars/paranamer-2.8.jar\n",
            "spark-2.4.5-bin-hadoop2.7/jars/osgi-resource-locator-1.0.1.jar\n",
            "spark-2.4.5-bin-hadoop2.7/jars/oro-2.0.8.jar\n",
            "spark-2.4.5-bin-hadoop2.7/jars/orc-shims-1.5.5.jar\n",
            "spark-2.4.5-bin-hadoop2.7/jars/orc-mapreduce-1.5.5-nohive.jar\n",
            "spark-2.4.5-bin-hadoop2.7/jars/orc-core-1.5.5-nohive.jar\n",
            "spark-2.4.5-bin-hadoop2.7/jars/opencsv-2.3.jar\n",
            "spark-2.4.5-bin-hadoop2.7/jars/okio-1.15.0.jar\n",
            "spark-2.4.5-bin-hadoop2.7/jars/okhttp-3.12.0.jar\n",
            "spark-2.4.5-bin-hadoop2.7/jars/objenesis-2.5.1.jar\n",
            "spark-2.4.5-bin-hadoop2.7/jars/netty-all-4.1.42.Final.jar\n",
            "spark-2.4.5-bin-hadoop2.7/jars/netty-3.9.9.Final.jar\n",
            "spark-2.4.5-bin-hadoop2.7/jars/minlog-1.3.0.jar\n",
            "spark-2.4.5-bin-hadoop2.7/jars/metrics-jvm-3.1.5.jar\n",
            "spark-2.4.5-bin-hadoop2.7/jars/metrics-json-3.1.5.jar\n",
            "spark-2.4.5-bin-hadoop2.7/jars/metrics-graphite-3.1.5.jar\n",
            "spark-2.4.5-bin-hadoop2.7/jars/metrics-core-3.1.5.jar\n",
            "spark-2.4.5-bin-hadoop2.7/jars/mesos-1.4.0-shaded-protobuf.jar\n",
            "spark-2.4.5-bin-hadoop2.7/jars/macro-compat_2.11-1.1.1.jar\n",
            "spark-2.4.5-bin-hadoop2.7/jars/machinist_2.11-0.6.1.jar\n",
            "spark-2.4.5-bin-hadoop2.7/jars/lz4-java-1.4.0.jar\n",
            "spark-2.4.5-bin-hadoop2.7/jars/logging-interceptor-3.12.0.jar\n",
            "spark-2.4.5-bin-hadoop2.7/jars/zstd-jni-1.3.2-2.jar\n",
            "spark-2.4.5-bin-hadoop2.7/jars/zookeeper-3.4.6.jar\n",
            "spark-2.4.5-bin-hadoop2.7/jars/zjsonpatch-0.3.0.jar\n",
            "spark-2.4.5-bin-hadoop2.7/jars/xz-1.5.jar\n",
            "spark-2.4.5-bin-hadoop2.7/jars/xmlenc-0.52.jar\n",
            "spark-2.4.5-bin-hadoop2.7/jars/xercesImpl-2.9.1.jar\n",
            "spark-2.4.5-bin-hadoop2.7/jars/xbean-asm6-shaded-4.8.jar\n",
            "spark-2.4.5-bin-hadoop2.7/jars/validation-api-1.1.0.Final.jar\n",
            "spark-2.4.5-bin-hadoop2.7/jars/univocity-parsers-2.7.3.jar\n",
            "spark-2.4.5-bin-hadoop2.7/jars/super-csv-2.2.0.jar\n",
            "spark-2.4.5-bin-hadoop2.7/jars/stringtemplate-3.2.1.jar\n",
            "spark-2.4.5-bin-hadoop2.7/jars/stream-2.7.0.jar\n",
            "spark-2.4.5-bin-hadoop2.7/jars/stax-api-1.0.1.jar\n",
            "spark-2.4.5-bin-hadoop2.7/jars/stax-api-1.0-2.jar\n",
            "spark-2.4.5-bin-hadoop2.7/jars/spire_2.11-0.13.0.jar\n",
            "spark-2.4.5-bin-hadoop2.7/jars/spire-macros_2.11-0.13.0.jar\n",
            "spark-2.4.5-bin-hadoop2.7/jars/spark-yarn_2.11-2.4.5.jar\n",
            "spark-2.4.5-bin-hadoop2.7/jars/spark-unsafe_2.11-2.4.5.jar\n",
            "spark-2.4.5-bin-hadoop2.7/jars/spark-tags_2.11-2.4.5.jar\n",
            "spark-2.4.5-bin-hadoop2.7/jars/spark-tags_2.11-2.4.5-tests.jar\n",
            "spark-2.4.5-bin-hadoop2.7/jars/spark-streaming_2.11-2.4.5.jar\n",
            "spark-2.4.5-bin-hadoop2.7/jars/spark-sql_2.11-2.4.5.jar\n",
            "spark-2.4.5-bin-hadoop2.7/jars/spark-sketch_2.11-2.4.5.jar\n",
            "spark-2.4.5-bin-hadoop2.7/jars/spark-repl_2.11-2.4.5.jar\n",
            "spark-2.4.5-bin-hadoop2.7/jars/spark-network-shuffle_2.11-2.4.5.jar\n",
            "spark-2.4.5-bin-hadoop2.7/jars/spark-network-common_2.11-2.4.5.jar\n",
            "spark-2.4.5-bin-hadoop2.7/jars/spark-mllib_2.11-2.4.5.jar\n",
            "spark-2.4.5-bin-hadoop2.7/jars/spark-mllib-local_2.11-2.4.5.jar\n",
            "spark-2.4.5-bin-hadoop2.7/jars/spark-mesos_2.11-2.4.5.jar\n",
            "spark-2.4.5-bin-hadoop2.7/jars/spark-launcher_2.11-2.4.5.jar\n",
            "spark-2.4.5-bin-hadoop2.7/jars/spark-kvstore_2.11-2.4.5.jar\n",
            "spark-2.4.5-bin-hadoop2.7/jars/spark-kubernetes_2.11-2.4.5.jar\n",
            "spark-2.4.5-bin-hadoop2.7/jars/spark-hive_2.11-2.4.5.jar\n",
            "spark-2.4.5-bin-hadoop2.7/jars/spark-hive-thriftserver_2.11-2.4.5.jar\n",
            "spark-2.4.5-bin-hadoop2.7/jars/spark-graphx_2.11-2.4.5.jar\n",
            "spark-2.4.5-bin-hadoop2.7/jars/spark-core_2.11-2.4.5.jar\n",
            "spark-2.4.5-bin-hadoop2.7/jars/spark-catalyst_2.11-2.4.5.jar\n",
            "spark-2.4.5-bin-hadoop2.7/jars/snappy-java-1.1.7.3.jar\n",
            "spark-2.4.5-bin-hadoop2.7/jars/snappy-0.2.jar\n",
            "spark-2.4.5-bin-hadoop2.7/jars/snakeyaml-1.15.jar\n",
            "spark-2.4.5-bin-hadoop2.7/jars/slf4j-log4j12-1.7.16.jar\n",
            "spark-2.4.5-bin-hadoop2.7/jars/slf4j-api-1.7.16.jar\n",
            "spark-2.4.5-bin-hadoop2.7/jars/shims-0.7.45.jar\n",
            "spark-2.4.5-bin-hadoop2.7/jars/shapeless_2.11-2.3.2.jar\n",
            "spark-2.4.5-bin-hadoop2.7/jars/scala-xml_2.11-1.0.5.jar\n",
            "spark-2.4.5-bin-hadoop2.7/jars/scala-reflect-2.11.12.jar\n",
            "spark-2.4.5-bin-hadoop2.7/jars/scala-parser-combinators_2.11-1.1.0.jar\n",
            "spark-2.4.5-bin-hadoop2.7/jars/scala-library-2.11.12.jar\n",
            "spark-2.4.5-bin-hadoop2.7/jars/log4j-1.2.17.jar\n",
            "spark-2.4.5-bin-hadoop2.7/jars/libthrift-0.9.3.jar\n",
            "spark-2.4.5-bin-hadoop2.7/jars/libfb303-0.9.3.jar\n",
            "spark-2.4.5-bin-hadoop2.7/jars/leveldbjni-all-1.8.jar\n",
            "spark-2.4.5-bin-hadoop2.7/jars/kubernetes-model-common-4.6.1.jar\n",
            "spark-2.4.5-bin-hadoop2.7/jars/kubernetes-model-4.6.1.jar\n",
            "spark-2.4.5-bin-hadoop2.7/jars/kubernetes-client-4.6.1.jar\n",
            "spark-2.4.5-bin-hadoop2.7/jars/kryo-shaded-4.0.2.jar\n",
            "spark-2.4.5-bin-hadoop2.7/jars/jul-to-slf4j-1.7.16.jar\n",
            "spark-2.4.5-bin-hadoop2.7/jars/jtransforms-2.4.0.jar\n",
            "spark-2.4.5-bin-hadoop2.7/jars/jta-1.1.jar\n",
            "spark-2.4.5-bin-hadoop2.7/jars/jsr305-1.3.9.jar\n",
            "spark-2.4.5-bin-hadoop2.7/jars/jsp-api-2.1.jar\n",
            "spark-2.4.5-bin-hadoop2.7/jars/json4s-scalap_2.11-3.5.3.jar\n",
            "spark-2.4.5-bin-hadoop2.7/jars/json4s-jackson_2.11-3.5.3.jar\n",
            "spark-2.4.5-bin-hadoop2.7/jars/json4s-core_2.11-3.5.3.jar\n",
            "spark-2.4.5-bin-hadoop2.7/jars/json4s-ast_2.11-3.5.3.jar\n",
            "spark-2.4.5-bin-hadoop2.7/jars/jpam-1.1.jar\n",
            "spark-2.4.5-bin-hadoop2.7/jars/jodd-core-3.5.2.jar\n",
            "spark-2.4.5-bin-hadoop2.7/jars/joda-time-2.9.3.jar\n",
            "spark-2.4.5-bin-hadoop2.7/jars/jline-2.14.6.jar\n",
            "spark-2.4.5-bin-hadoop2.7/jars/jetty-util-6.1.26.jar\n",
            "spark-2.4.5-bin-hadoop2.7/jars/jetty-6.1.26.jar\n",
            "spark-2.4.5-bin-hadoop2.7/jars/jersey-server-2.22.2.jar\n",
            "spark-2.4.5-bin-hadoop2.7/jars/jersey-media-jaxb-2.22.2.jar\n",
            "spark-2.4.5-bin-hadoop2.7/jars/jersey-guava-2.22.2.jar\n",
            "spark-2.4.5-bin-hadoop2.7/jars/jersey-container-servlet-core-2.22.2.jar\n",
            "spark-2.4.5-bin-hadoop2.7/jars/jersey-container-servlet-2.22.2.jar\n",
            "spark-2.4.5-bin-hadoop2.7/jars/jersey-common-2.22.2.jar\n",
            "spark-2.4.5-bin-hadoop2.7/jars/jersey-client-2.22.2.jar\n",
            "spark-2.4.5-bin-hadoop2.7/jars/jdo-api-3.0.1.jar\n",
            "spark-2.4.5-bin-hadoop2.7/jars/jcl-over-slf4j-1.7.16.jar\n",
            "spark-2.4.5-bin-hadoop2.7/jars/jaxb-api-2.2.2.jar\n",
            "spark-2.4.5-bin-hadoop2.7/jars/javolution-5.5.1.jar\n",
            "spark-2.4.5-bin-hadoop2.7/jars/javax.ws.rs-api-2.0.1.jar\n",
            "spark-2.4.5-bin-hadoop2.7/jars/javax.servlet-api-3.1.0.jar\n",
            "spark-2.4.5-bin-hadoop2.7/jars/javax.inject-2.4.0-b34.jar\n",
            "spark-2.4.5-bin-hadoop2.7/jars/javax.inject-1.jar\n",
            "spark-2.4.5-bin-hadoop2.7/jars/javax.annotation-api-1.2.jar\n",
            "spark-2.4.5-bin-hadoop2.7/jars/javassist-3.18.1-GA.jar\n",
            "spark-2.4.5-bin-hadoop2.7/jars/janino-3.0.9.jar\n",
            "spark-2.4.5-bin-hadoop2.7/jars/jackson-xc-1.9.13.jar\n",
            "spark-2.4.5-bin-hadoop2.7/jars/jackson-module-scala_2.11-2.6.7.1.jar\n",
            "spark-2.4.5-bin-hadoop2.7/jars/jackson-module-paranamer-2.7.9.jar\n",
            "spark-2.4.5-bin-hadoop2.7/jars/jackson-module-jaxb-annotations-2.6.7.jar\n",
            "spark-2.4.5-bin-hadoop2.7/jars/jackson-mapper-asl-1.9.13.jar\n",
            "spark-2.4.5-bin-hadoop2.7/jars/jackson-jaxrs-1.9.13.jar\n",
            "spark-2.4.5-bin-hadoop2.7/jars/jackson-dataformat-yaml-2.6.7.jar\n",
            "spark-2.4.5-bin-hadoop2.7/jars/jackson-databind-2.6.7.3.jar\n",
            "spark-2.4.5-bin-hadoop2.7/jars/jackson-core-asl-1.9.13.jar\n",
            "spark-2.4.5-bin-hadoop2.7/jars/jackson-core-2.6.7.jar\n",
            "spark-2.4.5-bin-hadoop2.7/jars/jackson-annotations-2.6.7.jar\n",
            "spark-2.4.5-bin-hadoop2.7/jars/ivy-2.4.0.jar\n",
            "spark-2.4.5-bin-hadoop2.7/jars/httpcore-4.4.10.jar\n",
            "spark-2.4.5-bin-hadoop2.7/jars/httpclient-4.5.6.jar\n",
            "spark-2.4.5-bin-hadoop2.7/jars/htrace-core-3.1.0-incubating.jar\n",
            "spark-2.4.5-bin-hadoop2.7/jars/hppc-0.7.2.jar\n",
            "spark-2.4.5-bin-hadoop2.7/jars/hk2-utils-2.4.0-b34.jar\n",
            "spark-2.4.5-bin-hadoop2.7/jars/hk2-locator-2.4.0-b34.jar\n",
            "spark-2.4.5-bin-hadoop2.7/jars/hk2-api-2.4.0-b34.jar\n",
            "spark-2.4.5-bin-hadoop2.7/jars/hive-metastore-1.2.1.spark2.jar\n",
            "spark-2.4.5-bin-hadoop2.7/jars/hive-jdbc-1.2.1.spark2.jar\n",
            "spark-2.4.5-bin-hadoop2.7/jars/hive-exec-1.2.1.spark2.jar\n",
            "spark-2.4.5-bin-hadoop2.7/jars/hive-cli-1.2.1.spark2.jar\n",
            "spark-2.4.5-bin-hadoop2.7/jars/hive-beeline-1.2.1.spark2.jar\n",
            "spark-2.4.5-bin-hadoop2.7/jars/hadoop-yarn-server-web-proxy-2.7.3.jar\n",
            "spark-2.4.5-bin-hadoop2.7/jars/hadoop-yarn-server-common-2.7.3.jar\n",
            "spark-2.4.5-bin-hadoop2.7/jars/hadoop-yarn-common-2.7.3.jar\n",
            "spark-2.4.5-bin-hadoop2.7/jars/hadoop-yarn-client-2.7.3.jar\n",
            "spark-2.4.5-bin-hadoop2.7/jars/hadoop-yarn-api-2.7.3.jar\n",
            "spark-2.4.5-bin-hadoop2.7/jars/hadoop-mapreduce-client-shuffle-2.7.3.jar\n",
            "spark-2.4.5-bin-hadoop2.7/jars/hadoop-mapreduce-client-jobclient-2.7.3.jar\n",
            "spark-2.4.5-bin-hadoop2.7/jars/hadoop-mapreduce-client-core-2.7.3.jar\n",
            "spark-2.4.5-bin-hadoop2.7/jars/hadoop-mapreduce-client-common-2.7.3.jar\n",
            "spark-2.4.5-bin-hadoop2.7/jars/hadoop-mapreduce-client-app-2.7.3.jar\n",
            "spark-2.4.5-bin-hadoop2.7/jars/hadoop-hdfs-2.7.3.jar\n",
            "spark-2.4.5-bin-hadoop2.7/jars/hadoop-common-2.7.3.jar\n",
            "spark-2.4.5-bin-hadoop2.7/jars/hadoop-client-2.7.3.jar\n",
            "spark-2.4.5-bin-hadoop2.7/jars/hadoop-auth-2.7.3.jar\n",
            "spark-2.4.5-bin-hadoop2.7/jars/hadoop-annotations-2.7.3.jar\n",
            "spark-2.4.5-bin-hadoop2.7/jars/guice-servlet-3.0.jar\n",
            "spark-2.4.5-bin-hadoop2.7/jars/guice-3.0.jar\n",
            "spark-2.4.5-bin-hadoop2.7/jars/guava-14.0.1.jar\n",
            "spark-2.4.5-bin-hadoop2.7/jars/gson-2.2.4.jar\n",
            "spark-2.4.5-bin-hadoop2.7/jars/generex-1.0.2.jar\n",
            "spark-2.4.5-bin-hadoop2.7/jars/flatbuffers-1.2.0-3f79e055.jar\n",
            "spark-2.4.5-bin-hadoop2.7/jars/eigenbase-properties-1.1.5.jar\n",
            "spark-2.4.5-bin-hadoop2.7/jars/derby-10.12.1.1.jar\n",
            "spark-2.4.5-bin-hadoop2.7/jars/datanucleus-rdbms-3.2.9.jar\n",
            "spark-2.4.5-bin-hadoop2.7/jars/datanucleus-core-3.2.10.jar\n",
            "spark-2.4.5-bin-hadoop2.7/jars/datanucleus-api-jdo-3.2.6.jar\n",
            "spark-2.4.5-bin-hadoop2.7/jars/curator-recipes-2.7.1.jar\n",
            "spark-2.4.5-bin-hadoop2.7/jars/curator-framework-2.7.1.jar\n",
            "spark-2.4.5-bin-hadoop2.7/jars/curator-client-2.7.1.jar\n",
            "spark-2.4.5-bin-hadoop2.7/jars/core-1.1.2.jar\n",
            "spark-2.4.5-bin-hadoop2.7/jars/compress-lzf-1.0.3.jar\n",
            "spark-2.4.5-bin-hadoop2.7/jars/commons-pool-1.5.4.jar\n",
            "spark-2.4.5-bin-hadoop2.7/jars/commons-net-3.1.jar\n",
            "spark-2.4.5-bin-hadoop2.7/jars/commons-math3-3.4.1.jar\n",
            "spark-2.4.5-bin-hadoop2.7/jars/commons-logging-1.1.3.jar\n",
            "spark-2.4.5-bin-hadoop2.7/jars/commons-lang3-3.5.jar\n",
            "spark-2.4.5-bin-hadoop2.7/jars/commons-lang-2.6.jar\n",
            "spark-2.4.5-bin-hadoop2.7/jars/commons-io-2.4.jar\n",
            "spark-2.4.5-bin-hadoop2.7/jars/commons-httpclient-3.1.jar\n",
            "spark-2.4.5-bin-hadoop2.7/jars/commons-digester-1.8.jar\n",
            "spark-2.4.5-bin-hadoop2.7/jars/commons-dbcp-1.4.jar\n",
            "spark-2.4.5-bin-hadoop2.7/jars/commons-crypto-1.0.0.jar\n",
            "spark-2.4.5-bin-hadoop2.7/jars/commons-configuration-1.6.jar\n",
            "spark-2.4.5-bin-hadoop2.7/jars/commons-compress-1.8.1.jar\n",
            "spark-2.4.5-bin-hadoop2.7/jars/commons-compiler-3.0.9.jar\n",
            "spark-2.4.5-bin-hadoop2.7/jars/commons-collections-3.2.2.jar\n",
            "spark-2.4.5-bin-hadoop2.7/jars/commons-codec-1.10.jar\n",
            "spark-2.4.5-bin-hadoop2.7/jars/commons-cli-1.2.jar\n",
            "spark-2.4.5-bin-hadoop2.7/jars/commons-beanutils-1.9.4.jar\n",
            "spark-2.4.5-bin-hadoop2.7/jars/chill_2.11-0.9.3.jar\n",
            "spark-2.4.5-bin-hadoop2.7/jars/chill-java-0.9.3.jar\n",
            "spark-2.4.5-bin-hadoop2.7/jars/calcite-linq4j-1.2.0-incubating.jar\n",
            "spark-2.4.5-bin-hadoop2.7/jars/calcite-core-1.2.0-incubating.jar\n",
            "spark-2.4.5-bin-hadoop2.7/jars/calcite-avatica-1.2.0-incubating.jar\n",
            "spark-2.4.5-bin-hadoop2.7/jars/breeze_2.11-0.13.2.jar\n",
            "spark-2.4.5-bin-hadoop2.7/jars/breeze-macros_2.11-0.13.2.jar\n",
            "spark-2.4.5-bin-hadoop2.7/jars/bonecp-0.8.0.RELEASE.jar\n",
            "spark-2.4.5-bin-hadoop2.7/jars/avro-mapred-1.8.2-hadoop2.jar\n",
            "spark-2.4.5-bin-hadoop2.7/jars/avro-ipc-1.8.2.jar\n",
            "spark-2.4.5-bin-hadoop2.7/jars/avro-1.8.2.jar\n",
            "spark-2.4.5-bin-hadoop2.7/jars/automaton-1.11-8.jar\n",
            "spark-2.4.5-bin-hadoop2.7/jars/arrow-vector-0.10.0.jar\n",
            "spark-2.4.5-bin-hadoop2.7/jars/arrow-memory-0.10.0.jar\n",
            "spark-2.4.5-bin-hadoop2.7/jars/arrow-format-0.10.0.jar\n",
            "spark-2.4.5-bin-hadoop2.7/jars/arpack_combined_all-0.1.jar\n",
            "spark-2.4.5-bin-hadoop2.7/jars/api-util-1.0.0-M20.jar\n",
            "spark-2.4.5-bin-hadoop2.7/jars/api-asn1-api-1.0.0-M20.jar\n",
            "spark-2.4.5-bin-hadoop2.7/jars/apacheds-kerberos-codec-2.0.0-M15.jar\n",
            "spark-2.4.5-bin-hadoop2.7/jars/apacheds-i18n-2.0.0-M15.jar\n",
            "spark-2.4.5-bin-hadoop2.7/jars/apache-log4j-extras-1.2.17.jar\n",
            "spark-2.4.5-bin-hadoop2.7/jars/aopalliance-repackaged-2.4.0-b34.jar\n",
            "spark-2.4.5-bin-hadoop2.7/jars/aopalliance-1.0.jar\n",
            "spark-2.4.5-bin-hadoop2.7/jars/antlr4-runtime-4.7.jar\n",
            "spark-2.4.5-bin-hadoop2.7/jars/antlr-runtime-3.4.jar\n",
            "spark-2.4.5-bin-hadoop2.7/jars/antlr-2.7.7.jar\n",
            "spark-2.4.5-bin-hadoop2.7/jars/aircompressor-0.10.jar\n",
            "spark-2.4.5-bin-hadoop2.7/jars/activation-1.1.1.jar\n",
            "spark-2.4.5-bin-hadoop2.7/jars/ST4-4.0.4.jar\n",
            "spark-2.4.5-bin-hadoop2.7/jars/RoaringBitmap-0.7.45.jar\n",
            "spark-2.4.5-bin-hadoop2.7/jars/JavaEWAH-0.3.2.jar\n",
            "spark-2.4.5-bin-hadoop2.7/RELEASE\n",
            "spark-2.4.5-bin-hadoop2.7/R/\n",
            "spark-2.4.5-bin-hadoop2.7/R/lib/\n",
            "spark-2.4.5-bin-hadoop2.7/R/lib/sparkr.zip\n",
            "spark-2.4.5-bin-hadoop2.7/R/lib/SparkR/\n",
            "spark-2.4.5-bin-hadoop2.7/R/lib/SparkR/INDEX\n",
            "spark-2.4.5-bin-hadoop2.7/R/lib/SparkR/html/\n",
            "spark-2.4.5-bin-hadoop2.7/R/lib/SparkR/html/R.css\n",
            "spark-2.4.5-bin-hadoop2.7/R/lib/SparkR/html/00Index.html\n",
            "spark-2.4.5-bin-hadoop2.7/R/lib/SparkR/help/\n",
            "spark-2.4.5-bin-hadoop2.7/R/lib/SparkR/help/aliases.rds\n",
            "spark-2.4.5-bin-hadoop2.7/R/lib/SparkR/help/AnIndex\n",
            "spark-2.4.5-bin-hadoop2.7/R/lib/SparkR/help/SparkR.rdx\n",
            "spark-2.4.5-bin-hadoop2.7/R/lib/SparkR/help/SparkR.rdb\n",
            "spark-2.4.5-bin-hadoop2.7/R/lib/SparkR/help/paths.rds\n",
            "spark-2.4.5-bin-hadoop2.7/R/lib/SparkR/worker/\n",
            "spark-2.4.5-bin-hadoop2.7/R/lib/SparkR/worker/worker.R\n",
            "spark-2.4.5-bin-hadoop2.7/R/lib/SparkR/worker/daemon.R\n",
            "spark-2.4.5-bin-hadoop2.7/R/lib/SparkR/tests/\n",
            "spark-2.4.5-bin-hadoop2.7/R/lib/SparkR/tests/testthat/\n",
            "spark-2.4.5-bin-hadoop2.7/R/lib/SparkR/tests/testthat/test_basic.R\n",
            "spark-2.4.5-bin-hadoop2.7/R/lib/SparkR/profile/\n",
            "spark-2.4.5-bin-hadoop2.7/R/lib/SparkR/profile/shell.R\n",
            "spark-2.4.5-bin-hadoop2.7/R/lib/SparkR/profile/general.R\n",
            "spark-2.4.5-bin-hadoop2.7/R/lib/SparkR/R/\n",
            "spark-2.4.5-bin-hadoop2.7/R/lib/SparkR/R/SparkR.rdx\n",
            "spark-2.4.5-bin-hadoop2.7/R/lib/SparkR/R/SparkR.rdb\n",
            "spark-2.4.5-bin-hadoop2.7/R/lib/SparkR/R/SparkR\n",
            "spark-2.4.5-bin-hadoop2.7/R/lib/SparkR/Meta/\n",
            "spark-2.4.5-bin-hadoop2.7/R/lib/SparkR/Meta/nsInfo.rds\n",
            "spark-2.4.5-bin-hadoop2.7/R/lib/SparkR/Meta/links.rds\n",
            "spark-2.4.5-bin-hadoop2.7/R/lib/SparkR/Meta/hsearch.rds\n",
            "spark-2.4.5-bin-hadoop2.7/R/lib/SparkR/Meta/Rd.rds\n",
            "spark-2.4.5-bin-hadoop2.7/R/lib/SparkR/Meta/features.rds\n",
            "spark-2.4.5-bin-hadoop2.7/R/lib/SparkR/Meta/package.rds\n",
            "spark-2.4.5-bin-hadoop2.7/R/lib/SparkR/DESCRIPTION\n",
            "spark-2.4.5-bin-hadoop2.7/R/lib/SparkR/NAMESPACE\n",
            "spark-2.4.5-bin-hadoop2.7/sbin/\n",
            "spark-2.4.5-bin-hadoop2.7/sbin/stop-shuffle-service.sh\n",
            "spark-2.4.5-bin-hadoop2.7/sbin/start-thriftserver.sh\n",
            "spark-2.4.5-bin-hadoop2.7/sbin/start-slave.sh\n",
            "spark-2.4.5-bin-hadoop2.7/sbin/start-shuffle-service.sh\n",
            "spark-2.4.5-bin-hadoop2.7/sbin/start-mesos-shuffle-service.sh\n",
            "spark-2.4.5-bin-hadoop2.7/sbin/start-master.sh\n",
            "spark-2.4.5-bin-hadoop2.7/sbin/start-history-server.sh\n",
            "spark-2.4.5-bin-hadoop2.7/sbin/spark-config.sh\n",
            "spark-2.4.5-bin-hadoop2.7/sbin/stop-thriftserver.sh\n",
            "spark-2.4.5-bin-hadoop2.7/sbin/stop-slaves.sh\n",
            "spark-2.4.5-bin-hadoop2.7/sbin/stop-slave.sh\n",
            "spark-2.4.5-bin-hadoop2.7/sbin/stop-mesos-shuffle-service.sh\n",
            "spark-2.4.5-bin-hadoop2.7/sbin/stop-mesos-dispatcher.sh\n",
            "spark-2.4.5-bin-hadoop2.7/sbin/stop-master.sh\n",
            "spark-2.4.5-bin-hadoop2.7/sbin/stop-history-server.sh\n",
            "spark-2.4.5-bin-hadoop2.7/sbin/stop-all.sh\n",
            "spark-2.4.5-bin-hadoop2.7/sbin/start-slaves.sh\n",
            "spark-2.4.5-bin-hadoop2.7/sbin/start-mesos-dispatcher.sh\n",
            "spark-2.4.5-bin-hadoop2.7/sbin/start-all.sh\n",
            "spark-2.4.5-bin-hadoop2.7/sbin/spark-daemons.sh\n",
            "spark-2.4.5-bin-hadoop2.7/sbin/spark-daemon.sh\n",
            "spark-2.4.5-bin-hadoop2.7/sbin/slaves.sh\n",
            "spark-2.4.5-bin-hadoop2.7/python/\n",
            "spark-2.4.5-bin-hadoop2.7/python/dist/\n",
            "spark-2.4.5-bin-hadoop2.7/python/pyspark.egg-info/\n",
            "spark-2.4.5-bin-hadoop2.7/python/pyspark.egg-info/SOURCES.txt\n",
            "spark-2.4.5-bin-hadoop2.7/python/pyspark.egg-info/dependency_links.txt\n",
            "spark-2.4.5-bin-hadoop2.7/python/pyspark.egg-info/top_level.txt\n",
            "spark-2.4.5-bin-hadoop2.7/python/pyspark.egg-info/PKG-INFO\n",
            "spark-2.4.5-bin-hadoop2.7/python/pyspark.egg-info/requires.txt\n",
            "spark-2.4.5-bin-hadoop2.7/python/setup.py\n",
            "spark-2.4.5-bin-hadoop2.7/python/run-tests.py\n",
            "spark-2.4.5-bin-hadoop2.7/python/run-tests-with-coverage\n",
            "spark-2.4.5-bin-hadoop2.7/python/run-tests\n",
            "spark-2.4.5-bin-hadoop2.7/python/README.md\n",
            "spark-2.4.5-bin-hadoop2.7/python/MANIFEST.in\n",
            "spark-2.4.5-bin-hadoop2.7/python/test_support/\n",
            "spark-2.4.5-bin-hadoop2.7/python/test_support/userlibrary.py\n",
            "spark-2.4.5-bin-hadoop2.7/python/test_support/userlib-0.1.zip\n",
            "spark-2.4.5-bin-hadoop2.7/python/test_support/sql/\n",
            "spark-2.4.5-bin-hadoop2.7/python/test_support/sql/text-test.txt\n",
            "spark-2.4.5-bin-hadoop2.7/python/test_support/sql/streaming/\n",
            "spark-2.4.5-bin-hadoop2.7/python/test_support/sql/streaming/text-test.txt\n",
            "spark-2.4.5-bin-hadoop2.7/python/test_support/sql/people_array_utf16le.json\n",
            "spark-2.4.5-bin-hadoop2.7/python/test_support/sql/people_array.json\n",
            "spark-2.4.5-bin-hadoop2.7/python/test_support/sql/people1.json\n",
            "spark-2.4.5-bin-hadoop2.7/python/test_support/sql/people.json\n",
            "spark-2.4.5-bin-hadoop2.7/python/test_support/sql/parquet_partitioned/\n",
            "spark-2.4.5-bin-hadoop2.7/python/test_support/sql/parquet_partitioned/year=2015/\n",
            "spark-2.4.5-bin-hadoop2.7/python/test_support/sql/parquet_partitioned/year=2015/month=9/\n",
            "spark-2.4.5-bin-hadoop2.7/python/test_support/sql/parquet_partitioned/year=2015/month=9/day=1/\n",
            "spark-2.4.5-bin-hadoop2.7/python/test_support/sql/parquet_partitioned/year=2015/month=9/day=1/part-r-00007.gz.parquet\n",
            "spark-2.4.5-bin-hadoop2.7/python/test_support/sql/parquet_partitioned/year=2015/month=9/day=1/.part-r-00007.gz.parquet.crc\n",
            "spark-2.4.5-bin-hadoop2.7/python/test_support/sql/parquet_partitioned/year=2015/month=10/\n",
            "spark-2.4.5-bin-hadoop2.7/python/test_support/sql/parquet_partitioned/year=2015/month=10/day=26/\n",
            "spark-2.4.5-bin-hadoop2.7/python/test_support/sql/parquet_partitioned/year=2015/month=10/day=26/part-r-00005.gz.parquet\n",
            "spark-2.4.5-bin-hadoop2.7/python/test_support/sql/parquet_partitioned/year=2015/month=10/day=26/.part-r-00005.gz.parquet.crc\n",
            "spark-2.4.5-bin-hadoop2.7/python/test_support/sql/parquet_partitioned/year=2015/month=10/day=25/\n",
            "spark-2.4.5-bin-hadoop2.7/python/test_support/sql/parquet_partitioned/year=2015/month=10/day=25/part-r-00004.gz.parquet\n",
            "spark-2.4.5-bin-hadoop2.7/python/test_support/sql/parquet_partitioned/year=2015/month=10/day=25/part-r-00002.gz.parquet\n",
            "spark-2.4.5-bin-hadoop2.7/python/test_support/sql/parquet_partitioned/year=2015/month=10/day=25/.part-r-00004.gz.parquet.crc\n",
            "spark-2.4.5-bin-hadoop2.7/python/test_support/sql/parquet_partitioned/year=2015/month=10/day=25/.part-r-00002.gz.parquet.crc\n",
            "spark-2.4.5-bin-hadoop2.7/python/test_support/sql/parquet_partitioned/year=2014/\n",
            "spark-2.4.5-bin-hadoop2.7/python/test_support/sql/parquet_partitioned/year=2014/month=9/\n",
            "spark-2.4.5-bin-hadoop2.7/python/test_support/sql/parquet_partitioned/year=2014/month=9/day=1/\n",
            "spark-2.4.5-bin-hadoop2.7/python/test_support/sql/parquet_partitioned/year=2014/month=9/day=1/part-r-00008.gz.parquet\n",
            "spark-2.4.5-bin-hadoop2.7/python/test_support/sql/parquet_partitioned/year=2014/month=9/day=1/.part-r-00008.gz.parquet.crc\n",
            "spark-2.4.5-bin-hadoop2.7/python/test_support/sql/parquet_partitioned/_metadata\n",
            "spark-2.4.5-bin-hadoop2.7/python/test_support/sql/parquet_partitioned/_common_metadata\n",
            "spark-2.4.5-bin-hadoop2.7/python/test_support/sql/parquet_partitioned/_SUCCESS\n",
            "spark-2.4.5-bin-hadoop2.7/python/test_support/sql/orc_partitioned/\n",
            "spark-2.4.5-bin-hadoop2.7/python/test_support/sql/orc_partitioned/b=1/\n",
            "spark-2.4.5-bin-hadoop2.7/python/test_support/sql/orc_partitioned/b=1/c=1/\n",
            "spark-2.4.5-bin-hadoop2.7/python/test_support/sql/orc_partitioned/b=1/c=1/part-r-00000-829af031-b970-49d6-ad39-30460a0be2c8.orc\n",
            "spark-2.4.5-bin-hadoop2.7/python/test_support/sql/orc_partitioned/b=1/c=1/.part-r-00000-829af031-b970-49d6-ad39-30460a0be2c8.orc.crc\n",
            "spark-2.4.5-bin-hadoop2.7/python/test_support/sql/orc_partitioned/b=0/\n",
            "spark-2.4.5-bin-hadoop2.7/python/test_support/sql/orc_partitioned/b=0/c=0/\n",
            "spark-2.4.5-bin-hadoop2.7/python/test_support/sql/orc_partitioned/b=0/c=0/part-r-00000-829af031-b970-49d6-ad39-30460a0be2c8.orc\n",
            "spark-2.4.5-bin-hadoop2.7/python/test_support/sql/orc_partitioned/b=0/c=0/.part-r-00000-829af031-b970-49d6-ad39-30460a0be2c8.orc.crc\n",
            "spark-2.4.5-bin-hadoop2.7/python/test_support/sql/orc_partitioned/_SUCCESS\n",
            "spark-2.4.5-bin-hadoop2.7/python/test_support/sql/ages_newlines.csv\n",
            "spark-2.4.5-bin-hadoop2.7/python/test_support/sql/ages.csv\n",
            "spark-2.4.5-bin-hadoop2.7/python/test_support/hello/\n",
            "spark-2.4.5-bin-hadoop2.7/python/test_support/hello/sub_hello/\n",
            "spark-2.4.5-bin-hadoop2.7/python/test_support/hello/sub_hello/sub_hello.txt\n",
            "spark-2.4.5-bin-hadoop2.7/python/test_support/hello/hello.txt\n",
            "spark-2.4.5-bin-hadoop2.7/python/test_support/SimpleHTTPServer.py\n",
            "spark-2.4.5-bin-hadoop2.7/python/test_coverage/\n",
            "spark-2.4.5-bin-hadoop2.7/python/test_coverage/sitecustomize.py\n",
            "spark-2.4.5-bin-hadoop2.7/python/test_coverage/coverage_daemon.py\n",
            "spark-2.4.5-bin-hadoop2.7/python/test_coverage/conf/\n",
            "spark-2.4.5-bin-hadoop2.7/python/test_coverage/conf/spark-defaults.conf\n",
            "spark-2.4.5-bin-hadoop2.7/python/setup.cfg\n",
            "spark-2.4.5-bin-hadoop2.7/python/pyspark/\n",
            "spark-2.4.5-bin-hadoop2.7/python/pyspark/python/\n",
            "spark-2.4.5-bin-hadoop2.7/python/pyspark/python/pyspark/\n",
            "spark-2.4.5-bin-hadoop2.7/python/pyspark/python/pyspark/shell.py\n",
            "spark-2.4.5-bin-hadoop2.7/python/pyspark/worker.py\n",
            "spark-2.4.5-bin-hadoop2.7/python/pyspark/version.py\n",
            "spark-2.4.5-bin-hadoop2.7/python/pyspark/util.py\n",
            "spark-2.4.5-bin-hadoop2.7/python/pyspark/tests.py\n",
            "spark-2.4.5-bin-hadoop2.7/python/pyspark/test_serializers.py\n",
            "spark-2.4.5-bin-hadoop2.7/python/pyspark/test_broadcast.py\n",
            "spark-2.4.5-bin-hadoop2.7/python/pyspark/taskcontext.py\n",
            "spark-2.4.5-bin-hadoop2.7/python/pyspark/storagelevel.py\n",
            "spark-2.4.5-bin-hadoop2.7/python/pyspark/shuffle.py\n",
            "spark-2.4.5-bin-hadoop2.7/python/pyspark/serializers.py\n",
            "spark-2.4.5-bin-hadoop2.7/python/pyspark/resultiterable.py\n",
            "spark-2.4.5-bin-hadoop2.7/python/pyspark/rdd.py\n",
            "spark-2.4.5-bin-hadoop2.7/python/pyspark/profiler.py\n",
            "spark-2.4.5-bin-hadoop2.7/python/pyspark/java_gateway.py\n",
            "spark-2.4.5-bin-hadoop2.7/python/pyspark/files.py\n",
            "spark-2.4.5-bin-hadoop2.7/python/pyspark/daemon.py\n",
            "spark-2.4.5-bin-hadoop2.7/python/pyspark/context.py\n",
            "spark-2.4.5-bin-hadoop2.7/python/pyspark/conf.py\n",
            "spark-2.4.5-bin-hadoop2.7/python/pyspark/cloudpickle.py\n",
            "spark-2.4.5-bin-hadoop2.7/python/pyspark/broadcast.py\n",
            "spark-2.4.5-bin-hadoop2.7/python/pyspark/accumulators.py\n",
            "spark-2.4.5-bin-hadoop2.7/python/pyspark/__init__.py\n",
            "spark-2.4.5-bin-hadoop2.7/python/pyspark/traceback_utils.py\n",
            "spark-2.4.5-bin-hadoop2.7/python/pyspark/streaming/\n",
            "spark-2.4.5-bin-hadoop2.7/python/pyspark/streaming/tests.py\n",
            "spark-2.4.5-bin-hadoop2.7/python/pyspark/streaming/kinesis.py\n",
            "spark-2.4.5-bin-hadoop2.7/python/pyspark/streaming/kafka.py\n",
            "spark-2.4.5-bin-hadoop2.7/python/pyspark/streaming/flume.py\n",
            "spark-2.4.5-bin-hadoop2.7/python/pyspark/streaming/dstream.py\n",
            "spark-2.4.5-bin-hadoop2.7/python/pyspark/streaming/context.py\n",
            "spark-2.4.5-bin-hadoop2.7/python/pyspark/streaming/util.py\n",
            "spark-2.4.5-bin-hadoop2.7/python/pyspark/streaming/listener.py\n",
            "spark-2.4.5-bin-hadoop2.7/python/pyspark/streaming/__init__.py\n",
            "spark-2.4.5-bin-hadoop2.7/python/pyspark/status.py\n",
            "spark-2.4.5-bin-hadoop2.7/python/pyspark/statcounter.py\n",
            "spark-2.4.5-bin-hadoop2.7/python/pyspark/sql/\n",
            "spark-2.4.5-bin-hadoop2.7/python/pyspark/sql/window.py\n",
            "spark-2.4.5-bin-hadoop2.7/python/pyspark/sql/utils.py\n",
            "spark-2.4.5-bin-hadoop2.7/python/pyspark/sql/udf.py\n",
            "spark-2.4.5-bin-hadoop2.7/python/pyspark/sql/types.py\n",
            "spark-2.4.5-bin-hadoop2.7/python/pyspark/sql/tests.py\n",
            "spark-2.4.5-bin-hadoop2.7/python/pyspark/sql/streaming.py\n",
            "spark-2.4.5-bin-hadoop2.7/python/pyspark/sql/session.py\n",
            "spark-2.4.5-bin-hadoop2.7/python/pyspark/sql/readwriter.py\n",
            "spark-2.4.5-bin-hadoop2.7/python/pyspark/sql/group.py\n",
            "spark-2.4.5-bin-hadoop2.7/python/pyspark/sql/functions.py\n",
            "spark-2.4.5-bin-hadoop2.7/python/pyspark/sql/dataframe.py\n",
            "spark-2.4.5-bin-hadoop2.7/python/pyspark/sql/context.py\n",
            "spark-2.4.5-bin-hadoop2.7/python/pyspark/sql/column.py\n",
            "spark-2.4.5-bin-hadoop2.7/python/pyspark/sql/catalog.py\n",
            "spark-2.4.5-bin-hadoop2.7/python/pyspark/sql/__init__.py\n",
            "spark-2.4.5-bin-hadoop2.7/python/pyspark/sql/conf.py\n",
            "spark-2.4.5-bin-hadoop2.7/python/pyspark/shell.py\n",
            "spark-2.4.5-bin-hadoop2.7/python/pyspark/rddsampler.py\n",
            "spark-2.4.5-bin-hadoop2.7/python/pyspark/mllib/\n",
            "spark-2.4.5-bin-hadoop2.7/python/pyspark/mllib/util.py\n",
            "spark-2.4.5-bin-hadoop2.7/python/pyspark/mllib/tree.py\n",
            "spark-2.4.5-bin-hadoop2.7/python/pyspark/mllib/tests.py\n",
            "spark-2.4.5-bin-hadoop2.7/python/pyspark/mllib/regression.py\n",
            "spark-2.4.5-bin-hadoop2.7/python/pyspark/mllib/recommendation.py\n",
            "spark-2.4.5-bin-hadoop2.7/python/pyspark/mllib/random.py\n",
            "spark-2.4.5-bin-hadoop2.7/python/pyspark/mllib/fpm.py\n",
            "spark-2.4.5-bin-hadoop2.7/python/pyspark/mllib/feature.py\n",
            "spark-2.4.5-bin-hadoop2.7/python/pyspark/mllib/evaluation.py\n",
            "spark-2.4.5-bin-hadoop2.7/python/pyspark/mllib/clustering.py\n",
            "spark-2.4.5-bin-hadoop2.7/python/pyspark/mllib/classification.py\n",
            "spark-2.4.5-bin-hadoop2.7/python/pyspark/mllib/stat/\n",
            "spark-2.4.5-bin-hadoop2.7/python/pyspark/mllib/stat/_statistics.py\n",
            "spark-2.4.5-bin-hadoop2.7/python/pyspark/mllib/stat/test.py\n",
            "spark-2.4.5-bin-hadoop2.7/python/pyspark/mllib/stat/distribution.py\n",
            "spark-2.4.5-bin-hadoop2.7/python/pyspark/mllib/stat/__init__.py\n",
            "spark-2.4.5-bin-hadoop2.7/python/pyspark/mllib/stat/KernelDensity.py\n",
            "spark-2.4.5-bin-hadoop2.7/python/pyspark/mllib/linalg/\n",
            "spark-2.4.5-bin-hadoop2.7/python/pyspark/mllib/linalg/distributed.py\n",
            "spark-2.4.5-bin-hadoop2.7/python/pyspark/mllib/linalg/__init__.py\n",
            "spark-2.4.5-bin-hadoop2.7/python/pyspark/mllib/common.py\n",
            "spark-2.4.5-bin-hadoop2.7/python/pyspark/mllib/__init__.py\n",
            "spark-2.4.5-bin-hadoop2.7/python/pyspark/ml/\n",
            "spark-2.4.5-bin-hadoop2.7/python/pyspark/ml/wrapper.py\n",
            "spark-2.4.5-bin-hadoop2.7/python/pyspark/ml/util.py\n",
            "spark-2.4.5-bin-hadoop2.7/python/pyspark/ml/tuning.py\n",
            "spark-2.4.5-bin-hadoop2.7/python/pyspark/ml/tests.py\n",
            "spark-2.4.5-bin-hadoop2.7/python/pyspark/ml/stat.py\n",
            "spark-2.4.5-bin-hadoop2.7/python/pyspark/ml/regression.py\n",
            "spark-2.4.5-bin-hadoop2.7/python/pyspark/ml/recommendation.py\n",
            "spark-2.4.5-bin-hadoop2.7/python/pyspark/ml/image.py\n",
            "spark-2.4.5-bin-hadoop2.7/python/pyspark/ml/fpm.py\n",
            "spark-2.4.5-bin-hadoop2.7/python/pyspark/ml/feature.py\n",
            "spark-2.4.5-bin-hadoop2.7/python/pyspark/ml/evaluation.py\n",
            "spark-2.4.5-bin-hadoop2.7/python/pyspark/ml/clustering.py\n",
            "spark-2.4.5-bin-hadoop2.7/python/pyspark/ml/classification.py\n",
            "spark-2.4.5-bin-hadoop2.7/python/pyspark/ml/base.py\n",
            "spark-2.4.5-bin-hadoop2.7/python/pyspark/ml/pipeline.py\n",
            "spark-2.4.5-bin-hadoop2.7/python/pyspark/ml/param/\n",
            "spark-2.4.5-bin-hadoop2.7/python/pyspark/ml/param/shared.py\n",
            "spark-2.4.5-bin-hadoop2.7/python/pyspark/ml/param/_shared_params_code_gen.py\n",
            "spark-2.4.5-bin-hadoop2.7/python/pyspark/ml/param/__init__.py\n",
            "spark-2.4.5-bin-hadoop2.7/python/pyspark/ml/linalg/\n",
            "spark-2.4.5-bin-hadoop2.7/python/pyspark/ml/linalg/__init__.py\n",
            "spark-2.4.5-bin-hadoop2.7/python/pyspark/ml/common.py\n",
            "spark-2.4.5-bin-hadoop2.7/python/pyspark/ml/__init__.py\n",
            "spark-2.4.5-bin-hadoop2.7/python/pyspark/join.py\n",
            "spark-2.4.5-bin-hadoop2.7/python/pyspark/heapq3.py\n",
            "spark-2.4.5-bin-hadoop2.7/python/pyspark/find_spark_home.py\n",
            "spark-2.4.5-bin-hadoop2.7/python/pyspark/_globals.py\n",
            "spark-2.4.5-bin-hadoop2.7/python/pylintrc\n",
            "spark-2.4.5-bin-hadoop2.7/python/lib/\n",
            "spark-2.4.5-bin-hadoop2.7/python/lib/pyspark.zip\n",
            "spark-2.4.5-bin-hadoop2.7/python/lib/py4j-0.10.7-src.zip\n",
            "spark-2.4.5-bin-hadoop2.7/python/lib/PY4J_LICENSE.txt\n",
            "spark-2.4.5-bin-hadoop2.7/python/docs/\n",
            "spark-2.4.5-bin-hadoop2.7/python/docs/pyspark.streaming.rst\n",
            "spark-2.4.5-bin-hadoop2.7/python/docs/pyspark.sql.rst\n",
            "spark-2.4.5-bin-hadoop2.7/python/docs/pyspark.ml.rst\n",
            "spark-2.4.5-bin-hadoop2.7/python/docs/epytext.py\n",
            "spark-2.4.5-bin-hadoop2.7/python/docs/conf.py\n",
            "spark-2.4.5-bin-hadoop2.7/python/docs/Makefile\n",
            "spark-2.4.5-bin-hadoop2.7/python/docs/pyspark.rst\n",
            "spark-2.4.5-bin-hadoop2.7/python/docs/pyspark.mllib.rst\n",
            "spark-2.4.5-bin-hadoop2.7/python/docs/make2.bat\n",
            "spark-2.4.5-bin-hadoop2.7/python/docs/make.bat\n",
            "spark-2.4.5-bin-hadoop2.7/python/docs/index.rst\n",
            "spark-2.4.5-bin-hadoop2.7/python/docs/_templates/\n",
            "spark-2.4.5-bin-hadoop2.7/python/docs/_templates/layout.html\n",
            "spark-2.4.5-bin-hadoop2.7/python/docs/_static/\n",
            "spark-2.4.5-bin-hadoop2.7/python/docs/_static/pyspark.js\n",
            "spark-2.4.5-bin-hadoop2.7/python/docs/_static/pyspark.css\n",
            "spark-2.4.5-bin-hadoop2.7/python/.gitignore\n",
            "spark-2.4.5-bin-hadoop2.7/python/.coveragerc\n",
            "spark-2.4.5-bin-hadoop2.7/bin/\n",
            "spark-2.4.5-bin-hadoop2.7/bin/spark-class\n",
            "spark-2.4.5-bin-hadoop2.7/bin/pyspark2.cmd\n",
            "spark-2.4.5-bin-hadoop2.7/bin/pyspark\n",
            "spark-2.4.5-bin-hadoop2.7/bin/load-spark-env.sh\n",
            "spark-2.4.5-bin-hadoop2.7/bin/load-spark-env.cmd\n",
            "spark-2.4.5-bin-hadoop2.7/bin/docker-image-tool.sh\n",
            "spark-2.4.5-bin-hadoop2.7/bin/sparkR2.cmd\n",
            "spark-2.4.5-bin-hadoop2.7/bin/sparkR.cmd\n",
            "spark-2.4.5-bin-hadoop2.7/bin/sparkR\n",
            "spark-2.4.5-bin-hadoop2.7/bin/spark-submit2.cmd\n",
            "spark-2.4.5-bin-hadoop2.7/bin/spark-submit.cmd\n",
            "spark-2.4.5-bin-hadoop2.7/bin/spark-submit\n",
            "spark-2.4.5-bin-hadoop2.7/bin/spark-sql2.cmd\n",
            "spark-2.4.5-bin-hadoop2.7/bin/spark-sql.cmd\n",
            "spark-2.4.5-bin-hadoop2.7/bin/spark-sql\n",
            "spark-2.4.5-bin-hadoop2.7/bin/spark-shell2.cmd\n",
            "spark-2.4.5-bin-hadoop2.7/bin/spark-shell.cmd\n",
            "spark-2.4.5-bin-hadoop2.7/bin/spark-shell\n",
            "spark-2.4.5-bin-hadoop2.7/bin/spark-class2.cmd\n",
            "spark-2.4.5-bin-hadoop2.7/bin/spark-class.cmd\n",
            "spark-2.4.5-bin-hadoop2.7/bin/run-example.cmd\n",
            "spark-2.4.5-bin-hadoop2.7/bin/run-example\n",
            "spark-2.4.5-bin-hadoop2.7/bin/pyspark.cmd\n",
            "spark-2.4.5-bin-hadoop2.7/bin/find-spark-home.cmd\n",
            "spark-2.4.5-bin-hadoop2.7/bin/find-spark-home\n",
            "spark-2.4.5-bin-hadoop2.7/bin/beeline.cmd\n",
            "spark-2.4.5-bin-hadoop2.7/bin/beeline\n",
            "spark-2.4.5-bin-hadoop2.7/README.md\n",
            "spark-2.4.5-bin-hadoop2.7/conf/\n",
            "spark-2.4.5-bin-hadoop2.7/conf/spark-env.sh.template\n",
            "spark-2.4.5-bin-hadoop2.7/conf/spark-defaults.conf.template\n",
            "spark-2.4.5-bin-hadoop2.7/conf/slaves.template\n",
            "spark-2.4.5-bin-hadoop2.7/conf/metrics.properties.template\n",
            "spark-2.4.5-bin-hadoop2.7/conf/log4j.properties.template\n",
            "spark-2.4.5-bin-hadoop2.7/conf/fairscheduler.xml.template\n",
            "spark-2.4.5-bin-hadoop2.7/conf/docker.properties.template\n",
            "spark-2.4.5-bin-hadoop2.7/data/\n",
            "spark-2.4.5-bin-hadoop2.7/data/streaming/\n",
            "spark-2.4.5-bin-hadoop2.7/data/streaming/AFINN-111.txt\n",
            "spark-2.4.5-bin-hadoop2.7/data/mllib/\n",
            "spark-2.4.5-bin-hadoop2.7/data/mllib/streaming_kmeans_data_test.txt\n",
            "spark-2.4.5-bin-hadoop2.7/data/mllib/sample_svm_data.txt\n",
            "spark-2.4.5-bin-hadoop2.7/data/mllib/sample_multiclass_classification_data.txt\n",
            "spark-2.4.5-bin-hadoop2.7/data/mllib/sample_movielens_data.txt\n",
            "spark-2.4.5-bin-hadoop2.7/data/mllib/sample_linear_regression_data.txt\n",
            "spark-2.4.5-bin-hadoop2.7/data/mllib/sample_libsvm_data.txt\n",
            "spark-2.4.5-bin-hadoop2.7/data/mllib/sample_lda_libsvm_data.txt\n",
            "spark-2.4.5-bin-hadoop2.7/data/mllib/sample_lda_data.txt\n",
            "spark-2.4.5-bin-hadoop2.7/data/mllib/sample_kmeans_data.txt\n",
            "spark-2.4.5-bin-hadoop2.7/data/mllib/sample_isotonic_regression_libsvm_data.txt\n",
            "spark-2.4.5-bin-hadoop2.7/data/mllib/sample_fpgrowth.txt\n",
            "spark-2.4.5-bin-hadoop2.7/data/mllib/sample_binary_classification_data.txt\n",
            "spark-2.4.5-bin-hadoop2.7/data/mllib/ridge-data/\n",
            "spark-2.4.5-bin-hadoop2.7/data/mllib/ridge-data/lpsa.data\n",
            "spark-2.4.5-bin-hadoop2.7/data/mllib/pic_data.txt\n",
            "spark-2.4.5-bin-hadoop2.7/data/mllib/pagerank_data.txt\n",
            "spark-2.4.5-bin-hadoop2.7/data/mllib/kmeans_data.txt\n",
            "spark-2.4.5-bin-hadoop2.7/data/mllib/iris_libsvm.txt\n",
            "spark-2.4.5-bin-hadoop2.7/data/mllib/images/\n",
            "spark-2.4.5-bin-hadoop2.7/data/mllib/images/partitioned/\n",
            "spark-2.4.5-bin-hadoop2.7/data/mllib/images/partitioned/cls=multichannel/\n",
            "spark-2.4.5-bin-hadoop2.7/data/mllib/images/partitioned/cls=multichannel/date=2018-02/\n",
            "spark-2.4.5-bin-hadoop2.7/data/mllib/images/partitioned/cls=multichannel/date=2018-02/grayscale.jpg\n",
            "spark-2.4.5-bin-hadoop2.7/data/mllib/images/partitioned/cls=multichannel/date=2018-02/chr30.4.184.jpg\n",
            "spark-2.4.5-bin-hadoop2.7/data/mllib/images/partitioned/cls=multichannel/date=2018-01/\n",
            "spark-2.4.5-bin-hadoop2.7/data/mllib/images/partitioned/cls=multichannel/date=2018-01/BGRA_alpha_60.png\n",
            "spark-2.4.5-bin-hadoop2.7/data/mllib/images/partitioned/cls=multichannel/date=2018-01/BGRA.png\n",
            "spark-2.4.5-bin-hadoop2.7/data/mllib/images/partitioned/cls=kittens/\n",
            "spark-2.4.5-bin-hadoop2.7/data/mllib/images/partitioned/cls=kittens/date=2018-02/\n",
            "spark-2.4.5-bin-hadoop2.7/data/mllib/images/partitioned/cls=kittens/date=2018-02/DP802813.jpg\n",
            "spark-2.4.5-bin-hadoop2.7/data/mllib/images/partitioned/cls=kittens/date=2018-02/DP153539.jpg\n",
            "spark-2.4.5-bin-hadoop2.7/data/mllib/images/partitioned/cls=kittens/date=2018-02/54893.jpg\n",
            "spark-2.4.5-bin-hadoop2.7/data/mllib/images/partitioned/cls=kittens/date=2018-01/\n",
            "spark-2.4.5-bin-hadoop2.7/data/mllib/images/partitioned/cls=kittens/date=2018-01/not-image.txt\n",
            "spark-2.4.5-bin-hadoop2.7/data/mllib/images/partitioned/cls=kittens/date=2018-01/29.5.a_b_EGDP022204.jpg\n",
            "spark-2.4.5-bin-hadoop2.7/data/mllib/images/origin/\n",
            "spark-2.4.5-bin-hadoop2.7/data/mllib/images/origin/multi-channel/\n",
            "spark-2.4.5-bin-hadoop2.7/data/mllib/images/origin/multi-channel/grayscale.jpg\n",
            "spark-2.4.5-bin-hadoop2.7/data/mllib/images/origin/multi-channel/chr30.4.184.jpg\n",
            "spark-2.4.5-bin-hadoop2.7/data/mllib/images/origin/multi-channel/BGRA_alpha_60.png\n",
            "spark-2.4.5-bin-hadoop2.7/data/mllib/images/origin/multi-channel/BGRA.png\n",
            "spark-2.4.5-bin-hadoop2.7/data/mllib/images/origin/license.txt\n",
            "spark-2.4.5-bin-hadoop2.7/data/mllib/images/origin/kittens/\n",
            "spark-2.4.5-bin-hadoop2.7/data/mllib/images/origin/kittens/not-image.txt\n",
            "spark-2.4.5-bin-hadoop2.7/data/mllib/images/origin/kittens/DP802813.jpg\n",
            "spark-2.4.5-bin-hadoop2.7/data/mllib/images/origin/kittens/DP153539.jpg\n",
            "spark-2.4.5-bin-hadoop2.7/data/mllib/images/origin/kittens/54893.jpg\n",
            "spark-2.4.5-bin-hadoop2.7/data/mllib/images/origin/kittens/29.5.a_b_EGDP022204.jpg\n",
            "spark-2.4.5-bin-hadoop2.7/data/mllib/images/license.txt\n",
            "spark-2.4.5-bin-hadoop2.7/data/mllib/gmm_data.txt\n",
            "spark-2.4.5-bin-hadoop2.7/data/mllib/als/\n",
            "spark-2.4.5-bin-hadoop2.7/data/mllib/als/test.data\n",
            "spark-2.4.5-bin-hadoop2.7/data/mllib/als/sample_movielens_ratings.txt\n",
            "spark-2.4.5-bin-hadoop2.7/data/graphx/\n",
            "spark-2.4.5-bin-hadoop2.7/data/graphx/users.txt\n",
            "spark-2.4.5-bin-hadoop2.7/data/graphx/followers.txt\n",
            "spark-2.4.5-bin-hadoop2.7/NOTICE\n"
          ],
          "name": "stdout"
        }
      ]
    },
    {
      "cell_type": "code",
      "metadata": {
        "id": "6Dwpn8wv9lgO"
      },
      "source": [
        "# Set enviroment variable ให้รู้จัก Spark\n",
        "import os\n",
        "os.environ[\"JAVA_HOME\"] = \"/usr/lib/jvm/java-8-openjdk-amd64\"\n",
        "os.environ[\"SPARK_HOME\"] = \"/content/spark-2.4.5-bin-hadoop2.7\""
      ],
      "execution_count": null,
      "outputs": []
    },
    {
      "cell_type": "code",
      "metadata": {
        "id": "qHNIVIS8ygwc",
        "colab": {
          "base_uri": "https://localhost:8080/",
          "height": 260
        },
        "outputId": "4df3307b-d392-4199-c54f-99959a4a5b3d"
      },
      "source": [
        "# ลง pyspark ผ่านคำสั่ง pip\n",
        "!pip install pyspark==2.4.5"
      ],
      "execution_count": null,
      "outputs": [
        {
          "output_type": "stream",
          "text": [
            "Collecting pyspark==2.4.5\n",
            "\u001b[?25l  Downloading https://files.pythonhosted.org/packages/9a/5a/271c416c1c2185b6cb0151b29a91fff6fcaed80173c8584ff6d20e46b465/pyspark-2.4.5.tar.gz (217.8MB)\n",
            "\u001b[K     |████████████████████████████████| 217.8MB 62kB/s \n",
            "\u001b[?25hCollecting py4j==0.10.7\n",
            "\u001b[?25l  Downloading https://files.pythonhosted.org/packages/e3/53/c737818eb9a7dc32a7cd4f1396e787bd94200c3997c72c1dbe028587bd76/py4j-0.10.7-py2.py3-none-any.whl (197kB)\n",
            "\u001b[K     |████████████████████████████████| 204kB 35.9MB/s \n",
            "\u001b[?25hBuilding wheels for collected packages: pyspark\n",
            "  Building wheel for pyspark (setup.py) ... \u001b[?25l\u001b[?25hdone\n",
            "  Created wheel for pyspark: filename=pyspark-2.4.5-py2.py3-none-any.whl size=218257927 sha256=375415525b3a563108b21e5a7412e1a16479513691e4695932aaf3108f765207\n",
            "  Stored in directory: /root/.cache/pip/wheels/bf/db/04/61d66a5939364e756eb1c1be4ec5bdce6e04047fc7929a3c3c\n",
            "Successfully built pyspark\n",
            "Installing collected packages: py4j, pyspark\n",
            "Successfully installed py4j-0.10.7 pyspark-2.4.5\n"
          ],
          "name": "stdout"
        }
      ]
    },
    {
      "cell_type": "markdown",
      "metadata": {
        "id": "2aX_fiEkrkVo"
      },
      "source": [
        "#### ใช้งาน Spark\n",
        "\n",
        "ใช้ `local[*]` เพื่อเปิดการใช้งานการประมวลผลแบบ multi-core. Spark จะใช้ CPU ทุก core ที่อนุญาตให้ใช้งานในเครื่อง."
      ]
    },
    {
      "cell_type": "code",
      "metadata": {
        "id": "ASZqLPXDPJJB",
        "colab": {
          "base_uri": "https://localhost:8080/",
          "height": 963
        },
        "outputId": "79424914-234f-4d39-d424-e266e402a377"
      },
      "source": [
        "# Server ของ Google Colab มีกี่ Core\n",
        "!cat /proc/cpuinfo"
      ],
      "execution_count": null,
      "outputs": [
        {
          "output_type": "stream",
          "text": [
            "processor\t: 0\n",
            "vendor_id\t: GenuineIntel\n",
            "cpu family\t: 6\n",
            "model\t\t: 79\n",
            "model name\t: Intel(R) Xeon(R) CPU @ 2.20GHz\n",
            "stepping\t: 0\n",
            "microcode\t: 0x1\n",
            "cpu MHz\t\t: 2200.202\n",
            "cache size\t: 56320 KB\n",
            "physical id\t: 0\n",
            "siblings\t: 2\n",
            "core id\t\t: 0\n",
            "cpu cores\t: 1\n",
            "apicid\t\t: 0\n",
            "initial apicid\t: 0\n",
            "fpu\t\t: yes\n",
            "fpu_exception\t: yes\n",
            "cpuid level\t: 13\n",
            "wp\t\t: yes\n",
            "flags\t\t: fpu vme de pse tsc msr pae mce cx8 apic sep mtrr pge mca cmov pat pse36 clflush mmx fxsr sse sse2 ss ht syscall nx pdpe1gb rdtscp lm constant_tsc rep_good nopl xtopology nonstop_tsc cpuid tsc_known_freq pni pclmulqdq ssse3 fma cx16 pcid sse4_1 sse4_2 x2apic movbe popcnt aes xsave avx f16c rdrand hypervisor lahf_lm abm 3dnowprefetch invpcid_single ssbd ibrs ibpb stibp fsgsbase tsc_adjust bmi1 hle avx2 smep bmi2 erms invpcid rtm rdseed adx smap xsaveopt arat md_clear arch_capabilities\n",
            "bugs\t\t: cpu_meltdown spectre_v1 spectre_v2 spec_store_bypass l1tf mds swapgs taa\n",
            "bogomips\t: 4400.40\n",
            "clflush size\t: 64\n",
            "cache_alignment\t: 64\n",
            "address sizes\t: 46 bits physical, 48 bits virtual\n",
            "power management:\n",
            "\n",
            "processor\t: 1\n",
            "vendor_id\t: GenuineIntel\n",
            "cpu family\t: 6\n",
            "model\t\t: 79\n",
            "model name\t: Intel(R) Xeon(R) CPU @ 2.20GHz\n",
            "stepping\t: 0\n",
            "microcode\t: 0x1\n",
            "cpu MHz\t\t: 2200.202\n",
            "cache size\t: 56320 KB\n",
            "physical id\t: 0\n",
            "siblings\t: 2\n",
            "core id\t\t: 0\n",
            "cpu cores\t: 1\n",
            "apicid\t\t: 1\n",
            "initial apicid\t: 1\n",
            "fpu\t\t: yes\n",
            "fpu_exception\t: yes\n",
            "cpuid level\t: 13\n",
            "wp\t\t: yes\n",
            "flags\t\t: fpu vme de pse tsc msr pae mce cx8 apic sep mtrr pge mca cmov pat pse36 clflush mmx fxsr sse sse2 ss ht syscall nx pdpe1gb rdtscp lm constant_tsc rep_good nopl xtopology nonstop_tsc cpuid tsc_known_freq pni pclmulqdq ssse3 fma cx16 pcid sse4_1 sse4_2 x2apic movbe popcnt aes xsave avx f16c rdrand hypervisor lahf_lm abm 3dnowprefetch invpcid_single ssbd ibrs ibpb stibp fsgsbase tsc_adjust bmi1 hle avx2 smep bmi2 erms invpcid rtm rdseed adx smap xsaveopt arat md_clear arch_capabilities\n",
            "bugs\t\t: cpu_meltdown spectre_v1 spectre_v2 spec_store_bypass l1tf mds swapgs taa\n",
            "bogomips\t: 4400.40\n",
            "clflush size\t: 64\n",
            "cache_alignment\t: 64\n",
            "address sizes\t: 46 bits physical, 48 bits virtual\n",
            "power management:\n",
            "\n"
          ],
          "name": "stdout"
        }
      ]
    },
    {
      "cell_type": "code",
      "metadata": {
        "id": "e6-PYi44nH2e"
      },
      "source": [
        "# สร้าง Spark Session\n",
        "from pyspark.sql import SparkSession\n",
        "spark = SparkSession.builder.master(\"local[*]\").getOrCreate()"
      ],
      "execution_count": null,
      "outputs": []
    },
    {
      "cell_type": "code",
      "metadata": {
        "id": "c8Fuuh_8ocdw",
        "colab": {
          "base_uri": "https://localhost:8080/",
          "height": 34
        },
        "outputId": "00c7d154-9aef-49e6-af08-59371cc6299c"
      },
      "source": [
        "# Get Python version\n",
        "import sys\n",
        "sys.version_info"
      ],
      "execution_count": null,
      "outputs": [
        {
          "output_type": "execute_result",
          "data": {
            "text/plain": [
              "sys.version_info(major=3, minor=6, micro=9, releaselevel='final', serial=0)"
            ]
          },
          "metadata": {
            "tags": []
          },
          "execution_count": 6
        }
      ]
    },
    {
      "cell_type": "code",
      "metadata": {
        "id": "obpcIPP4oOvk",
        "colab": {
          "base_uri": "https://localhost:8080/",
          "height": 35
        },
        "outputId": "21a98e3f-8031-457b-dbfc-4add1461b163"
      },
      "source": [
        "# Get Spark version\n",
        "spark.version"
      ],
      "execution_count": null,
      "outputs": [
        {
          "output_type": "execute_result",
          "data": {
            "application/vnd.google.colaboratory.intrinsic+json": {
              "type": "string"
            },
            "text/plain": [
              "'2.4.5'"
            ]
          },
          "metadata": {
            "tags": []
          },
          "execution_count": 7
        }
      ]
    },
    {
      "cell_type": "markdown",
      "metadata": {
        "id": "dzy7awN1orhZ"
      },
      "source": [
        "#### เชื่อมต่อ Google Drive\n",
        "\n",
        "เมื่อรันแล้วจะมีลิงค์ให้กด กรุณากดลิงค์ และเลือกบัญชี Google ของคุณ จากนั้นก็อปปี้โค้ดมาใส่ในกล่องข้อความ (หรือดูวิธีตามวีดิโอ Workshop ก็ได้ครับ)"
      ]
    },
    {
      "cell_type": "code",
      "metadata": {
        "id": "cWqYG_VcoeGF",
        "colab": {
          "base_uri": "https://localhost:8080/",
          "height": 123
        },
        "outputId": "c5fc8752-2c22-450d-fe94-c97902026dfc"
      },
      "source": [
        "# เชื่อมต่อ Google colab กับ Google Drive\n",
        "from google.colab import drive\n",
        "drive.mount('/content/drive')"
      ],
      "execution_count": null,
      "outputs": [
        {
          "output_type": "stream",
          "text": [
            "Go to this URL in a browser: https://accounts.google.com/o/oauth2/auth?client_id=947318989803-6bn6qk8qdgf4n4g3pfee6491hc0brc4i.apps.googleusercontent.com&redirect_uri=urn%3aietf%3awg%3aoauth%3a2.0%3aoob&scope=email%20https%3a%2f%2fwww.googleapis.com%2fauth%2fdocs.test%20https%3a%2f%2fwww.googleapis.com%2fauth%2fdrive%20https%3a%2f%2fwww.googleapis.com%2fauth%2fdrive.photos.readonly%20https%3a%2f%2fwww.googleapis.com%2fauth%2fpeopleapi.readonly&response_type=code\n",
            "\n",
            "Enter your authorization code:\n",
            "··········\n",
            "Mounted at /content/drive\n"
          ],
          "name": "stdout"
        }
      ]
    },
    {
      "cell_type": "markdown",
      "metadata": {
        "id": "_Pn2zW6xqrtY"
      },
      "source": [
        "## Load data\n",
        "\n",
        "แก้ลิงค์ไฟล์ให้เป็นลิงค์ใน Google Drive ของคุณเอง มิฉะนั้นจะรันแล้ว Error (ดูวิธีได้จากในวีดิโอ Workshop)\n",
        "\n",
        "ใช้คำสั่ง `spark.read.csv` เพื่ออ่านข้อมูลจากไฟล์ CSV\n",
        "\n",
        "Arguments:\n",
        "\n",
        "Header = True << บอกให้ Spark รู้ว่าบรรทัดแรกในไฟล์ CSV เป็น Header\n",
        "\n",
        "\n",
        "Inferschema = True << บอกให้ Spark พยายามเดาว่าแต่ละ column มี type เป็นอะไร ถ้าตั้งเป็น False, ทุก column จะถูกอ่านเป็น string"
      ]
    },
    {
      "cell_type": "code",
      "metadata": {
        "id": "8Ho4MvryoY9u"
      },
      "source": [
        "dt = spark.read.csv('/content/drive/My Drive/Data Science Chill/Online 2020: Road to Data Engineer/Workshop Files/WS2/Data Files/Online Retail WS2.csv', header = True, inferSchema = True, )"
      ],
      "execution_count": null,
      "outputs": []
    },
    {
      "cell_type": "markdown",
      "metadata": {
        "id": "gKBjHvpzTM6-"
      },
      "source": [
        "### Data Profiling"
      ]
    },
    {
      "cell_type": "markdown",
      "metadata": {
        "id": "ruTiAh69nkWT"
      },
      "source": [
        "Data Profiling is a process of analysing summary of the data.\n",
        "\n",
        "Example: max, min, average, sum, how many missing values etc.\n",
        "\n",
        "#### Data\n",
        "\n",
        "> Columns\n",
        "- InvoiceNo\n",
        "- StockCode\n",
        "- Description\n",
        "- Quantity\n",
        "- InvoiceDate\n",
        "- UnitPrice\n",
        "- CustomerID\n",
        "- Country"
      ]
    },
    {
      "cell_type": "code",
      "metadata": {
        "id": "qpb7PcpSrOWe",
        "colab": {
          "base_uri": "https://localhost:8080/",
          "height": 54
        },
        "outputId": "ec172dc4-4ea1-4508-d94d-2a3063221319"
      },
      "source": [
        "dt"
      ],
      "execution_count": null,
      "outputs": [
        {
          "output_type": "execute_result",
          "data": {
            "text/plain": [
              "DataFrame[InvoiceNo: string, StockCode: string, Description: string, Quantity: int, InvoiceDate: string, UnitPrice: double, CustomerID: double, Country: string]"
            ]
          },
          "metadata": {
            "tags": []
          },
          "execution_count": 10
        }
      ]
    },
    {
      "cell_type": "code",
      "metadata": {
        "id": "7rEzUAWCS3Gd",
        "colab": {
          "base_uri": "https://localhost:8080/",
          "height": 463
        },
        "outputId": "517b617d-7780-4b11-a31e-84ee0a30a3c7"
      },
      "source": [
        "dt.show()"
      ],
      "execution_count": null,
      "outputs": [
        {
          "output_type": "stream",
          "text": [
            "+---------+---------+--------------------+--------+---------------+---------+----------+--------------+\n",
            "|InvoiceNo|StockCode|         Description|Quantity|    InvoiceDate|UnitPrice|CustomerID|       Country|\n",
            "+---------+---------+--------------------+--------+---------------+---------+----------+--------------+\n",
            "|   536365|   85123A|WHITE HANGING HEA...|       6|1/12/2018 08:26|     2.55|   17850.0|United Kingdom|\n",
            "|   536365|    71053| WHITE METAL LANTERN|       6|1/12/2018 08:26|     3.39|   17850.0|United Kingdom|\n",
            "|   536365|   84406B|CREAM CUPID HEART...|       8|1/12/2018 08:26|     2.75|   17850.0|United Kingdom|\n",
            "|   536365|   84029G|KNITTED UNION FLA...|       6|1/12/2018 08:26|     3.39|   17850.0|United Kingdom|\n",
            "|   536365|   84029E|RED WOOLLY HOTTIE...|       6|1/12/2018 08:26|     3.39|   17850.0|United Kingdom|\n",
            "|   536365|    22752|SET 7 BABUSHKA NE...|       2|1/12/2018 08:26|     7.65|   17850.0|United Kingdom|\n",
            "|   536365|    21730|GLASS STAR FROSTE...|       6|1/12/2018 08:26|     4.25|   17850.0|United Kingdom|\n",
            "|   536366|    22633|HAND WARMER UNION...|       6|1/12/2018 08:28|     1.85|   17850.0|United Kingdom|\n",
            "|   536366|    22632|HAND WARMER RED P...|       6|1/12/2018 08:28|     1.85|   17850.0|United Kingdom|\n",
            "|   536367|    84879|ASSORTED COLOUR B...|      32|1/12/2018 08:34|     1.69|   13047.0|United Kingdom|\n",
            "|   536367|    22745|POPPY'S PLAYHOUSE...|       6|1/12/2018 08:34|      2.1|   13047.0|United Kingdom|\n",
            "|   536367|    22748|POPPY'S PLAYHOUSE...|       6|1/12/2018 08:34|      2.1|   13047.0|United Kingdom|\n",
            "|   536367|    22749|FELTCRAFT PRINCES...|       8|1/12/2018 08:34|     3.75|   13047.0|United Kingdom|\n",
            "|   536367|    22310|IVORY KNITTED MUG...|       6|1/12/2018 08:34|     1.65|   13047.0|United Kingdom|\n",
            "|   536367|    84969|BOX OF 6 ASSORTED...|       6|1/12/2018 08:34|     4.25|   13047.0|United Kingdom|\n",
            "|   536367|    22623|BOX OF VINTAGE JI...|       3|1/12/2018 08:34|     4.95|   13047.0|United Kingdom|\n",
            "|   536367|    22622|BOX OF VINTAGE AL...|       2|1/12/2018 08:34|     9.95|   13047.0|United Kingdom|\n",
            "|   536367|    21754|HOME BUILDING BLO...|       3|1/12/2018 08:34|     5.95|   13047.0|United Kingdom|\n",
            "|   536367|    21755|LOVE BUILDING BLO...|       3|1/12/2018 08:34|     5.95|   13047.0|United Kingdom|\n",
            "|   536367|    21777|RECIPE BOX WITH M...|       4|1/12/2018 08:34|     7.95|   13047.0|United Kingdom|\n",
            "+---------+---------+--------------------+--------+---------------+---------+----------+--------------+\n",
            "only showing top 20 rows\n",
            "\n"
          ],
          "name": "stdout"
        }
      ]
    },
    {
      "cell_type": "code",
      "metadata": {
        "id": "XOgygtSZUenr",
        "colab": {
          "base_uri": "https://localhost:8080/",
          "height": 1000
        },
        "outputId": "ae00ce46-a244-46de-e8fd-95f9ad7a9df5"
      },
      "source": [
        "dt.show(100)"
      ],
      "execution_count": null,
      "outputs": [
        {
          "output_type": "stream",
          "text": [
            "+---------+---------+--------------------+--------+---------------+---------+----------+--------------+\n",
            "|InvoiceNo|StockCode|         Description|Quantity|    InvoiceDate|UnitPrice|CustomerID|       Country|\n",
            "+---------+---------+--------------------+--------+---------------+---------+----------+--------------+\n",
            "|   536365|   85123A|WHITE HANGING HEA...|       6|1/12/2018 08:26|     2.55|   17850.0|United Kingdom|\n",
            "|   536365|    71053| WHITE METAL LANTERN|       6|1/12/2018 08:26|     3.39|   17850.0|United Kingdom|\n",
            "|   536365|   84406B|CREAM CUPID HEART...|       8|1/12/2018 08:26|     2.75|   17850.0|United Kingdom|\n",
            "|   536365|   84029G|KNITTED UNION FLA...|       6|1/12/2018 08:26|     3.39|   17850.0|United Kingdom|\n",
            "|   536365|   84029E|RED WOOLLY HOTTIE...|       6|1/12/2018 08:26|     3.39|   17850.0|United Kingdom|\n",
            "|   536365|    22752|SET 7 BABUSHKA NE...|       2|1/12/2018 08:26|     7.65|   17850.0|United Kingdom|\n",
            "|   536365|    21730|GLASS STAR FROSTE...|       6|1/12/2018 08:26|     4.25|   17850.0|United Kingdom|\n",
            "|   536366|    22633|HAND WARMER UNION...|       6|1/12/2018 08:28|     1.85|   17850.0|United Kingdom|\n",
            "|   536366|    22632|HAND WARMER RED P...|       6|1/12/2018 08:28|     1.85|   17850.0|United Kingdom|\n",
            "|   536367|    84879|ASSORTED COLOUR B...|      32|1/12/2018 08:34|     1.69|   13047.0|United Kingdom|\n",
            "|   536367|    22745|POPPY'S PLAYHOUSE...|       6|1/12/2018 08:34|      2.1|   13047.0|United Kingdom|\n",
            "|   536367|    22748|POPPY'S PLAYHOUSE...|       6|1/12/2018 08:34|      2.1|   13047.0|United Kingdom|\n",
            "|   536367|    22749|FELTCRAFT PRINCES...|       8|1/12/2018 08:34|     3.75|   13047.0|United Kingdom|\n",
            "|   536367|    22310|IVORY KNITTED MUG...|       6|1/12/2018 08:34|     1.65|   13047.0|United Kingdom|\n",
            "|   536367|    84969|BOX OF 6 ASSORTED...|       6|1/12/2018 08:34|     4.25|   13047.0|United Kingdom|\n",
            "|   536367|    22623|BOX OF VINTAGE JI...|       3|1/12/2018 08:34|     4.95|   13047.0|United Kingdom|\n",
            "|   536367|    22622|BOX OF VINTAGE AL...|       2|1/12/2018 08:34|     9.95|   13047.0|United Kingdom|\n",
            "|   536367|    21754|HOME BUILDING BLO...|       3|1/12/2018 08:34|     5.95|   13047.0|United Kingdom|\n",
            "|   536367|    21755|LOVE BUILDING BLO...|       3|1/12/2018 08:34|     5.95|   13047.0|United Kingdom|\n",
            "|   536367|    21777|RECIPE BOX WITH M...|       4|1/12/2018 08:34|     7.95|   13047.0|United Kingdom|\n",
            "|   536367|    48187| DOORMAT NEW ENGLAND|       4|1/12/2018 08:34|     7.95|   13047.0|United Kingdom|\n",
            "|   536368|    22960|JAM MAKING SET WI...|       6|1/12/2018 08:34|     4.25|   13047.0|United Kingdom|\n",
            "|   536368|    22913|RED COAT RACK PAR...|       3|1/12/2018 08:34|     4.95|   13047.0|United Kingdom|\n",
            "|   536368|    22912|YELLOW COAT RACK ...|       3|1/12/2018 08:34|     4.95|   13047.0|United Kingdom|\n",
            "|   536368|    22914|BLUE COAT RACK PA...|       3|1/12/2018 08:34|     4.95|   13047.0|United Kingdom|\n",
            "|   536369|    21756|BATH BUILDING BLO...|       3|1/12/2018 08:35|     5.95|   13047.0|United Kingdom|\n",
            "|   536370|    22728|ALARM CLOCK BAKEL...|      24|1/12/2018 08:45|     3.75|   12583.0|        France|\n",
            "|   536370|    22727|ALARM CLOCK BAKEL...|      24|1/12/2018 08:45|     3.75|   12583.0|        France|\n",
            "|   536370|    22726|ALARM CLOCK BAKEL...|      12|1/12/2018 08:45|     3.75|   12583.0|        France|\n",
            "|   536370|    21724|PANDA AND BUNNIES...|      12|1/12/2018 08:45|     0.85|   12583.0|        France|\n",
            "|   536370|    21883|    STARS GIFT TAPE |      24|1/12/2018 08:45|     0.65|   12583.0|        France|\n",
            "|   536370|    10002|INFLATABLE POLITI...|      48|1/12/2018 08:45|     0.85|   12583.0|        France|\n",
            "|   536370|    21791|VINTAGE HEADS AND...|      24|1/12/2018 08:45|     1.25|   12583.0|        France|\n",
            "|   536370|    21035|SET/2 RED RETROSP...|      18|1/12/2018 08:45|     2.95|   12583.0|        France|\n",
            "|   536370|    22326|ROUND SNACK BOXES...|      24|1/12/2018 08:45|     2.95|   12583.0|        France|\n",
            "|   536370|    22629| SPACEBOY LUNCH BOX |      24|1/12/2018 08:45|     1.95|   12583.0|        France|\n",
            "|   536370|    22659|LUNCH BOX I LOVE ...|      24|1/12/2018 08:45|     1.95|   12583.0|        France|\n",
            "|   536370|    22631|CIRCUS PARADE LUN...|      24|1/12/2018 08:45|     1.95|   12583.0|        France|\n",
            "|   536370|    22661|CHARLOTTE BAG DOL...|      20|1/12/2018 08:45|     0.85|   12583.0|        France|\n",
            "|   536370|    21731|RED TOADSTOOL LED...|      24|1/12/2018 08:45|     1.65|   12583.0|        France|\n",
            "|   536370|    22900| SET 2 TEA TOWELS...|      24|1/12/2018 08:45|     2.95|   12583.0|        France|\n",
            "|   536370|    21913|VINTAGE SEASIDE J...|      12|1/12/2018 08:45|     3.75|   12583.0|        France|\n",
            "|   536370|    22540|MINI JIGSAW CIRCU...|      24|1/12/2018 08:45|     0.42|   12583.0|        France|\n",
            "|   536370|    22544|MINI JIGSAW SPACEBOY|      24|1/12/2018 08:45|     0.42|   12583.0|        France|\n",
            "|   536370|    22492|MINI PAINT SET VI...|      36|1/12/2018 08:45|     0.65|   12583.0|        France|\n",
            "|   536370|     POST|             POSTAGE|       3|1/12/2018 08:45|     18.0|   12583.0|        France|\n",
            "|   536371|    22086|PAPER CHAIN KIT 5...|      80|1/12/2018 09:00|     2.55|   13748.0|United Kingdom|\n",
            "|   536372|    22632|HAND WARMER RED P...|       6|1/12/2018 09:01|     1.85|   17850.0|United Kingdom|\n",
            "|   536372|    22633|HAND WARMER UNION...|       6|1/12/2018 09:01|     1.85|   17850.0|United Kingdom|\n",
            "|   536373|   85123A|WHITE HANGING HEA...|       6|1/12/2018 09:02|     2.55|   17850.0|United Kingdom|\n",
            "|   536373|    71053| WHITE METAL LANTERN|       6|1/12/2018 09:02|     3.39|   17850.0|United Kingdom|\n",
            "|   536373|   84406B|CREAM CUPID HEART...|       8|1/12/2018 09:02|     2.75|   17850.0|United Kingdom|\n",
            "|   536373|    20679|EDWARDIAN PARASOL...|       6|1/12/2018 09:02|     4.95|   17850.0|United Kingdom|\n",
            "|   536373|    37370|RETRO COFFEE MUGS...|       6|1/12/2018 09:02|     1.06|   17850.0|United Kingdom|\n",
            "|   536373|    21871| SAVE THE PLANET MUG|       6|1/12/2018 09:02|     1.06|   17850.0|United Kingdom|\n",
            "|   536373|    21071|VINTAGE BILLBOARD...|       6|1/12/2018 09:02|     1.06|   17850.0|United Kingdom|\n",
            "|   536373|    21068|VINTAGE BILLBOARD...|       6|1/12/2018 09:02|     1.06|   17850.0|United Kingdom|\n",
            "|   536373|    82483|WOOD 2 DRAWER CAB...|       2|1/12/2018 09:02|     4.95|   17850.0|United Kingdom|\n",
            "|   536373|    82486|WOOD S/3 CABINET ...|       4|1/12/2018 09:02|     6.95|   17850.0|United Kingdom|\n",
            "|   536373|    82482|WOODEN PICTURE FR...|       6|1/12/2018 09:02|      2.1|   17850.0|United Kingdom|\n",
            "|   536373|   82494L|WOODEN FRAME ANTI...|       6|1/12/2018 09:02|     2.55|   17850.0|United Kingdom|\n",
            "|   536373|   84029G|KNITTED UNION FLA...|       6|1/12/2018 09:02|     3.39|   17850.0|United Kingdom|\n",
            "|   536373|   84029E|RED WOOLLY HOTTIE...|       6|1/12/2018 09:02|     3.39|   17850.0|United Kingdom|\n",
            "|   536373|    22752|SET 7 BABUSHKA NE...|       2|1/12/2018 09:02|     7.65|   17850.0|United Kingdom|\n",
            "|   536373|    21730|GLASS STAR FROSTE...|       6|1/12/2018 09:02|     4.25|   17850.0|United Kingdom|\n",
            "|   536374|    21258|VICTORIAN SEWING ...|      32|1/12/2018 09:09|    10.95|   15100.0|United Kingdom|\n",
            "|   536375|   85123A|WHITE HANGING HEA...|       6|1/12/2018 09:32|     2.55|   17850.0|United Kingdom|\n",
            "|   536375|    71053| WHITE METAL LANTERN|       6|1/12/2018 09:32|     3.39|   17850.0|United Kingdom|\n",
            "|   536375|   84406B|CREAM CUPID HEART...|       8|1/12/2018 09:32|     2.75|   17850.0|United Kingdom|\n",
            "|   536375|    20679|EDWARDIAN PARASOL...|       6|1/12/2018 09:32|     4.95|   17850.0|United Kingdom|\n",
            "|   536375|    37370|RETRO COFFEE MUGS...|       6|1/12/2018 09:32|     1.06|   17850.0|United Kingdom|\n",
            "|   536375|    21871| SAVE THE PLANET MUG|       6|1/12/2018 09:32|     1.06|   17850.0|United Kingdom|\n",
            "|   536375|    21071|VINTAGE BILLBOARD...|       6|1/12/2018 09:32|     1.06|   17850.0|United Kingdom|\n",
            "|   536375|    21068|VINTAGE BILLBOARD...|       6|1/12/2018 09:32|     1.06|   17850.0|United Kingdom|\n",
            "|   536375|    82483|WOOD 2 DRAWER CAB...|       2|1/12/2018 09:32|     4.95|   17850.0|United Kingdom|\n",
            "|   536375|    82486|WOOD S/3 CABINET ...|       4|1/12/2018 09:32|     6.95|   17850.0|United Kingdom|\n",
            "|   536375|    82482|WOODEN PICTURE FR...|       6|1/12/2018 09:32|      2.1|   17850.0|United Kingdom|\n",
            "|   536375|   82494L|WOODEN FRAME ANTI...|       6|1/12/2018 09:32|     2.55|   17850.0|United Kingdom|\n",
            "|   536375|   84029G|KNITTED UNION FLA...|       6|1/12/2018 09:32|     3.39|   17850.0|United Kingdom|\n",
            "|   536375|   84029E|RED WOOLLY HOTTIE...|       6|1/12/2018 09:32|     3.39|   17850.0|United Kingdom|\n",
            "|   536375|    22752|SET 7 BABUSHKA NE...|       2|1/12/2018 09:32|     7.65|   17850.0|United Kingdom|\n",
            "|   536375|    21730|GLASS STAR FROSTE...|       6|1/12/2018 09:32|     4.25|   17850.0|United Kingdom|\n",
            "|   536376|    22114|HOT WATER BOTTLE ...|      48|1/12/2018 09:32|     3.45|   15291.0|United Kingdom|\n",
            "|   536376|    21733|RED HANGING HEART...|      64|1/12/2018 09:32|     2.55|   15291.0|United Kingdom|\n",
            "|   536377|    22632|HAND WARMER RED P...|       6|1/12/2018 09:34|     1.85|   17850.0|United Kingdom|\n",
            "|   536377|    22633|HAND WARMER UNION...|       6|1/12/2018 09:34|     1.85|   17850.0|United Kingdom|\n",
            "|   536378|    22386|JUMBO BAG PINK PO...|      10|1/12/2018 09:37|     1.95|   14688.0|United Kingdom|\n",
            "|   536378|   85099C|JUMBO  BAG BAROQU...|      10|1/12/2018 09:37|     1.95|   14688.0|United Kingdom|\n",
            "|   536378|    21033|JUMBO BAG CHARLIE...|      10|1/12/2018 09:37|     2.95|   14688.0|United Kingdom|\n",
            "|   536378|    20723|STRAWBERRY CHARLO...|      10|1/12/2018 09:37|     0.85|   14688.0|United Kingdom|\n",
            "|   536378|   84997B|RED 3 PIECE RETRO...|      12|1/12/2018 09:37|     3.75|   14688.0|United Kingdom|\n",
            "|   536378|   84997C|BLUE 3 PIECE POLK...|       6|1/12/2018 09:37|     3.75|   14688.0|United Kingdom|\n",
            "|   536378|    21094|SET/6 RED SPOTTY ...|      12|1/12/2018 09:37|     0.85|   14688.0|United Kingdom|\n",
            "|   536378|    20725|LUNCH BAG RED RET...|      10|1/12/2018 09:37|     1.65|   14688.0|United Kingdom|\n",
            "|   536378|    21559|STRAWBERRY LUNCH ...|       6|1/12/2018 09:37|     2.55|   14688.0|United Kingdom|\n",
            "|   536378|    22352|LUNCH BOX WITH CU...|       6|1/12/2018 09:37|     2.55|   14688.0|United Kingdom|\n",
            "|   536378|    21212|PACK OF 72 RETROS...|     120|1/12/2018 09:37|     0.42|   14688.0|United Kingdom|\n",
            "|   536378|    21975|PACK OF 60 DINOSA...|      24|1/12/2018 09:37|     0.55|   14688.0|United Kingdom|\n",
            "|   536378|    21977|PACK OF 60 PINK P...|      24|1/12/2018 09:37|     0.55|   14688.0|United Kingdom|\n",
            "|   536378|    84991|60 TEATIME FAIRY ...|      24|1/12/2018 09:37|     0.55|   14688.0|United Kingdom|\n",
            "+---------+---------+--------------------+--------+---------------+---------+----------+--------------+\n",
            "only showing top 100 rows\n",
            "\n"
          ],
          "name": "stdout"
        }
      ]
    },
    {
      "cell_type": "code",
      "metadata": {
        "id": "-hfU4p2sCuef",
        "colab": {
          "base_uri": "https://localhost:8080/",
          "height": 154
        },
        "outputId": "150ffc2b-dd0f-4425-d3d8-a902f0eb1c96"
      },
      "source": [
        "# Show Schema\n",
        "dt.dtypes"
      ],
      "execution_count": null,
      "outputs": [
        {
          "output_type": "execute_result",
          "data": {
            "text/plain": [
              "[('InvoiceNo', 'string'),\n",
              " ('StockCode', 'string'),\n",
              " ('Description', 'string'),\n",
              " ('Quantity', 'int'),\n",
              " ('InvoiceDate', 'string'),\n",
              " ('UnitPrice', 'double'),\n",
              " ('CustomerID', 'double'),\n",
              " ('Country', 'string')]"
            ]
          },
          "metadata": {
            "tags": []
          },
          "execution_count": 13
        }
      ]
    },
    {
      "cell_type": "code",
      "metadata": {
        "id": "Er9ltLyoCJxo",
        "colab": {
          "base_uri": "https://localhost:8080/",
          "height": 188
        },
        "outputId": "398f0d8b-e49a-461b-dcf7-4e9e1b1b429e"
      },
      "source": [
        "# Show Schema (อีกแบบ)\n",
        "dt.printSchema()"
      ],
      "execution_count": null,
      "outputs": [
        {
          "output_type": "stream",
          "text": [
            "root\n",
            " |-- InvoiceNo: string (nullable = true)\n",
            " |-- StockCode: string (nullable = true)\n",
            " |-- Description: string (nullable = true)\n",
            " |-- Quantity: integer (nullable = true)\n",
            " |-- InvoiceDate: string (nullable = true)\n",
            " |-- UnitPrice: double (nullable = true)\n",
            " |-- CustomerID: double (nullable = true)\n",
            " |-- Country: string (nullable = true)\n",
            "\n"
          ],
          "name": "stdout"
        }
      ]
    },
    {
      "cell_type": "code",
      "metadata": {
        "id": "brQdwlRpCVSi",
        "colab": {
          "base_uri": "https://localhost:8080/",
          "height": 34
        },
        "outputId": "e53b61d6-627a-4b3e-8f2f-eb4d60606166"
      },
      "source": [
        "# นับจำนวนแถวและ column\n",
        "print((dt.count(), len(dt.columns)))"
      ],
      "execution_count": null,
      "outputs": [
        {
          "output_type": "stream",
          "text": [
            "(541909, 8)\n"
          ],
          "name": "stdout"
        }
      ]
    },
    {
      "cell_type": "code",
      "metadata": {
        "id": "hZ9V4iQKUi2i",
        "colab": {
          "base_uri": "https://localhost:8080/",
          "height": 208
        },
        "outputId": "d610e54c-3db8-4215-b6b5-53de3ba660da"
      },
      "source": [
        "# สรุปข้อมูลสถิติ\n",
        "dt.describe().show()"
      ],
      "execution_count": null,
      "outputs": [
        {
          "output_type": "stream",
          "text": [
            "+-------+------------------+------------------+--------------------+------------------+---------------+-----------------+------------------+-----------+\n",
            "|summary|         InvoiceNo|         StockCode|         Description|          Quantity|    InvoiceDate|        UnitPrice|        CustomerID|    Country|\n",
            "+-------+------------------+------------------+--------------------+------------------+---------------+-----------------+------------------+-----------+\n",
            "|  count|            541909|            541909|              540455|            541909|         541909|           541909|            406829|     541909|\n",
            "|   mean|  559965.752026781|27623.240210938104|             20713.0|  9.55224954743324|           null|4.611113626082972|15287.690570239585|       null|\n",
            "| stddev|13428.417280805186| 16799.73762842771|                 NaN|218.08115785023477|           null|96.75985306117933|1713.6003033215918|       null|\n",
            "|    min|            536365|             10002| 4 PURPLE FLOCK D...|            -80995|1/11/2019 08:16|        -11062.06|           12346.0|  Australia|\n",
            "|    max|           C581569|                 m|   wrongly sold sets|             80995| 9/9/2019 17:52|          38970.0|           18287.0|Unspecified|\n",
            "+-------+------------------+------------------+--------------------+------------------+---------------+-----------------+------------------+-----------+\n",
            "\n"
          ],
          "name": "stdout"
        }
      ]
    },
    {
      "cell_type": "code",
      "metadata": {
        "id": "DJ7xtdKgVvKO",
        "colab": {
          "base_uri": "https://localhost:8080/",
          "height": 260
        },
        "outputId": "6e6637bc-b235-4530-bbcf-3db011d946ed"
      },
      "source": [
        "# สรุปข้อมูลสถิติ\n",
        "dt.summary().show()"
      ],
      "execution_count": null,
      "outputs": [
        {
          "output_type": "stream",
          "text": [
            "+-------+------------------+------------------+--------------------+------------------+---------------+-----------------+------------------+-----------+\n",
            "|summary|         InvoiceNo|         StockCode|         Description|          Quantity|    InvoiceDate|        UnitPrice|        CustomerID|    Country|\n",
            "+-------+------------------+------------------+--------------------+------------------+---------------+-----------------+------------------+-----------+\n",
            "|  count|            541909|            541909|              540455|            541909|         541909|           541909|            406829|     541909|\n",
            "|   mean|  559965.752026781|27623.240210938104|             20713.0|  9.55224954743324|           null|4.611113626082972|15287.690570239585|       null|\n",
            "| stddev|13428.417280805186| 16799.73762842771|                 NaN|218.08115785023477|           null|96.75985306117933|1713.6003033215918|       null|\n",
            "|    min|            536365|             10002| 4 PURPLE FLOCK D...|            -80995|1/11/2019 08:16|        -11062.06|           12346.0|  Australia|\n",
            "|    25%|          547903.0|           21929.0|             20713.0|                 1|           null|             1.25|           13953.0|       null|\n",
            "|    50%|          560650.0|           22569.0|             20713.0|                 3|           null|             2.08|           15152.0|       null|\n",
            "|    75%|          571841.0|           23165.0|             20713.0|                10|           null|             4.13|           16791.0|       null|\n",
            "|    max|           C581569|                 m|   wrongly sold sets|             80995| 9/9/2019 17:52|          38970.0|           18287.0|Unspecified|\n",
            "+-------+------------------+------------------+--------------------+------------------+---------------+-----------------+------------------+-----------+\n",
            "\n"
          ],
          "name": "stdout"
        }
      ]
    },
    {
      "cell_type": "code",
      "metadata": {
        "id": "LBmjzCqjM_MR",
        "colab": {
          "base_uri": "https://localhost:8080/",
          "height": 188
        },
        "outputId": "99760fe5-8c3a-4626-dc09-0d93e669fbcb"
      },
      "source": [
        "# สรุปข้อมูลสถิติเฉพาะ column ที่ระบุ\n",
        "dt.select(\"Quantity\", \"UnitPrice\").describe().show()"
      ],
      "execution_count": null,
      "outputs": [
        {
          "output_type": "stream",
          "text": [
            "+-------+------------------+-----------------+\n",
            "|summary|          Quantity|        UnitPrice|\n",
            "+-------+------------------+-----------------+\n",
            "|  count|            541909|           541909|\n",
            "|   mean|  9.55224954743324|4.611113626082972|\n",
            "| stddev|218.08115785023477|96.75985306117933|\n",
            "|    min|            -80995|        -11062.06|\n",
            "|    max|             80995|          38970.0|\n",
            "+-------+------------------+-----------------+\n",
            "\n"
          ],
          "name": "stdout"
        }
      ]
    },
    {
      "cell_type": "markdown",
      "metadata": {
        "id": "mXLwFlXdWNmI"
      },
      "source": [
        "### Exercise: ลองเช็ค Median ของ ค่า Quantity"
      ]
    },
    {
      "cell_type": "code",
      "metadata": {
        "id": "w9h9CY1XWKf3",
        "colab": {
          "base_uri": "https://localhost:8080/",
          "height": 35
        },
        "outputId": "63114ebe-823e-4318-ad8c-d369f2d58f16"
      },
      "source": [
        "# Write Answer here\n",
        "dt.select(\"Quantity\").summary().collect()[5]['Quantity']"
      ],
      "execution_count": null,
      "outputs": [
        {
          "output_type": "execute_result",
          "data": {
            "application/vnd.google.colaboratory.intrinsic+json": {
              "type": "string"
            },
            "text/plain": [
              "'3'"
            ]
          },
          "metadata": {
            "tags": []
          },
          "execution_count": 19
        }
      ]
    },
    {
      "cell_type": "markdown",
      "metadata": {
        "id": "g7gUknDUB8Wj"
      },
      "source": [
        "### ดู Summary แล้วเห็นอะไรบ้าง?\n",
        "- Missing values?\n",
        "- Mean, Min, Max"
      ]
    },
    {
      "cell_type": "markdown",
      "metadata": {
        "id": "qe1VrTpETgar"
      },
      "source": [
        "## EDA - Exploratory Data Analysis"
      ]
    },
    {
      "cell_type": "markdown",
      "metadata": {
        "id": "LRmig4MaQm2s"
      },
      "source": [
        "### Non-Graphical EDA"
      ]
    },
    {
      "cell_type": "code",
      "metadata": {
        "id": "AGkcJ3kDQmJ5",
        "colab": {
          "base_uri": "https://localhost:8080/",
          "height": 463
        },
        "outputId": "470f0755-5856-4c08-c17e-a286f2946215"
      },
      "source": [
        "# Select text-based information\n",
        "dt.where(dt['Quantity'] < 0).show()"
      ],
      "execution_count": null,
      "outputs": [
        {
          "output_type": "stream",
          "text": [
            "+---------+---------+--------------------+--------+---------------+---------+----------+--------------+\n",
            "|InvoiceNo|StockCode|         Description|Quantity|    InvoiceDate|UnitPrice|CustomerID|       Country|\n",
            "+---------+---------+--------------------+--------+---------------+---------+----------+--------------+\n",
            "|  C536379|        D|            Discount|      -1|1/12/2018 09:41|     27.5|   14527.0|United Kingdom|\n",
            "|  C536383|   35004C|SET OF 3 COLOURED...|      -1|1/12/2018 09:49|     4.65|   15311.0|United Kingdom|\n",
            "|  C536391|    22556|PLASTERS IN TIN C...|     -12|1/12/2018 10:24|     1.65|   17548.0|United Kingdom|\n",
            "|  C536391|    21984|PACK OF 12 PINK P...|     -24|1/12/2018 10:24|     0.29|   17548.0|United Kingdom|\n",
            "|  C536391|    21983|PACK OF 12 BLUE P...|     -24|1/12/2018 10:24|     0.29|   17548.0|United Kingdom|\n",
            "|  C536391|    21980|PACK OF 12 RED RE...|     -24|1/12/2018 10:24|     0.29|   17548.0|United Kingdom|\n",
            "|  C536391|    21484|CHICK GREY HOT WA...|     -12|1/12/2018 10:24|     3.45|   17548.0|United Kingdom|\n",
            "|  C536391|    22557|PLASTERS IN TIN V...|     -12|1/12/2018 10:24|     1.65|   17548.0|United Kingdom|\n",
            "|  C536391|    22553|PLASTERS IN TIN S...|     -24|1/12/2018 10:24|     1.65|   17548.0|United Kingdom|\n",
            "|  C536506|    22960|JAM MAKING SET WI...|      -6|1/12/2018 12:38|     4.25|   17897.0|United Kingdom|\n",
            "|  C536543|    22632|HAND WARMER RED R...|      -1|1/12/2018 14:30|      2.1|   17841.0|United Kingdom|\n",
            "|  C536543|    22355|CHARLOTTE BAG SUK...|      -2|1/12/2018 14:30|     0.85|   17841.0|United Kingdom|\n",
            "|  C536548|    22244|3 HOOK HANGER MAG...|      -4|1/12/2018 14:33|     1.95|   12472.0|       Germany|\n",
            "|  C536548|    22242|5 HOOK HANGER MAG...|      -5|1/12/2018 14:33|     1.65|   12472.0|       Germany|\n",
            "|  C536548|    20914|SET/5 RED RETROSP...|      -1|1/12/2018 14:33|     2.95|   12472.0|       Germany|\n",
            "|  C536548|    22892|SET OF SALT AND P...|      -7|1/12/2018 14:33|     1.25|   12472.0|       Germany|\n",
            "|  C536548|    22654|  DELUXE SEWING KIT |      -1|1/12/2018 14:33|     5.95|   12472.0|       Germany|\n",
            "|  C536548|    22767|TRIPLE PHOTO FRAM...|      -2|1/12/2018 14:33|     9.95|   12472.0|       Germany|\n",
            "|  C536548|    22333|RETROSPOT PARTY B...|      -1|1/12/2018 14:33|     1.65|   12472.0|       Germany|\n",
            "|  C536548|    22245|HOOK, 1 HANGER ,M...|      -2|1/12/2018 14:33|     0.85|   12472.0|       Germany|\n",
            "+---------+---------+--------------------+--------+---------------+---------+----------+--------------+\n",
            "only showing top 20 rows\n",
            "\n"
          ],
          "name": "stdout"
        }
      ]
    },
    {
      "cell_type": "markdown",
      "metadata": {
        "id": "TOnfZz27XhjX"
      },
      "source": [
        "### Exercise: \n",
        "1. ลองเลือก Quantity ระหว่าง 50 - 120\n",
        "2. ลองเลือก UnitPrice ระหว่าง 0.1 - 0.5\n",
        "3. Quantity ระหว่าง 50 - 120 และ UnitPrice ระหว่าง 0.1 - 0.5"
      ]
    },
    {
      "cell_type": "code",
      "metadata": {
        "id": "G2-Ot31WX2uc",
        "colab": {
          "base_uri": "https://localhost:8080/",
          "height": 463
        },
        "outputId": "115c0bd3-e069-41de-f3c8-af541a5b92cb"
      },
      "source": [
        "# TODO: 1. Quantity 50 - 120\n",
        "dt.where( (dt['Quantity'] > 50) & (dt['Quantity'] < 120) ).show()"
      ],
      "execution_count": null,
      "outputs": [
        {
          "output_type": "stream",
          "text": [
            "+---------+---------+--------------------+--------+---------------+---------+----------+--------------+\n",
            "|InvoiceNo|StockCode|         Description|Quantity|    InvoiceDate|UnitPrice|CustomerID|       Country|\n",
            "+---------+---------+--------------------+--------+---------------+---------+----------+--------------+\n",
            "|   536371|    22086|PAPER CHAIN KIT 5...|      80|1/12/2018 09:00|     2.55|   13748.0|United Kingdom|\n",
            "|   536376|    21733|RED HANGING HEART...|      64|1/12/2018 09:32|     2.55|   15291.0|United Kingdom|\n",
            "|   536378|   85071B|RED CHARLIE+LOLA ...|      96|1/12/2018 09:37|     0.38|   14688.0|United Kingdom|\n",
            "|   536386|   85099C|JUMBO  BAG BAROQU...|     100|1/12/2018 09:57|     1.65|   16029.0|United Kingdom|\n",
            "|   536386|   85099B|JUMBO BAG RED RET...|     100|1/12/2018 09:57|     1.65|   16029.0|United Kingdom|\n",
            "|   536390|   85123A|WHITE HANGING HEA...|      64|1/12/2018 10:19|     2.55|   17511.0|United Kingdom|\n",
            "|   536390|    22197|SMALL POPCORN HOLDER|     100|1/12/2018 10:19|     0.72|   17511.0|United Kingdom|\n",
            "|   536390|    21080|SET/20 RED RETROS...|      96|1/12/2018 10:19|     0.64|   17511.0|United Kingdom|\n",
            "|   536390|    21094|SET/6 RED SPOTTY ...|      96|1/12/2018 10:19|     0.64|   17511.0|United Kingdom|\n",
            "|   536390|    22969|HOMEMADE JAM SCEN...|      96|1/12/2018 10:19|     1.25|   17511.0|United Kingdom|\n",
            "|   536390|   85099B|JUMBO BAG RED RET...|     100|1/12/2018 10:19|     1.65|   17511.0|United Kingdom|\n",
            "|   536394|    22633|HAND WARMER UNION...|      96|1/12/2018 10:39|     1.85|   13408.0|United Kingdom|\n",
            "|   536394|    22866|HAND WARMER SCOTT...|      96|1/12/2018 10:39|     1.85|   13408.0|United Kingdom|\n",
            "|   536394|    22865|HAND WARMER OWL D...|      96|1/12/2018 10:39|     1.85|   13408.0|United Kingdom|\n",
            "|   536394|    22632|HAND WARMER RED R...|      96|1/12/2018 10:39|     1.85|   13408.0|United Kingdom|\n",
            "|   536403|    22867|HAND WARMER BIRD ...|      96|1/12/2018 11:27|     1.85|   12791.0|   Netherlands|\n",
            "|   536414|    22139|                null|      56|1/12/2018 11:52|      0.0|      null|United Kingdom|\n",
            "|   536416|    21915|RED  HARMONICA IN...|      72|1/12/2018 11:58|     1.25|   13255.0|United Kingdom|\n",
            "|   536437|    22189|CREAM HEART CARD ...|      72|1/12/2018 12:12|     3.39|   13694.0|United Kingdom|\n",
            "|   536477|    22571|ROCKING HORSE RED...|      96|1/12/2018 12:27|     0.72|   16210.0|United Kingdom|\n",
            "+---------+---------+--------------------+--------+---------------+---------+----------+--------------+\n",
            "only showing top 20 rows\n",
            "\n"
          ],
          "name": "stdout"
        }
      ]
    },
    {
      "cell_type": "code",
      "metadata": {
        "id": "wWZ8SRUOX2qJ",
        "colab": {
          "base_uri": "https://localhost:8080/",
          "height": 463
        },
        "outputId": "69e4d1f7-e187-477e-d254-cae0596256e9"
      },
      "source": [
        "# TODO: 2. UnitPrice 0.1 - 0.5\n",
        "dt.where( (dt['UnitPrice'] >= 0.1) & (dt['UnitPrice'] <= 0.5) ).show()"
      ],
      "execution_count": null,
      "outputs": [
        {
          "output_type": "stream",
          "text": [
            "+---------+---------+--------------------+--------+---------------+---------+----------+--------------+\n",
            "|InvoiceNo|StockCode|         Description|Quantity|    InvoiceDate|UnitPrice|CustomerID|       Country|\n",
            "+---------+---------+--------------------+--------+---------------+---------+----------+--------------+\n",
            "|   536370|    22540|MINI JIGSAW CIRCU...|      24|1/12/2018 08:45|     0.42|   12583.0|        France|\n",
            "|   536370|    22544|MINI JIGSAW SPACEBOY|      24|1/12/2018 08:45|     0.42|   12583.0|        France|\n",
            "|   536378|    21212|PACK OF 72 RETROS...|     120|1/12/2018 09:37|     0.42|   14688.0|United Kingdom|\n",
            "|   536378|   85071B|RED CHARLIE+LOLA ...|      96|1/12/2018 09:37|     0.38|   14688.0|United Kingdom|\n",
            "|   536388|    22915|ASSORTED BOTTLE T...|      12|1/12/2018 09:59|     0.42|   16250.0|United Kingdom|\n",
            "|   536390|    20668|DISCO BALL CHRIST...|     288|1/12/2018 10:19|      0.1|   17511.0|United Kingdom|\n",
            "|   536390|    21786|  POLKADOT RAIN HAT |     144|1/12/2018 10:19|     0.32|   17511.0|United Kingdom|\n",
            "|  C536391|    21984|PACK OF 12 PINK P...|     -24|1/12/2018 10:24|     0.29|   17548.0|United Kingdom|\n",
            "|  C536391|    21983|PACK OF 12 BLUE P...|     -24|1/12/2018 10:24|     0.29|   17548.0|United Kingdom|\n",
            "|  C536391|    21980|PACK OF 12 RED RE...|     -24|1/12/2018 10:24|     0.29|   17548.0|United Kingdom|\n",
            "|   536394|    21506|FANCY FONT BIRTHD...|      24|1/12/2018 10:39|     0.42|   13408.0|United Kingdom|\n",
            "|   536398|    21980|PACK OF 12 RED RE...|      24|1/12/2018 10:52|     0.29|   13448.0|United Kingdom|\n",
            "|   536408|    22537|MAGIC DRAWING SLA...|      24|1/12/2018 11:41|     0.42|   14307.0|United Kingdom|\n",
            "|   536408|    22533|MAGIC DRAWING SLA...|      24|1/12/2018 11:41|     0.42|   14307.0|United Kingdom|\n",
            "|   536408|    22716|  CARD CIRCUS PARADE|      12|1/12/2018 11:41|     0.42|   14307.0|United Kingdom|\n",
            "|   536408|    22706|      WRAP COWBOYS  |      25|1/12/2018 11:41|     0.42|   14307.0|United Kingdom|\n",
            "|   536408|    16237|SLEEPING CAT ERASERS|      30|1/12/2018 11:41|     0.21|   14307.0|United Kingdom|\n",
            "|   536408|    22714|CARD BIRTHDAY COWBOY|      12|1/12/2018 11:41|     0.42|   14307.0|United Kingdom|\n",
            "|   536409|    22531|MAGIC DRAWING SLA...|       1|1/12/2018 11:45|     0.42|   17908.0|United Kingdom|\n",
            "|   536409|    16238|PARTY TIME PENCIL...|      28|1/12/2018 11:45|     0.21|   17908.0|United Kingdom|\n",
            "+---------+---------+--------------------+--------+---------------+---------+----------+--------------+\n",
            "only showing top 20 rows\n",
            "\n"
          ],
          "name": "stdout"
        }
      ]
    },
    {
      "cell_type": "code",
      "metadata": {
        "id": "zgPm8dsraxNx",
        "colab": {
          "base_uri": "https://localhost:8080/",
          "height": 463
        },
        "outputId": "6da3251b-02d8-4278-8a04-4029a0a85132"
      },
      "source": [
        "# TODO: 3. Quantity 50 - 120 and UnitPrice 0.1 - 0.5\n",
        "dt.where(dt['Quantity'].between(50,120) & dt['UnitPrice'].between(0.1,0.5)).show()"
      ],
      "execution_count": null,
      "outputs": [
        {
          "output_type": "stream",
          "text": [
            "+---------+---------+--------------------+--------+---------------+---------+----------+--------------+\n",
            "|InvoiceNo|StockCode|         Description|Quantity|    InvoiceDate|UnitPrice|CustomerID|       Country|\n",
            "+---------+---------+--------------------+--------+---------------+---------+----------+--------------+\n",
            "|   536378|    21212|PACK OF 72 RETROS...|     120|1/12/2018 09:37|     0.42|   14688.0|United Kingdom|\n",
            "|   536378|   85071B|RED CHARLIE+LOLA ...|      96|1/12/2018 09:37|     0.38|   14688.0|United Kingdom|\n",
            "|   536532|    84692|BOX OF 24 COCKTAI...|      50|1/12/2018 13:24|     0.42|   12433.0|        Norway|\n",
            "|   536563|   85199S|SMALL HANGING IVO...|      72|1/12/2018 15:08|     0.42|   17760.0|United Kingdom|\n",
            "|   536617|    85175|CACTI T-LIGHT CAN...|      96|2/12/2018 10:17|     0.42|   13941.0|United Kingdom|\n",
            "|   536620|    21215|IVORY PAPER CUP C...|     120|2/12/2018 10:27|     0.42|   14135.0|United Kingdom|\n",
            "|   536620|    21212|PACK OF 72 RETROS...|     120|2/12/2018 10:27|     0.42|   14135.0|United Kingdom|\n",
            "|   536620|    21977|PACK OF 60 PINK P...|     120|2/12/2018 10:27|     0.42|   14135.0|United Kingdom|\n",
            "|   536620|    84991|60 TEATIME FAIRY ...|     120|2/12/2018 10:27|     0.42|   14135.0|United Kingdom|\n",
            "|   536783|    22530|MAGIC DRAWING SLA...|      60|2/12/2018 15:19|     0.36|   15061.0|United Kingdom|\n",
            "|   536783|    21506|FANCY FONT BIRTHD...|     108|2/12/2018 15:19|     0.36|   15061.0|United Kingdom|\n",
            "|   536783|    21500| PINK POLKADOT WRAP |      75|2/12/2018 15:19|     0.34|   15061.0|United Kingdom|\n",
            "|   536783|    21212|PACK OF 72 RETROS...|     120|2/12/2018 15:19|     0.42|   15061.0|United Kingdom|\n",
            "|   536783|    84692|BOX OF 24 COCKTAI...|      50|2/12/2018 15:19|     0.32|   15061.0|United Kingdom|\n",
            "|   536783|    22534|MAGIC DRAWING SLA...|      96|2/12/2018 15:19|     0.36|   15061.0|United Kingdom|\n",
            "|   536784|    21499|  BLUE POLKADOT WRAP|      50|2/12/2018 15:20|     0.34|   15061.0|United Kingdom|\n",
            "|   536784|    21498| RED RETROSPOT WRAP |      50|2/12/2018 15:20|     0.34|   15061.0|United Kingdom|\n",
            "|   536784|    21212|PACK OF 72 RETROS...|     120|2/12/2018 15:20|     0.42|   15061.0|United Kingdom|\n",
            "|   536784|    16237|SLEEPING CAT ERASERS|      90|2/12/2018 15:20|     0.16|   15061.0|United Kingdom|\n",
            "|   536975|    22049|WRAP CHRISTMAS SC...|      50|3/12/2018 14:04|     0.42|   14911.0|          EIRE|\n",
            "+---------+---------+--------------------+--------+---------------+---------+----------+--------------+\n",
            "only showing top 20 rows\n",
            "\n"
          ],
          "name": "stdout"
        }
      ]
    },
    {
      "cell_type": "markdown",
      "metadata": {
        "id": "NN3m9gpHkS5H"
      },
      "source": [
        "### Graphical EDA\n",
        "\n",
        "\n",
        "Spark ไม่ได้ถูกพัฒนามาเพื่องาน plot ข้อมูล เพราะฉะนั้นเราจะใช้ package `seaborn` `matplotlib` และ `pandas` ในการ plot ข้อมูลแทน"
      ]
    },
    {
      "cell_type": "code",
      "metadata": {
        "id": "BWu_zxdONk0o",
        "colab": {
          "base_uri": "https://localhost:8080/",
          "height": 71
        },
        "outputId": "919e5a2f-1ce6-4bed-9cd6-bb1cfce84c1d"
      },
      "source": [
        "import seaborn as sns\n",
        "import matplotlib.pyplot as plt\n",
        "import pandas as pd"
      ],
      "execution_count": null,
      "outputs": [
        {
          "output_type": "stream",
          "text": [
            "/usr/local/lib/python3.6/dist-packages/statsmodels/tools/_testing.py:19: FutureWarning: pandas.util.testing is deprecated. Use the functions in the public API at pandas.testing instead.\n",
            "  import pandas.util.testing as tm\n"
          ],
          "name": "stderr"
        }
      ]
    },
    {
      "cell_type": "code",
      "metadata": {
        "id": "861ui21dNy-N"
      },
      "source": [
        "# แปลง Spark Dataframe เป็น Pandas Dataframe\n",
        "dt_pd = dt.toPandas()"
      ],
      "execution_count": null,
      "outputs": []
    },
    {
      "cell_type": "code",
      "metadata": {
        "id": "vpF73lu_Rn-_",
        "colab": {
          "base_uri": "https://localhost:8080/",
          "height": 203
        },
        "outputId": "5a217b92-379a-450e-81ce-e8a1a306f58b"
      },
      "source": [
        "dt_pd.head()"
      ],
      "execution_count": null,
      "outputs": [
        {
          "output_type": "execute_result",
          "data": {
            "text/html": [
              "<div>\n",
              "<style scoped>\n",
              "    .dataframe tbody tr th:only-of-type {\n",
              "        vertical-align: middle;\n",
              "    }\n",
              "\n",
              "    .dataframe tbody tr th {\n",
              "        vertical-align: top;\n",
              "    }\n",
              "\n",
              "    .dataframe thead th {\n",
              "        text-align: right;\n",
              "    }\n",
              "</style>\n",
              "<table border=\"1\" class=\"dataframe\">\n",
              "  <thead>\n",
              "    <tr style=\"text-align: right;\">\n",
              "      <th></th>\n",
              "      <th>InvoiceNo</th>\n",
              "      <th>StockCode</th>\n",
              "      <th>Description</th>\n",
              "      <th>Quantity</th>\n",
              "      <th>InvoiceDate</th>\n",
              "      <th>UnitPrice</th>\n",
              "      <th>CustomerID</th>\n",
              "      <th>Country</th>\n",
              "    </tr>\n",
              "  </thead>\n",
              "  <tbody>\n",
              "    <tr>\n",
              "      <th>0</th>\n",
              "      <td>536365</td>\n",
              "      <td>85123A</td>\n",
              "      <td>WHITE HANGING HEART T-LIGHT HOLDER</td>\n",
              "      <td>6</td>\n",
              "      <td>1/12/2018 08:26</td>\n",
              "      <td>2.55</td>\n",
              "      <td>17850.0</td>\n",
              "      <td>United Kingdom</td>\n",
              "    </tr>\n",
              "    <tr>\n",
              "      <th>1</th>\n",
              "      <td>536365</td>\n",
              "      <td>71053</td>\n",
              "      <td>WHITE METAL LANTERN</td>\n",
              "      <td>6</td>\n",
              "      <td>1/12/2018 08:26</td>\n",
              "      <td>3.39</td>\n",
              "      <td>17850.0</td>\n",
              "      <td>United Kingdom</td>\n",
              "    </tr>\n",
              "    <tr>\n",
              "      <th>2</th>\n",
              "      <td>536365</td>\n",
              "      <td>84406B</td>\n",
              "      <td>CREAM CUPID HEARTS COAT HANGER</td>\n",
              "      <td>8</td>\n",
              "      <td>1/12/2018 08:26</td>\n",
              "      <td>2.75</td>\n",
              "      <td>17850.0</td>\n",
              "      <td>United Kingdom</td>\n",
              "    </tr>\n",
              "    <tr>\n",
              "      <th>3</th>\n",
              "      <td>536365</td>\n",
              "      <td>84029G</td>\n",
              "      <td>KNITTED UNION FLAG HOT WATER BOTTLE</td>\n",
              "      <td>6</td>\n",
              "      <td>1/12/2018 08:26</td>\n",
              "      <td>3.39</td>\n",
              "      <td>17850.0</td>\n",
              "      <td>United Kingdom</td>\n",
              "    </tr>\n",
              "    <tr>\n",
              "      <th>4</th>\n",
              "      <td>536365</td>\n",
              "      <td>84029E</td>\n",
              "      <td>RED WOOLLY HOTTIE WHITE HEART.</td>\n",
              "      <td>6</td>\n",
              "      <td>1/12/2018 08:26</td>\n",
              "      <td>3.39</td>\n",
              "      <td>17850.0</td>\n",
              "      <td>United Kingdom</td>\n",
              "    </tr>\n",
              "  </tbody>\n",
              "</table>\n",
              "</div>"
            ],
            "text/plain": [
              "  InvoiceNo StockCode  ... CustomerID         Country\n",
              "0    536365    85123A  ...    17850.0  United Kingdom\n",
              "1    536365     71053  ...    17850.0  United Kingdom\n",
              "2    536365    84406B  ...    17850.0  United Kingdom\n",
              "3    536365    84029G  ...    17850.0  United Kingdom\n",
              "4    536365    84029E  ...    17850.0  United Kingdom\n",
              "\n",
              "[5 rows x 8 columns]"
            ]
          },
          "metadata": {
            "tags": []
          },
          "execution_count": 26
        }
      ]
    },
    {
      "cell_type": "code",
      "metadata": {
        "id": "pcU3qZB2RjUp"
      },
      "source": [
        "# เลือกข้อมูล 500 แถวแรกเพื่อความรวดเร็วและความเรียบง่ายในการ visualize ข้อมูล\n",
        "dt_pd_subset = dt_pd[0:500]"
      ],
      "execution_count": null,
      "outputs": []
    },
    {
      "cell_type": "code",
      "metadata": {
        "id": "hBv0DP4YOAQF",
        "colab": {
          "base_uri": "https://localhost:8080/",
          "height": 296
        },
        "outputId": "d3308258-ad5b-48f8-bd74-f81c9e965924"
      },
      "source": [
        "# Boxplot\n",
        "sns.boxplot(dt_pd_subset['UnitPrice'])"
      ],
      "execution_count": null,
      "outputs": [
        {
          "output_type": "execute_result",
          "data": {
            "text/plain": [
              "<matplotlib.axes._subplots.AxesSubplot at 0x7f8819a8f978>"
            ]
          },
          "metadata": {
            "tags": []
          },
          "execution_count": 28
        },
        {
          "output_type": "display_data",
          "data": {
            "image/png": "[encoded data removed]",
            "text/plain": [
              "<Figure size 432x288 with 1 Axes>"
            ]
          },
          "metadata": {
            "tags": [],
            "needs_background": "light"
          }
        }
      ]
    },
    {
      "cell_type": "code",
      "metadata": {
        "id": "IYbSz2HuO2sr",
        "colab": {
          "base_uri": "https://localhost:8080/",
          "height": 279
        },
        "outputId": "da1389e2-d0c0-4e63-f3cf-b951e25587ba"
      },
      "source": [
        "# Histogram\n",
        "sns.distplot(dt_pd_subset['UnitPrice']) \n",
        "plt.show()"
      ],
      "execution_count": null,
      "outputs": [
        {
          "output_type": "display_data",
          "data": {
            "image/png": "[encoded data removed]",
            "text/plain": [
              "<Figure size 432x288 with 1 Axes>"
            ]
          },
          "metadata": {
            "tags": [],
            "needs_background": "light"
          }
        }
      ]
    },
    {
      "cell_type": "code",
      "metadata": {
        "id": "t1N-03d9O83E",
        "colab": {
          "base_uri": "https://localhost:8080/",
          "height": 296
        },
        "outputId": "f7807d87-8100-4008-f7b2-167f7e41231e"
      },
      "source": [
        "# Scatterplot\n",
        "dt_pd_subset.plot.scatter('UnitPrice', 'Quantity')"
      ],
      "execution_count": null,
      "outputs": [
        {
          "output_type": "execute_result",
          "data": {
            "text/plain": [
              "<matplotlib.axes._subplots.AxesSubplot at 0x7f882cbbea20>"
            ]
          },
          "metadata": {
            "tags": []
          },
          "execution_count": 30
        },
        {
          "output_type": "display_data",
          "data": {
            "image/png": "[encoded data removed]",
            "text/plain": [
              "<Figure size 432x288 with 1 Axes>"
            ]
          },
          "metadata": {
            "tags": [],
            "needs_background": "light"
          }
        }
      ]
    },
    {
      "cell_type": "markdown",
      "metadata": {
        "id": "tVliQZLC0LuP"
      },
      "source": [
        "#### Bonus: สร้าง interactive chart"
      ]
    },
    {
      "cell_type": "code",
      "metadata": {
        "id": "4Bb0F-9zTI1X",
        "colab": {
          "base_uri": "https://localhost:8080/",
          "height": 542
        },
        "outputId": "b1445111-0eb8-4134-b4aa-494b1c3d2799"
      },
      "source": [
        "# Plotly - interactive chart\n",
        "import plotly.express as px\n",
        "fig = px.scatter(dt_pd_subset, 'UnitPrice', 'Quantity')\n",
        "fig.show()"
      ],
      "execution_count": null,
      "outputs": [
        {
          "output_type": "display_data",
          "data": {
            "text/html": [
              "<html>\n",
              "<head><meta charset=\"utf-8\" /></head>\n",
              "<body>\n",
              "    <div>\n",
              "            <script src=\"https://cdnjs.cloudflare.com/ajax/libs/mathjax/2.7.5/MathJax.js?config=TeX-AMS-MML_SVG\"></script><script type=\"text/javascript\">if (window.MathJax) {MathJax.Hub.Config({SVG: {font: \"STIX-Web\"}});}</script>\n",
              "                <script type=\"text/javascript\">window.PlotlyConfig = {MathJaxConfig: 'local'};</script>\n",
              "        <script src=\"https://cdn.plot.ly/plotly-latest.min.js\"></script>    \n",
              "            <div id=\"a0029536-c6ea-43b4-b460-1be382e7dc65\" class=\"plotly-graph-div\" style=\"height:525px; width:100%;\"></div>\n",
              "            <script type=\"text/javascript\">\n",
              "                \n",
              "                    window.PLOTLYENV=window.PLOTLYENV || {};\n",
              "                    \n",
              "                if (document.getElementById(\"a0029536-c6ea-43b4-b460-1be382e7dc65\")) {\n",
              "                    Plotly.newPlot(\n",
              "                        'a0029536-c6ea-43b4-b460-1be382e7dc65',\n",
              "                        [{\"hoverlabel\": {\"namelength\": 0}, \"hovertemplate\": \"UnitPrice=%{x}<br>Quantity=%{y}\", \"legendgroup\": \"\", \"marker\": {\"color\": \"#636efa\", \"symbol\": \"circle\"}, \"mode\": \"markers\", \"name\": \"\", \"showlegend\": false, \"type\": \"scatter\", \"x\": [2.55, 3.39, 2.75, 3.39, 3.39, 7.65, 4.25, 1.85, 1.85, 1.69, 2.1, 2.1, 3.75, 1.65, 4.25, 4.95, 9.95, 5.95, 5.95, 7.95, 7.95, 4.25, 4.95, 4.95, 4.95, 5.95, 3.75, 3.75, 3.75, 0.85, 0.65, 0.85, 1.25, 2.95, 2.95, 1.95, 1.95, 1.95, 0.85, 1.65, 2.95, 3.75, 0.42, 0.42, 0.65, 18.0, 2.55, 1.85, 1.85, 2.55, 3.39, 2.75, 4.95, 1.06, 1.06, 1.06, 1.06, 4.95, 6.95, 2.1, 2.55, 3.39, 3.39, 7.65, 4.25, 10.95, 2.55, 3.39, 2.75, 4.95, 1.06, 1.06, 1.06, 1.06, 4.95, 6.95, 2.1, 2.55, 3.39, 3.39, 7.65, 4.25, 3.45, 2.55, 1.85, 1.85, 1.95, 1.95, 2.95, 0.85, 3.75, 3.75, 0.85, 1.65, 2.55, 2.55, 0.42, 0.55, 0.55, 0.55, 2.95, 1.25, 0.38, 1.95, 1.95, 1.45, 4.25, 4.95, 1.95, 2.1, 1.25, 1.25, 1.25, 1.25, 0.85, 2.55, 1.65, 1.69, 1.95, 2.1, 2.95, 2.95, 2.95, 2.95, 0.85, 1.25, 2.55, 0.85, 0.85, 1.45, 4.95, 2.95, 5.95, 5.95, 1.45, 2.95, 1.95, 1.65, 3.95, 1.06, 6.75, 27.5, 0.85, 3.75, 1.65, 1.95, 2.1, 1.85, 2.95, 3.75, 5.95, 14.95, 14.95, 16.95, 4.65, 6.45, 0.65, 1.65, 2.95, 2.95, 1.45, 2.55, 2.95, 12.75, 3.95, 5.95, 6.95, 10.95, 19.95, 1.45, 4.25, 1.95, 1.25, 8.5, 1.65, 4.95, 1.65, 1.65, 3.82, 3.37, 3.37, 1.45, 1.25, 5.95, 5.95, 7.95, 4.95, 4.25, 2.95, 1.65, 0.42, 0.85, 1.45, 0.85, 6.75, 1.65, 1.65, 8.5, 4.95, 1.25, 5.45, 6.35, 5.95, 5.95, 8.5, 3.75, 3.75, 8.5, 8.5, 1.65, 0.85, 8.5, 3.75, 1.45, 0.72, 0.72, 8.5, 0.64, 2.55, 0.1, 2.55, 0.72, 1.45, 4.25, 0.64, 0.64, 0.65, 0.32, 4.95, 4.25, 3.39, 3.75, 1.48, 1.25, 1.65, 1.65, 0.29, 0.29, 0.29, 3.45, 1.65, 1.65, 1.95, 3.75, 1.25, 1.25, 165.0, 1.25, 1.25, 5.95, 1.69, 0.65, 9.95, 0.42, 1.85, 1.85, 1.85, 1.85, 4.95, 3.75, 1.25, 2.1, 2.55, 1.65, 3.95, 1.69, 0.55, 0.55, 0.55, 3.45, 2.1, 3.75, 3.75, 3.75, 3.75, 3.95, 2.1, 2.1, 2.55, 3.39, 2.75, 4.95, 4.95, 1.06, 1.06, 1.06, 1.06, 4.95, 6.95, 2.1, 2.55, 3.39, 3.39, 7.65, 35.75, 4.25, 4.65, 4.65, 0.29, 2.95, 6.75, 2.55, 8.5, 7.95, 2.1, 2.1, 2.1, 1.25, 1.65, 3.35, 3.95, 4.65, 4.95, 3.75, 4.95, 1.85, 1.85, 1.45, 2.55, 1.25, 1.25, 2.95, 3.35, 1.45, 1.25, 1.25, 1.65, 1.45, 1.25, 4.95, 3.75, 1.25, 9.95, 9.95, 5.95, 4.25, 4.95, 2.55, 2.95, 1.69, 7.95, 0.55, 0.55, 0.55, 2.95, 2.1, 2.1, 1.25, 0.85, 0.55, 2.95, 2.95, 1.25, 1.25, 1.25, 1.25, 1.65, 2.95, 2.95, 5.95, 1.25, 2.55, 0.85, 1.65, 2.95, 2.95, 5.95, 7.95, 1.65, 1.65, 1.65, 1.65, 2.55, 2.95, 2.95, 2.55, 16.95, 2.95, 10.65, 4.25, 6.95, 5.95, 2.55, 2.55, 4.25, 1.85, 15.0, 1.25, 1.25, 1.25, 1.25, 1.25, 1.65, 0.85, 1.25, 1.25, 1.25, 1.25, 1.25, 1.25, 0.85, 0.85, 0.85, 1.25, 1.25, 2.1, 0.55, 0.55, 0.55, 0.55, 0.55, 1.65, 1.65, 1.65, 1.65, 2.55, 2.55, 3.39, 2.75, 4.95, 1.06, 1.06, 1.06, 1.06, 4.95, 6.95, 2.1, 2.55, 3.39, 3.39, 7.65, 35.75, 4.25, 1.85, 1.85, 0.42, 0.42, 0.85, 1.65, 1.25, 1.25, 0.85, 1.95, 3.95, 3.75, 3.75, 2.1, 2.1, 0.85, 1.25, 0.95, 2.95, 1.65, 1.65, 7.95, 7.95, 1.65, 0.85, 1.69, 5.95, 5.95, 2.95, 0.85, 0.42, 0.42, 4.25, 5.95, 5.95, 3.75, 0.55, 1.45, 4.95, 1.65, 0.21, 0.42, 1.95, 2.55, 2.55, 1.65, 0.65, 1.25, 3.75, 1.65, 6.35, 3.75, 4.95, 6.75, 1.25, 1.65, 2.1, 3.75, 2.1, 2.1, 2.95, 1.25, 1.25, 2.95, 2.95, 6.35, 7.95], \"xaxis\": \"x\", \"y\": [6, 6, 8, 6, 6, 2, 6, 6, 6, 32, 6, 6, 8, 6, 6, 3, 2, 3, 3, 4, 4, 6, 3, 3, 3, 3, 24, 24, 12, 12, 24, 48, 24, 18, 24, 24, 24, 24, 20, 24, 24, 12, 24, 24, 36, 3, 80, 6, 6, 6, 6, 8, 6, 6, 6, 6, 6, 2, 4, 6, 6, 6, 6, 2, 6, 32, 6, 6, 8, 6, 6, 6, 6, 6, 2, 4, 6, 6, 6, 6, 2, 6, 48, 64, 6, 6, 10, 10, 10, 10, 12, 6, 12, 10, 6, 6, 120, 24, 24, 24, 6, 48, 96, 10, 10, 24, 23, 5, 10, 2, 6, 24, 24, 1, 1, 1, 10, 3, 1, 2, 1, 1, 4, 1, 6, 3, 2, 1, 1, 1, 1, 2, 2, 2, 4, 1, 1, 2, 3, 36, 10, -1, 12, 8, 12, 10, 10, 50, 8, 4, 12, 2, 2, 4, -1, 3, 48, 12, 6, 12, 40, 40, 6, 2, 4, 3, 6, 8, 1, 12, 6, 10, 12, 2, 10, 36, 100, 100, 192, 192, 192, 432, 432, 3, 3, 2, 3, 3, 6, 12, 12, 12, 12, 12, 4, 12, 12, 6, 8, 12, 6, 4, 6, 3, 2, 4, 4, 2, 2, 24, 24, 2, 12, 12, 48, 48, 8, 144, 40, 288, 64, 100, 50, 12, 96, 96, 48, 144, 40, 24, 24, 24, 48, 96, 100, -12, -24, -24, -24, -12, -12, -24, 6, 4, 12, 12, 1, 12, 12, 4, 16, 24, 8, 24, 96, 96, 96, 96, 12, 12, 48, 12, 32, 20, 8, 32, 24, 24, 24, 8, 8, 4, 8, 8, 8, 8, 48, 48, 6, 6, 8, 6, 6, 6, 6, 6, 6, 2, 4, 6, 12, 6, 6, 2, 2, 6, 12, 48, 24, 6, 4, 8, 6, 2, 12, 12, 12, 12, 12, 6, 4, 8, 9, 4, 9, 6, 6, 12, 1, 1, 2, 1, 1, 1, 1, 2, 1, 4, 1, 1, 2, 2, 2, 1, 1, 1, 3, 1, 1, 2, 1, 1, 1, 2, 4, 2, 1, 1, 1, 3, 1, 1, 2, 3, 1, 1, 2, 2, 2, 1, 1, 2, 9, 1, 4, 3, 1, 1, 1, 2, 1, 1, 5, 3, 3, 9, 1, 4, 1, 1, 2, 2, 40, 40, 36, 96, 1, 24, 12, 12, 12, 12, 12, 36, 12, 12, 12, 12, 12, 12, 12, 12, 12, 12, 12, 12, 24, 24, 24, 24, 24, 10, 10, 10, 24, 128, 8, 8, 8, 6, 6, 6, 6, 6, 4, 4, 6, 6, 6, 6, 2, 2, 6, 6, 6, 24, 24, 12, 12, 12, 12, 12, 12, 4, 4, 4, 6, 12, 24, 12, 12, 6, 12, 6, 2, 2, 12, 12, 8, 3, 3, 8, 36, 12, 25, 4, 3, 3, 6, 24, 12, 3, 12, 30, 12, 12, 6, 12, 10, 36, 12, 4, 12, 3, 1, 1, 1, 1, 1, 1, 1, 1, 1, 1, 1, 1, 1, 1, 1, 1], \"yaxis\": \"y\"}],\n",
              "                        {\"legend\": {\"tracegroupgap\": 0}, \"margin\": {\"t\": 60}, \"template\": {\"data\": {\"bar\": [{\"error_x\": {\"color\": \"#2a3f5f\"}, \"error_y\": {\"color\": \"#2a3f5f\"}, \"marker\": {\"line\": {\"color\": \"#E5ECF6\", \"width\": 0.5}}, \"type\": \"bar\"}], \"barpolar\": [{\"marker\": {\"line\": {\"color\": \"#E5ECF6\", \"width\": 0.5}}, \"type\": \"barpolar\"}], \"carpet\": [{\"aaxis\": {\"endlinecolor\": \"#2a3f5f\", \"gridcolor\": \"white\", \"linecolor\": \"white\", \"minorgridcolor\": \"white\", \"startlinecolor\": \"#2a3f5f\"}, \"baxis\": {\"endlinecolor\": \"#2a3f5f\", \"gridcolor\": \"white\", \"linecolor\": \"white\", \"minorgridcolor\": \"white\", \"startlinecolor\": \"#2a3f5f\"}, \"type\": \"carpet\"}], \"choropleth\": [{\"colorbar\": {\"outlinewidth\": 0, \"ticks\": \"\"}, \"type\": \"choropleth\"}], \"contour\": [{\"colorbar\": {\"outlinewidth\": 0, \"ticks\": \"\"}, \"colorscale\": [[0.0, \"#0d0887\"], [0.1111111111111111, \"#46039f\"], [0.2222222222222222, \"#7201a8\"], [0.3333333333333333, \"#9c179e\"], [0.4444444444444444, \"#bd3786\"], [0.5555555555555556, \"#d8576b\"], [0.6666666666666666, \"#ed7953\"], [0.7777777777777778, \"#fb9f3a\"], [0.8888888888888888, \"#fdca26\"], [1.0, \"#f0f921\"]], \"type\": \"contour\"}], \"contourcarpet\": [{\"colorbar\": {\"outlinewidth\": 0, \"ticks\": \"\"}, \"type\": \"contourcarpet\"}], \"heatmap\": [{\"colorbar\": {\"outlinewidth\": 0, \"ticks\": \"\"}, \"colorscale\": [[0.0, \"#0d0887\"], [0.1111111111111111, \"#46039f\"], [0.2222222222222222, \"#7201a8\"], [0.3333333333333333, \"#9c179e\"], [0.4444444444444444, \"#bd3786\"], [0.5555555555555556, \"#d8576b\"], [0.6666666666666666, \"#ed7953\"], [0.7777777777777778, \"#fb9f3a\"], [0.8888888888888888, \"#fdca26\"], [1.0, \"#f0f921\"]], \"type\": \"heatmap\"}], \"heatmapgl\": [{\"colorbar\": {\"outlinewidth\": 0, \"ticks\": \"\"}, \"colorscale\": [[0.0, \"#0d0887\"], [0.1111111111111111, \"#46039f\"], [0.2222222222222222, \"#7201a8\"], [0.3333333333333333, \"#9c179e\"], [0.4444444444444444, \"#bd3786\"], [0.5555555555555556, \"#d8576b\"], [0.6666666666666666, \"#ed7953\"], [0.7777777777777778, \"#fb9f3a\"], [0.8888888888888888, \"#fdca26\"], [1.0, \"#f0f921\"]], \"type\": \"heatmapgl\"}], \"histogram\": [{\"marker\": {\"colorbar\": {\"outlinewidth\": 0, \"ticks\": \"\"}}, \"type\": \"histogram\"}], \"histogram2d\": [{\"colorbar\": {\"outlinewidth\": 0, \"ticks\": \"\"}, \"colorscale\": [[0.0, \"#0d0887\"], [0.1111111111111111, \"#46039f\"], [0.2222222222222222, \"#7201a8\"], [0.3333333333333333, \"#9c179e\"], [0.4444444444444444, \"#bd3786\"], [0.5555555555555556, \"#d8576b\"], [0.6666666666666666, \"#ed7953\"], [0.7777777777777778, \"#fb9f3a\"], [0.8888888888888888, \"#fdca26\"], [1.0, \"#f0f921\"]], \"type\": \"histogram2d\"}], \"histogram2dcontour\": [{\"colorbar\": {\"outlinewidth\": 0, \"ticks\": \"\"}, \"colorscale\": [[0.0, \"#0d0887\"], [0.1111111111111111, \"#46039f\"], [0.2222222222222222, \"#7201a8\"], [0.3333333333333333, \"#9c179e\"], [0.4444444444444444, \"#bd3786\"], [0.5555555555555556, \"#d8576b\"], [0.6666666666666666, \"#ed7953\"], [0.7777777777777778, \"#fb9f3a\"], [0.8888888888888888, \"#fdca26\"], [1.0, \"#f0f921\"]], \"type\": \"histogram2dcontour\"}], \"mesh3d\": [{\"colorbar\": {\"outlinewidth\": 0, \"ticks\": \"\"}, \"type\": \"mesh3d\"}], \"parcoords\": [{\"line\": {\"colorbar\": {\"outlinewidth\": 0, \"ticks\": \"\"}}, \"type\": \"parcoords\"}], \"pie\": [{\"automargin\": true, \"type\": \"pie\"}], \"scatter\": [{\"marker\": {\"colorbar\": {\"outlinewidth\": 0, \"ticks\": \"\"}}, \"type\": \"scatter\"}], \"scatter3d\": [{\"line\": {\"colorbar\": {\"outlinewidth\": 0, \"ticks\": \"\"}}, \"marker\": {\"colorbar\": {\"outlinewidth\": 0, \"ticks\": \"\"}}, \"type\": \"scatter3d\"}], \"scattercarpet\": [{\"marker\": {\"colorbar\": {\"outlinewidth\": 0, \"ticks\": \"\"}}, \"type\": \"scattercarpet\"}], \"scattergeo\": [{\"marker\": {\"colorbar\": {\"outlinewidth\": 0, \"ticks\": \"\"}}, \"type\": \"scattergeo\"}], \"scattergl\": [{\"marker\": {\"colorbar\": {\"outlinewidth\": 0, \"ticks\": \"\"}}, \"type\": \"scattergl\"}], \"scattermapbox\": [{\"marker\": {\"colorbar\": {\"outlinewidth\": 0, \"ticks\": \"\"}}, \"type\": \"scattermapbox\"}], \"scatterpolar\": [{\"marker\": {\"colorbar\": {\"outlinewidth\": 0, \"ticks\": \"\"}}, \"type\": \"scatterpolar\"}], \"scatterpolargl\": [{\"marker\": {\"colorbar\": {\"outlinewidth\": 0, \"ticks\": \"\"}}, \"type\": \"scatterpolargl\"}], \"scatterternary\": [{\"marker\": {\"colorbar\": {\"outlinewidth\": 0, \"ticks\": \"\"}}, \"type\": \"scatterternary\"}], \"surface\": [{\"colorbar\": {\"outlinewidth\": 0, \"ticks\": \"\"}, \"colorscale\": [[0.0, \"#0d0887\"], [0.1111111111111111, \"#46039f\"], [0.2222222222222222, \"#7201a8\"], [0.3333333333333333, \"#9c179e\"], [0.4444444444444444, \"#bd3786\"], [0.5555555555555556, \"#d8576b\"], [0.6666666666666666, \"#ed7953\"], [0.7777777777777778, \"#fb9f3a\"], [0.8888888888888888, \"#fdca26\"], [1.0, \"#f0f921\"]], \"type\": \"surface\"}], \"table\": [{\"cells\": {\"fill\": {\"color\": \"#EBF0F8\"}, \"line\": {\"color\": \"white\"}}, \"header\": {\"fill\": {\"color\": \"#C8D4E3\"}, \"line\": {\"color\": \"white\"}}, \"type\": \"table\"}]}, \"layout\": {\"annotationdefaults\": {\"arrowcolor\": \"#2a3f5f\", \"arrowhead\": 0, \"arrowwidth\": 1}, \"coloraxis\": {\"colorbar\": {\"outlinewidth\": 0, \"ticks\": \"\"}}, \"colorscale\": {\"diverging\": [[0, \"#8e0152\"], [0.1, \"#c51b7d\"], [0.2, \"#de77ae\"], [0.3, \"#f1b6da\"], [0.4, \"#fde0ef\"], [0.5, \"#f7f7f7\"], [0.6, \"#e6f5d0\"], [0.7, \"#b8e186\"], [0.8, \"#7fbc41\"], [0.9, \"#4d9221\"], [1, \"#276419\"]], \"sequential\": [[0.0, \"#0d0887\"], [0.1111111111111111, \"#46039f\"], [0.2222222222222222, \"#7201a8\"], [0.3333333333333333, \"#9c179e\"], [0.4444444444444444, \"#bd3786\"], [0.5555555555555556, \"#d8576b\"], [0.6666666666666666, \"#ed7953\"], [0.7777777777777778, \"#fb9f3a\"], [0.8888888888888888, \"#fdca26\"], [1.0, \"#f0f921\"]], \"sequentialminus\": [[0.0, \"#0d0887\"], [0.1111111111111111, \"#46039f\"], [0.2222222222222222, \"#7201a8\"], [0.3333333333333333, \"#9c179e\"], [0.4444444444444444, \"#bd3786\"], [0.5555555555555556, \"#d8576b\"], [0.6666666666666666, \"#ed7953\"], [0.7777777777777778, \"#fb9f3a\"], [0.8888888888888888, \"#fdca26\"], [1.0, \"#f0f921\"]]}, \"colorway\": [\"#636efa\", \"#EF553B\", \"#00cc96\", \"#ab63fa\", \"#FFA15A\", \"#19d3f3\", \"#FF6692\", \"#B6E880\", \"#FF97FF\", \"#FECB52\"], \"font\": {\"color\": \"#2a3f5f\"}, \"geo\": {\"bgcolor\": \"white\", \"lakecolor\": \"white\", \"landcolor\": \"#E5ECF6\", \"showlakes\": true, \"showland\": true, \"subunitcolor\": \"white\"}, \"hoverlabel\": {\"align\": \"left\"}, \"hovermode\": \"closest\", \"mapbox\": {\"style\": \"light\"}, \"paper_bgcolor\": \"white\", \"plot_bgcolor\": \"#E5ECF6\", \"polar\": {\"angularaxis\": {\"gridcolor\": \"white\", \"linecolor\": \"white\", \"ticks\": \"\"}, \"bgcolor\": \"#E5ECF6\", \"radialaxis\": {\"gridcolor\": \"white\", \"linecolor\": \"white\", \"ticks\": \"\"}}, \"scene\": {\"xaxis\": {\"backgroundcolor\": \"#E5ECF6\", \"gridcolor\": \"white\", \"gridwidth\": 2, \"linecolor\": \"white\", \"showbackground\": true, \"ticks\": \"\", \"zerolinecolor\": \"white\"}, \"yaxis\": {\"backgroundcolor\": \"#E5ECF6\", \"gridcolor\": \"white\", \"gridwidth\": 2, \"linecolor\": \"white\", \"showbackground\": true, \"ticks\": \"\", \"zerolinecolor\": \"white\"}, \"zaxis\": {\"backgroundcolor\": \"#E5ECF6\", \"gridcolor\": \"white\", \"gridwidth\": 2, \"linecolor\": \"white\", \"showbackground\": true, \"ticks\": \"\", \"zerolinecolor\": \"white\"}}, \"shapedefaults\": {\"line\": {\"color\": \"#2a3f5f\"}}, \"ternary\": {\"aaxis\": {\"gridcolor\": \"white\", \"linecolor\": \"white\", \"ticks\": \"\"}, \"baxis\": {\"gridcolor\": \"white\", \"linecolor\": \"white\", \"ticks\": \"\"}, \"bgcolor\": \"#E5ECF6\", \"caxis\": {\"gridcolor\": \"white\", \"linecolor\": \"white\", \"ticks\": \"\"}}, \"title\": {\"x\": 0.05}, \"xaxis\": {\"automargin\": true, \"gridcolor\": \"white\", \"linecolor\": \"white\", \"ticks\": \"\", \"title\": {\"standoff\": 15}, \"zerolinecolor\": \"white\", \"zerolinewidth\": 2}, \"yaxis\": {\"automargin\": true, \"gridcolor\": \"white\", \"linecolor\": \"white\", \"ticks\": \"\", \"title\": {\"standoff\": 15}, \"zerolinecolor\": \"white\", \"zerolinewidth\": 2}}}, \"xaxis\": {\"anchor\": \"y\", \"domain\": [0.0, 1.0], \"title\": {\"text\": \"UnitPrice\"}}, \"yaxis\": {\"anchor\": \"x\", \"domain\": [0.0, 1.0], \"title\": {\"text\": \"Quantity\"}}},\n",
              "                        {\"responsive\": true}\n",
              "                    ).then(function(){\n",
              "                            \n",
              "var gd = document.getElementById('a0029536-c6ea-43b4-b460-1be382e7dc65');\n",
              "var x = new MutationObserver(function (mutations, observer) {{\n",
              "        var display = window.getComputedStyle(gd).display;\n",
              "        if (!display || display === 'none') {{\n",
              "            console.log([gd, 'removed!']);\n",
              "            Plotly.purge(gd);\n",
              "            observer.disconnect();\n",
              "        }}\n",
              "}});\n",
              "\n",
              "// Listen for the removal of the full notebook cells\n",
              "var notebookContainer = gd.closest('#notebook-container');\n",
              "if (notebookContainer) {{\n",
              "    x.observe(notebookContainer, {childList: true});\n",
              "}}\n",
              "\n",
              "// Listen for the clearing of the current output cell\n",
              "var outputEl = gd.closest('.output');\n",
              "if (outputEl) {{\n",
              "    x.observe(outputEl, {childList: true});\n",
              "}}\n",
              "\n",
              "                        })\n",
              "                };\n",
              "                \n",
              "            </script>\n",
              "        </div>\n",
              "</body>\n",
              "</html>"
            ]
          },
          "metadata": {
            "tags": []
          }
        }
      ]
    },
    {
      "cell_type": "markdown",
      "metadata": {
        "id": "iXLHVsbwk08q"
      },
      "source": [
        "### Type Conversion\n",
        "\n",
        "แปลง `InvoiceDate` จาก string -> date"
      ]
    },
    {
      "cell_type": "code",
      "metadata": {
        "id": "Pb7BB-e3k4g-",
        "colab": {
          "base_uri": "https://localhost:8080/",
          "height": 206
        },
        "outputId": "5c37e4b4-7eb6-4d30-8b60-fec31fc9a6af"
      },
      "source": [
        "# Show top 5 rows\n",
        "dt.show(5)"
      ],
      "execution_count": null,
      "outputs": [
        {
          "output_type": "stream",
          "text": [
            "+---------+---------+--------------------+--------+---------------+---------+----------+--------------+\n",
            "|InvoiceNo|StockCode|         Description|Quantity|    InvoiceDate|UnitPrice|CustomerID|       Country|\n",
            "+---------+---------+--------------------+--------+---------------+---------+----------+--------------+\n",
            "|   536365|   85123A|WHITE HANGING HEA...|       6|1/12/2018 08:26|     2.55|   17850.0|United Kingdom|\n",
            "|   536365|    71053| WHITE METAL LANTERN|       6|1/12/2018 08:26|     3.39|   17850.0|United Kingdom|\n",
            "|   536365|   84406B|CREAM CUPID HEART...|       8|1/12/2018 08:26|     2.75|   17850.0|United Kingdom|\n",
            "|   536365|   84029G|KNITTED UNION FLA...|       6|1/12/2018 08:26|     3.39|   17850.0|United Kingdom|\n",
            "|   536365|   84029E|RED WOOLLY HOTTIE...|       6|1/12/2018 08:26|     3.39|   17850.0|United Kingdom|\n",
            "+---------+---------+--------------------+--------+---------------+---------+----------+--------------+\n",
            "only showing top 5 rows\n",
            "\n"
          ],
          "name": "stdout"
        }
      ]
    },
    {
      "cell_type": "code",
      "metadata": {
        "id": "f7gFtSr0Fbne",
        "colab": {
          "base_uri": "https://localhost:8080/",
          "height": 188
        },
        "outputId": "609dc7f5-802d-4da8-9a0e-2c6a9527989e"
      },
      "source": [
        "# Show Schema\n",
        "dt.printSchema()"
      ],
      "execution_count": null,
      "outputs": [
        {
          "output_type": "stream",
          "text": [
            "root\n",
            " |-- InvoiceNo: string (nullable = true)\n",
            " |-- StockCode: string (nullable = true)\n",
            " |-- Description: string (nullable = true)\n",
            " |-- Quantity: integer (nullable = true)\n",
            " |-- InvoiceDate: string (nullable = true)\n",
            " |-- UnitPrice: double (nullable = true)\n",
            " |-- CustomerID: double (nullable = true)\n",
            " |-- Country: string (nullable = true)\n",
            "\n"
          ],
          "name": "stdout"
        }
      ]
    },
    {
      "cell_type": "markdown",
      "metadata": {
        "id": "pNVwy-FkHDrT"
      },
      "source": [
        "Is the date DD/MM/YYYY or MM/DD/YYYY? Let's find out\n",
        "\n"
      ]
    },
    {
      "cell_type": "code",
      "metadata": {
        "id": "Hu6po7nVGhj6",
        "colab": {
          "base_uri": "https://localhost:8080/",
          "height": 463
        },
        "outputId": "664cdd41-ac57-4b7c-afe4-abeab12664f3"
      },
      "source": [
        "# Show unique Invoice Date\n",
        "dt.select(\"InvoiceDate\").distinct().show()"
      ],
      "execution_count": null,
      "outputs": [
        {
          "output_type": "stream",
          "text": [
            "+----------------+\n",
            "|     InvoiceDate|\n",
            "+----------------+\n",
            "| 2/12/2018 11:23|\n",
            "| 6/12/2018 13:41|\n",
            "| 9/12/2018 14:44|\n",
            "|13/12/2018 13:09|\n",
            "|13/12/2018 16:46|\n",
            "|14/12/2018 10:28|\n",
            "|21/12/2018 15:13|\n",
            "|  7/1/2019 15:19|\n",
            "| 12/1/2019 09:48|\n",
            "| 14/1/2019 14:28|\n",
            "| 19/1/2019 14:43|\n",
            "| 26/1/2019 17:15|\n",
            "|  1/2/2019 10:04|\n",
            "|  1/2/2019 12:53|\n",
            "|  3/2/2019 11:30|\n",
            "|  7/2/2019 14:51|\n",
            "| 14/2/2019 12:36|\n",
            "| 14/2/2019 13:11|\n",
            "| 24/2/2019 09:05|\n",
            "| 25/2/2019 13:56|\n",
            "+----------------+\n",
            "only showing top 20 rows\n",
            "\n"
          ],
          "name": "stdout"
        }
      ]
    },
    {
      "cell_type": "code",
      "metadata": {
        "id": "rnerFBErFelC",
        "colab": {
          "base_uri": "https://localhost:8080/",
          "height": 463
        },
        "outputId": "d465c786-3efb-4671-ed9b-2f0ae454a5be"
      },
      "source": [
        "# แปลง string เป็น date\n",
        "from pyspark.sql import functions as f\n",
        "\n",
        "# dt_temp = dt.withColumn('InvoiceDateTime', functions.to_date(\n",
        "#     functions.unix_timestamp('InvoiceDate', 'dd/MM/yyyy HH:mm').cast('timestamp')\n",
        "# ))\n",
        "\n",
        "dt_temp = dt.withColumn('InvoiceDateTime', \n",
        "    f.unix_timestamp('InvoiceDate', 'dd/MM/yyyy HH:mm').cast('timestamp')\n",
        ")\n",
        "dt_temp.show()"
      ],
      "execution_count": null,
      "outputs": [
        {
          "output_type": "stream",
          "text": [
            "+---------+---------+--------------------+--------+---------------+---------+----------+--------------+-------------------+\n",
            "|InvoiceNo|StockCode|         Description|Quantity|    InvoiceDate|UnitPrice|CustomerID|       Country|    InvoiceDateTime|\n",
            "+---------+---------+--------------------+--------+---------------+---------+----------+--------------+-------------------+\n",
            "|   536365|   85123A|WHITE HANGING HEA...|       6|1/12/2018 08:26|     2.55|   17850.0|United Kingdom|2018-12-01 08:26:00|\n",
            "|   536365|    71053| WHITE METAL LANTERN|       6|1/12/2018 08:26|     3.39|   17850.0|United Kingdom|2018-12-01 08:26:00|\n",
            "|   536365|   84406B|CREAM CUPID HEART...|       8|1/12/2018 08:26|     2.75|   17850.0|United Kingdom|2018-12-01 08:26:00|\n",
            "|   536365|   84029G|KNITTED UNION FLA...|       6|1/12/2018 08:26|     3.39|   17850.0|United Kingdom|2018-12-01 08:26:00|\n",
            "|   536365|   84029E|RED WOOLLY HOTTIE...|       6|1/12/2018 08:26|     3.39|   17850.0|United Kingdom|2018-12-01 08:26:00|\n",
            "|   536365|    22752|SET 7 BABUSHKA NE...|       2|1/12/2018 08:26|     7.65|   17850.0|United Kingdom|2018-12-01 08:26:00|\n",
            "|   536365|    21730|GLASS STAR FROSTE...|       6|1/12/2018 08:26|     4.25|   17850.0|United Kingdom|2018-12-01 08:26:00|\n",
            "|   536366|    22633|HAND WARMER UNION...|       6|1/12/2018 08:28|     1.85|   17850.0|United Kingdom|2018-12-01 08:28:00|\n",
            "|   536366|    22632|HAND WARMER RED P...|       6|1/12/2018 08:28|     1.85|   17850.0|United Kingdom|2018-12-01 08:28:00|\n",
            "|   536367|    84879|ASSORTED COLOUR B...|      32|1/12/2018 08:34|     1.69|   13047.0|United Kingdom|2018-12-01 08:34:00|\n",
            "|   536367|    22745|POPPY'S PLAYHOUSE...|       6|1/12/2018 08:34|      2.1|   13047.0|United Kingdom|2018-12-01 08:34:00|\n",
            "|   536367|    22748|POPPY'S PLAYHOUSE...|       6|1/12/2018 08:34|      2.1|   13047.0|United Kingdom|2018-12-01 08:34:00|\n",
            "|   536367|    22749|FELTCRAFT PRINCES...|       8|1/12/2018 08:34|     3.75|   13047.0|United Kingdom|2018-12-01 08:34:00|\n",
            "|   536367|    22310|IVORY KNITTED MUG...|       6|1/12/2018 08:34|     1.65|   13047.0|United Kingdom|2018-12-01 08:34:00|\n",
            "|   536367|    84969|BOX OF 6 ASSORTED...|       6|1/12/2018 08:34|     4.25|   13047.0|United Kingdom|2018-12-01 08:34:00|\n",
            "|   536367|    22623|BOX OF VINTAGE JI...|       3|1/12/2018 08:34|     4.95|   13047.0|United Kingdom|2018-12-01 08:34:00|\n",
            "|   536367|    22622|BOX OF VINTAGE AL...|       2|1/12/2018 08:34|     9.95|   13047.0|United Kingdom|2018-12-01 08:34:00|\n",
            "|   536367|    21754|HOME BUILDING BLO...|       3|1/12/2018 08:34|     5.95|   13047.0|United Kingdom|2018-12-01 08:34:00|\n",
            "|   536367|    21755|LOVE BUILDING BLO...|       3|1/12/2018 08:34|     5.95|   13047.0|United Kingdom|2018-12-01 08:34:00|\n",
            "|   536367|    21777|RECIPE BOX WITH M...|       4|1/12/2018 08:34|     7.95|   13047.0|United Kingdom|2018-12-01 08:34:00|\n",
            "+---------+---------+--------------------+--------+---------------+---------+----------+--------------+-------------------+\n",
            "only showing top 20 rows\n",
            "\n"
          ],
          "name": "stdout"
        }
      ]
    },
    {
      "cell_type": "code",
      "metadata": {
        "id": "Pq7sQ-h6T6cp",
        "colab": {
          "base_uri": "https://localhost:8080/",
          "height": 206
        },
        "outputId": "a5aafc37-4b0d-49aa-d038-d275e6aab8e7"
      },
      "source": [
        "dt_temp.printSchema()"
      ],
      "execution_count": null,
      "outputs": [
        {
          "output_type": "stream",
          "text": [
            "root\n",
            " |-- InvoiceNo: string (nullable = true)\n",
            " |-- StockCode: string (nullable = true)\n",
            " |-- Description: string (nullable = true)\n",
            " |-- Quantity: integer (nullable = true)\n",
            " |-- InvoiceDate: string (nullable = true)\n",
            " |-- UnitPrice: double (nullable = true)\n",
            " |-- CustomerID: double (nullable = true)\n",
            " |-- Country: string (nullable = true)\n",
            " |-- InvoiceDateTime: timestamp (nullable = true)\n",
            "\n"
          ],
          "name": "stdout"
        }
      ]
    },
    {
      "cell_type": "code",
      "metadata": {
        "id": "SrntLk52LN1Q",
        "colab": {
          "base_uri": "https://localhost:8080/",
          "height": 463
        },
        "outputId": "cd14ec28-3144-4c7c-a3f0-a7e3ac353f57"
      },
      "source": [
        "dt_final = dt_temp.drop('InvoiceDate')\n",
        "dt_final.show()"
      ],
      "execution_count": null,
      "outputs": [
        {
          "output_type": "stream",
          "text": [
            "+---------+---------+--------------------+--------+---------+----------+--------------+-------------------+\n",
            "|InvoiceNo|StockCode|         Description|Quantity|UnitPrice|CustomerID|       Country|    InvoiceDateTime|\n",
            "+---------+---------+--------------------+--------+---------+----------+--------------+-------------------+\n",
            "|   536365|   85123A|WHITE HANGING HEA...|       6|     2.55|   17850.0|United Kingdom|2018-12-01 08:26:00|\n",
            "|   536365|    71053| WHITE METAL LANTERN|       6|     3.39|   17850.0|United Kingdom|2018-12-01 08:26:00|\n",
            "|   536365|   84406B|CREAM CUPID HEART...|       8|     2.75|   17850.0|United Kingdom|2018-12-01 08:26:00|\n",
            "|   536365|   84029G|KNITTED UNION FLA...|       6|     3.39|   17850.0|United Kingdom|2018-12-01 08:26:00|\n",
            "|   536365|   84029E|RED WOOLLY HOTTIE...|       6|     3.39|   17850.0|United Kingdom|2018-12-01 08:26:00|\n",
            "|   536365|    22752|SET 7 BABUSHKA NE...|       2|     7.65|   17850.0|United Kingdom|2018-12-01 08:26:00|\n",
            "|   536365|    21730|GLASS STAR FROSTE...|       6|     4.25|   17850.0|United Kingdom|2018-12-01 08:26:00|\n",
            "|   536366|    22633|HAND WARMER UNION...|       6|     1.85|   17850.0|United Kingdom|2018-12-01 08:28:00|\n",
            "|   536366|    22632|HAND WARMER RED P...|       6|     1.85|   17850.0|United Kingdom|2018-12-01 08:28:00|\n",
            "|   536367|    84879|ASSORTED COLOUR B...|      32|     1.69|   13047.0|United Kingdom|2018-12-01 08:34:00|\n",
            "|   536367|    22745|POPPY'S PLAYHOUSE...|       6|      2.1|   13047.0|United Kingdom|2018-12-01 08:34:00|\n",
            "|   536367|    22748|POPPY'S PLAYHOUSE...|       6|      2.1|   13047.0|United Kingdom|2018-12-01 08:34:00|\n",
            "|   536367|    22749|FELTCRAFT PRINCES...|       8|     3.75|   13047.0|United Kingdom|2018-12-01 08:34:00|\n",
            "|   536367|    22310|IVORY KNITTED MUG...|       6|     1.65|   13047.0|United Kingdom|2018-12-01 08:34:00|\n",
            "|   536367|    84969|BOX OF 6 ASSORTED...|       6|     4.25|   13047.0|United Kingdom|2018-12-01 08:34:00|\n",
            "|   536367|    22623|BOX OF VINTAGE JI...|       3|     4.95|   13047.0|United Kingdom|2018-12-01 08:34:00|\n",
            "|   536367|    22622|BOX OF VINTAGE AL...|       2|     9.95|   13047.0|United Kingdom|2018-12-01 08:34:00|\n",
            "|   536367|    21754|HOME BUILDING BLO...|       3|     5.95|   13047.0|United Kingdom|2018-12-01 08:34:00|\n",
            "|   536367|    21755|LOVE BUILDING BLO...|       3|     5.95|   13047.0|United Kingdom|2018-12-01 08:34:00|\n",
            "|   536367|    21777|RECIPE BOX WITH M...|       4|     7.95|   13047.0|United Kingdom|2018-12-01 08:34:00|\n",
            "+---------+---------+--------------------+--------+---------+----------+--------------+-------------------+\n",
            "only showing top 20 rows\n",
            "\n"
          ],
          "name": "stdout"
        }
      ]
    },
    {
      "cell_type": "code",
      "metadata": {
        "id": "FRYXS2J7Mo5M",
        "colab": {
          "base_uri": "https://localhost:8080/",
          "height": 188
        },
        "outputId": "b4dc2168-d4c6-4f7b-feff-8b4419478960"
      },
      "source": [
        "dt_final.printSchema()"
      ],
      "execution_count": null,
      "outputs": [
        {
          "output_type": "stream",
          "text": [
            "root\n",
            " |-- InvoiceNo: string (nullable = true)\n",
            " |-- StockCode: string (nullable = true)\n",
            " |-- Description: string (nullable = true)\n",
            " |-- Quantity: integer (nullable = true)\n",
            " |-- UnitPrice: double (nullable = true)\n",
            " |-- CustomerID: double (nullable = true)\n",
            " |-- Country: string (nullable = true)\n",
            " |-- InvoiceDateTime: timestamp (nullable = true)\n",
            "\n"
          ],
          "name": "stdout"
        }
      ]
    },
    {
      "cell_type": "markdown",
      "metadata": {
        "id": "jNWeSFR0TqHt"
      },
      "source": [
        "## Data Cleansing with Spark"
      ]
    },
    {
      "cell_type": "markdown",
      "metadata": {
        "id": "NlewC3HjbMty"
      },
      "source": [
        "### Anomalies Check"
      ]
    },
    {
      "cell_type": "markdown",
      "metadata": {
        "id": "YQmzIi6c2Ugp"
      },
      "source": [
        "#### Syntactical Anomalies\n",
        "**Lexical errors** เช่น พิมพ์ผิด"
      ]
    },
    {
      "cell_type": "code",
      "metadata": {
        "id": "htfmeHuZ2VPo",
        "colab": {
          "base_uri": "https://localhost:8080/",
          "height": 463
        },
        "outputId": "0a8e0a9c-cb06-46ea-989d-06d7c9773d7b"
      },
      "source": [
        "# Check country distinct values. Find something interesting?\n",
        "# ลองมาดูชื่อประเทศกัน เจออะไรบ้าง ?\n",
        "dt_final.select(\"Country\").distinct().show()"
      ],
      "execution_count": null,
      "outputs": [
        {
          "output_type": "stream",
          "text": [
            "+------------------+\n",
            "|           Country|\n",
            "+------------------+\n",
            "|            Sweden|\n",
            "|         Singapore|\n",
            "|           Germany|\n",
            "|               RSA|\n",
            "|            France|\n",
            "|            Greece|\n",
            "|European Community|\n",
            "|           Belgium|\n",
            "|           Finland|\n",
            "|             Malta|\n",
            "|       Unspecified|\n",
            "|             Italy|\n",
            "|              EIRE|\n",
            "|         Lithuania|\n",
            "|            Norway|\n",
            "|             Spain|\n",
            "|             EIREs|\n",
            "|           Denmark|\n",
            "|         Hong Kong|\n",
            "|           Iceland|\n",
            "+------------------+\n",
            "only showing top 20 rows\n",
            "\n"
          ],
          "name": "stdout"
        }
      ]
    },
    {
      "cell_type": "code",
      "metadata": {
        "id": "FSGUoi-eUl5U",
        "colab": {
          "base_uri": "https://localhost:8080/",
          "height": 188
        },
        "outputId": "3670b81c-d1fc-4899-e070-507de3c718e3"
      },
      "source": [
        "dt_final.where(dt_final['Country'] == 'EIREs').show()"
      ],
      "execution_count": null,
      "outputs": [
        {
          "output_type": "stream",
          "text": [
            "+---------+---------+--------------------+--------+---------+----------+-------+-------------------+\n",
            "|InvoiceNo|StockCode|         Description|Quantity|UnitPrice|CustomerID|Country|    InvoiceDateTime|\n",
            "+---------+---------+--------------------+--------+---------+----------+-------+-------------------+\n",
            "|   539473|       C2|            CARRIAGE|       1|     50.0|   14911.0|  EIREs|2018-12-19 14:24:00|\n",
            "|   542216|    84978|HANGING HEART JAR...|      24|     1.25|   14911.0|  EIREs|2019-01-26 12:29:00|\n",
            "|   560451|    22844|VINTAGE CREAM DOG...|       2|      8.5|   14911.0|  EIREs|2019-07-19 09:50:00|\n",
            "|   565748|    23163| REGENCY SUGAR TONGS|       8|     2.49|   14156.0|  EIREs|2019-09-06 12:38:00|\n",
            "|   565928|    21889|WOODEN BOX OF DOM...|      12|     1.25|      null|  EIREs|2019-09-08 10:09:00|\n",
            "+---------+---------+--------------------+--------+---------+----------+-------+-------------------+\n",
            "\n"
          ],
          "name": "stdout"
        }
      ]
    },
    {
      "cell_type": "code",
      "metadata": {
        "id": "03YDBKivjIfh"
      },
      "source": [
        "# เปลี่ยน EIREs เป็น EIRE\n",
        "from pyspark.sql.functions import when\n",
        "\n",
        "dt_temp_eire = dt_final.withColumn(\"CountryUpdate\", when(dt_final['Country'] == 'EIREs', 'EIRE').otherwise(dt_final['Country']))"
      ],
      "execution_count": null,
      "outputs": []
    },
    {
      "cell_type": "code",
      "metadata": {
        "id": "aHp2xBfIknNx",
        "colab": {
          "base_uri": "https://localhost:8080/",
          "height": 463
        },
        "outputId": "2adfe75a-cf57-4000-9623-ada8180ee8c5"
      },
      "source": [
        "# Check the result\n",
        "dt_temp_eire.select(\"CountryUpdate\").distinct().show()"
      ],
      "execution_count": null,
      "outputs": [
        {
          "output_type": "stream",
          "text": [
            "+------------------+\n",
            "|     CountryUpdate|\n",
            "+------------------+\n",
            "|            Sweden|\n",
            "|         Singapore|\n",
            "|           Germany|\n",
            "|               RSA|\n",
            "|            France|\n",
            "|            Greece|\n",
            "|European Community|\n",
            "|           Belgium|\n",
            "|           Finland|\n",
            "|             Malta|\n",
            "|       Unspecified|\n",
            "|             Italy|\n",
            "|              EIRE|\n",
            "|         Lithuania|\n",
            "|            Norway|\n",
            "|             Spain|\n",
            "|           Denmark|\n",
            "|         Hong Kong|\n",
            "|           Iceland|\n",
            "|            Israel|\n",
            "+------------------+\n",
            "only showing top 20 rows\n",
            "\n"
          ],
          "name": "stdout"
        }
      ]
    },
    {
      "cell_type": "code",
      "metadata": {
        "id": "EXspKbmMlDEA"
      },
      "source": [
        "# Create final Dataframe\n",
        "dt_final_eire = dt_temp_eire.drop(\"Country\").withColumnRenamed('CountryUpdate', 'Country')"
      ],
      "execution_count": null,
      "outputs": []
    },
    {
      "cell_type": "code",
      "metadata": {
        "id": "jakWvW6EVdcv",
        "colab": {
          "base_uri": "https://localhost:8080/",
          "height": 463
        },
        "outputId": "c32e460c-a769-4142-ffb0-41187d6dbef3"
      },
      "source": [
        "dt_final_eire.show()"
      ],
      "execution_count": null,
      "outputs": [
        {
          "output_type": "stream",
          "text": [
            "+---------+---------+--------------------+--------+---------+----------+-------------------+--------------+\n",
            "|InvoiceNo|StockCode|         Description|Quantity|UnitPrice|CustomerID|    InvoiceDateTime|       Country|\n",
            "+---------+---------+--------------------+--------+---------+----------+-------------------+--------------+\n",
            "|   536365|   85123A|WHITE HANGING HEA...|       6|     2.55|   17850.0|2018-12-01 08:26:00|United Kingdom|\n",
            "|   536365|    71053| WHITE METAL LANTERN|       6|     3.39|   17850.0|2018-12-01 08:26:00|United Kingdom|\n",
            "|   536365|   84406B|CREAM CUPID HEART...|       8|     2.75|   17850.0|2018-12-01 08:26:00|United Kingdom|\n",
            "|   536365|   84029G|KNITTED UNION FLA...|       6|     3.39|   17850.0|2018-12-01 08:26:00|United Kingdom|\n",
            "|   536365|   84029E|RED WOOLLY HOTTIE...|       6|     3.39|   17850.0|2018-12-01 08:26:00|United Kingdom|\n",
            "|   536365|    22752|SET 7 BABUSHKA NE...|       2|     7.65|   17850.0|2018-12-01 08:26:00|United Kingdom|\n",
            "|   536365|    21730|GLASS STAR FROSTE...|       6|     4.25|   17850.0|2018-12-01 08:26:00|United Kingdom|\n",
            "|   536366|    22633|HAND WARMER UNION...|       6|     1.85|   17850.0|2018-12-01 08:28:00|United Kingdom|\n",
            "|   536366|    22632|HAND WARMER RED P...|       6|     1.85|   17850.0|2018-12-01 08:28:00|United Kingdom|\n",
            "|   536367|    84879|ASSORTED COLOUR B...|      32|     1.69|   13047.0|2018-12-01 08:34:00|United Kingdom|\n",
            "|   536367|    22745|POPPY'S PLAYHOUSE...|       6|      2.1|   13047.0|2018-12-01 08:34:00|United Kingdom|\n",
            "|   536367|    22748|POPPY'S PLAYHOUSE...|       6|      2.1|   13047.0|2018-12-01 08:34:00|United Kingdom|\n",
            "|   536367|    22749|FELTCRAFT PRINCES...|       8|     3.75|   13047.0|2018-12-01 08:34:00|United Kingdom|\n",
            "|   536367|    22310|IVORY KNITTED MUG...|       6|     1.65|   13047.0|2018-12-01 08:34:00|United Kingdom|\n",
            "|   536367|    84969|BOX OF 6 ASSORTED...|       6|     4.25|   13047.0|2018-12-01 08:34:00|United Kingdom|\n",
            "|   536367|    22623|BOX OF VINTAGE JI...|       3|     4.95|   13047.0|2018-12-01 08:34:00|United Kingdom|\n",
            "|   536367|    22622|BOX OF VINTAGE AL...|       2|     9.95|   13047.0|2018-12-01 08:34:00|United Kingdom|\n",
            "|   536367|    21754|HOME BUILDING BLO...|       3|     5.95|   13047.0|2018-12-01 08:34:00|United Kingdom|\n",
            "|   536367|    21755|LOVE BUILDING BLO...|       3|     5.95|   13047.0|2018-12-01 08:34:00|United Kingdom|\n",
            "|   536367|    21777|RECIPE BOX WITH M...|       4|     7.95|   13047.0|2018-12-01 08:34:00|United Kingdom|\n",
            "+---------+---------+--------------------+--------+---------+----------+-------------------+--------------+\n",
            "only showing top 20 rows\n",
            "\n"
          ],
          "name": "stdout"
        }
      ]
    },
    {
      "cell_type": "markdown",
      "metadata": {
        "id": "-kyrqLYF2YjO"
      },
      "source": [
        "#### Semantic Anomalies\n",
        "\n",
        "**Integrity constraints**: ค่าอยู่นอกเหนือขอบเขตของค่าที่รับได้ เช่น\n",
        "- Stockcode: ค่าจะต้องเป็นตัวเลข 5 ตัว"
      ]
    },
    {
      "cell_type": "code",
      "metadata": {
        "id": "Iasmydx2TEYG",
        "colab": {
          "base_uri": "https://localhost:8080/",
          "height": 1000
        },
        "outputId": "fad98fbd-a461-4801-c13a-9861f216bc7d"
      },
      "source": [
        "dt_final_eire.select(\"Stockcode\").show(100)"
      ],
      "execution_count": null,
      "outputs": [
        {
          "output_type": "stream",
          "text": [
            "+---------+\n",
            "|Stockcode|\n",
            "+---------+\n",
            "|   85123A|\n",
            "|    71053|\n",
            "|   84406B|\n",
            "|   84029G|\n",
            "|   84029E|\n",
            "|    22752|\n",
            "|    21730|\n",
            "|    22633|\n",
            "|    22632|\n",
            "|    84879|\n",
            "|    22745|\n",
            "|    22748|\n",
            "|    22749|\n",
            "|    22310|\n",
            "|    84969|\n",
            "|    22623|\n",
            "|    22622|\n",
            "|    21754|\n",
            "|    21755|\n",
            "|    21777|\n",
            "|    48187|\n",
            "|    22960|\n",
            "|    22913|\n",
            "|    22912|\n",
            "|    22914|\n",
            "|    21756|\n",
            "|    22728|\n",
            "|    22727|\n",
            "|    22726|\n",
            "|    21724|\n",
            "|    21883|\n",
            "|    10002|\n",
            "|    21791|\n",
            "|    21035|\n",
            "|    22326|\n",
            "|    22629|\n",
            "|    22659|\n",
            "|    22631|\n",
            "|    22661|\n",
            "|    21731|\n",
            "|    22900|\n",
            "|    21913|\n",
            "|    22540|\n",
            "|    22544|\n",
            "|    22492|\n",
            "|     POST|\n",
            "|    22086|\n",
            "|    22632|\n",
            "|    22633|\n",
            "|   85123A|\n",
            "|    71053|\n",
            "|   84406B|\n",
            "|    20679|\n",
            "|    37370|\n",
            "|    21871|\n",
            "|    21071|\n",
            "|    21068|\n",
            "|    82483|\n",
            "|    82486|\n",
            "|    82482|\n",
            "|   82494L|\n",
            "|   84029G|\n",
            "|   84029E|\n",
            "|    22752|\n",
            "|    21730|\n",
            "|    21258|\n",
            "|   85123A|\n",
            "|    71053|\n",
            "|   84406B|\n",
            "|    20679|\n",
            "|    37370|\n",
            "|    21871|\n",
            "|    21071|\n",
            "|    21068|\n",
            "|    82483|\n",
            "|    82486|\n",
            "|    82482|\n",
            "|   82494L|\n",
            "|   84029G|\n",
            "|   84029E|\n",
            "|    22752|\n",
            "|    21730|\n",
            "|    22114|\n",
            "|    21733|\n",
            "|    22632|\n",
            "|    22633|\n",
            "|    22386|\n",
            "|   85099C|\n",
            "|    21033|\n",
            "|    20723|\n",
            "|   84997B|\n",
            "|   84997C|\n",
            "|    21094|\n",
            "|    20725|\n",
            "|    21559|\n",
            "|    22352|\n",
            "|    21212|\n",
            "|    21975|\n",
            "|    21977|\n",
            "|    84991|\n",
            "+---------+\n",
            "only showing top 100 rows\n",
            "\n"
          ],
          "name": "stdout"
        }
      ]
    },
    {
      "cell_type": "code",
      "metadata": {
        "id": "ZVtj_wvpsdn4",
        "colab": {
          "base_uri": "https://localhost:8080/",
          "height": 34
        },
        "outputId": "af077e97-5724-46ed-9420-ddd219825231"
      },
      "source": [
        "dt_final_eire.count()"
      ],
      "execution_count": null,
      "outputs": [
        {
          "output_type": "execute_result",
          "data": {
            "text/plain": [
              "541909"
            ]
          },
          "metadata": {
            "tags": []
          },
          "execution_count": 46
        }
      ]
    },
    {
      "cell_type": "code",
      "metadata": {
        "id": "i3H6sWVsrSn-",
        "colab": {
          "base_uri": "https://localhost:8080/",
          "height": 34
        },
        "outputId": "4c626e49-9d73-44ee-e144-6fbe35e538e6"
      },
      "source": [
        "dt_final_eire.filter(dt_final_eire[\"Stockcode\"].rlike(\"^[0-9]{5}$\")).count()"
      ],
      "execution_count": null,
      "outputs": [
        {
          "output_type": "execute_result",
          "data": {
            "text/plain": [
              "487036"
            ]
          },
          "metadata": {
            "tags": []
          },
          "execution_count": 47
        }
      ]
    },
    {
      "cell_type": "code",
      "metadata": {
        "id": "pnUrouqasixk",
        "colab": {
          "base_uri": "https://localhost:8080/",
          "height": 206
        },
        "outputId": "c5e3588f-9371-41c3-9724-2586d1e83068"
      },
      "source": [
        "# ลองดูข้อมูลที่ถูกต้อง\n",
        "dt_final_eire.filter(dt_final_eire[\"Stockcode\"].rlike(\"^[0-9]{5}$\")).show(5)"
      ],
      "execution_count": null,
      "outputs": [
        {
          "output_type": "stream",
          "text": [
            "+---------+---------+--------------------+--------+---------+----------+-------------------+--------------+\n",
            "|InvoiceNo|StockCode|         Description|Quantity|UnitPrice|CustomerID|    InvoiceDateTime|       Country|\n",
            "+---------+---------+--------------------+--------+---------+----------+-------------------+--------------+\n",
            "|   536365|    71053| WHITE METAL LANTERN|       6|     3.39|   17850.0|2018-12-01 08:26:00|United Kingdom|\n",
            "|   536365|    22752|SET 7 BABUSHKA NE...|       2|     7.65|   17850.0|2018-12-01 08:26:00|United Kingdom|\n",
            "|   536365|    21730|GLASS STAR FROSTE...|       6|     4.25|   17850.0|2018-12-01 08:26:00|United Kingdom|\n",
            "|   536366|    22633|HAND WARMER UNION...|       6|     1.85|   17850.0|2018-12-01 08:28:00|United Kingdom|\n",
            "|   536366|    22632|HAND WARMER RED P...|       6|     1.85|   17850.0|2018-12-01 08:28:00|United Kingdom|\n",
            "+---------+---------+--------------------+--------+---------+----------+-------------------+--------------+\n",
            "only showing top 5 rows\n",
            "\n"
          ],
          "name": "stdout"
        }
      ]
    },
    {
      "cell_type": "code",
      "metadata": {
        "id": "5tE-VcSQXWzp",
        "colab": {
          "base_uri": "https://localhost:8080/",
          "height": 291
        },
        "outputId": "0a61827a-7194-4241-b6c3-004054832de1"
      },
      "source": [
        "# ลองดูข้อมูลที่ไม่ถูกต้อง\n",
        "dt_correct_stockcode = dt_final_eire.filter(dt_final_eire[\"Stockcode\"].rlike(\"^[0-9]{5}$\"))\n",
        "dt_incorrect_stockcode = dt_final_eire.subtract(dt_correct_stockcode)\n",
        "\n",
        "dt_incorrect_stockcode.show(10)"
      ],
      "execution_count": null,
      "outputs": [
        {
          "output_type": "stream",
          "text": [
            "+---------+---------+--------------------+--------+---------+----------+-------------------+--------------+\n",
            "|InvoiceNo|StockCode|         Description|Quantity|UnitPrice|CustomerID|    InvoiceDateTime|       Country|\n",
            "+---------+---------+--------------------+--------+---------+----------+-------------------+--------------+\n",
            "|   536551|   79144B|PAINTED LIGHTBULB...|       2|     0.42|   17346.0|2018-12-01 14:34:00|United Kingdom|\n",
            "|   536584|   84029E|RED WOOLLY HOTTIE...|     384|     2.95|   13777.0|2018-12-01 16:22:00|United Kingdom|\n",
            "|   536804|   84029G|KNITTED UNION FLA...|      48|     3.39|   14031.0|2018-12-02 16:34:00|United Kingdom|\n",
            "|   537045|   90185D|CRYSTAL DIAMANTE ...|       1|     4.25|   15038.0|2018-12-05 10:54:00|United Kingdom|\n",
            "|   537144|   84596E|SMALL LICORICE DE...|       1|     1.25|   15880.0|2018-12-05 13:00:00|United Kingdom|\n",
            "|   537422|   85131A|BEADED PEARL HEAR...|      24|     1.25|   17812.0|2018-12-06 15:27:00|United Kingdom|\n",
            "|   537781|   51020B|STRIPY DESIGN SHO...|       1|     1.25|   17341.0|2018-12-08 12:46:00|United Kingdom|\n",
            "|   538639|   84247E|PACK/12 XMAS FUN ...|      12|     2.95|   17179.0|2018-12-13 14:24:00|United Kingdom|\n",
            "|   538646|   84029E|RED WOOLLY HOTTIE...|       4|     3.75|   17293.0|2018-12-13 14:55:00|United Kingdom|\n",
            "|   538832|   85123A|WHITE HANGING HEA...|       6|     2.95|   17158.0|2018-12-14 13:03:00|United Kingdom|\n",
            "+---------+---------+--------------------+--------+---------+----------+-------------------+--------------+\n",
            "only showing top 10 rows\n",
            "\n"
          ],
          "name": "stdout"
        }
      ]
    },
    {
      "cell_type": "markdown",
      "metadata": {
        "id": "38ekkpo7XyDG"
      },
      "source": [
        "> คุณเห็น Pattern ของ Stock Code ที่ไม่ถูกต้องหรือยัง?"
      ]
    },
    {
      "cell_type": "code",
      "metadata": {
        "id": "g2SAQYLuuKgX"
      },
      "source": [
        "# ลบตัวอักษรตัวสุดท้ายออกจาก stock code\n",
        "from pyspark.sql.functions import regexp_replace\n",
        "\n",
        "dt_temp_stockcode = dt_final_eire.withColumn(\"StockcodeUpdate\", regexp_replace(dt_final_eire['Stockcode'], r'[A-Z]', ''))"
      ],
      "execution_count": null,
      "outputs": []
    },
    {
      "cell_type": "code",
      "metadata": {
        "id": "2Ko7m6mbwJJj",
        "colab": {
          "base_uri": "https://localhost:8080/",
          "height": 463
        },
        "outputId": "72ef9626-70c7-4471-af66-f118a6b2cdb2"
      },
      "source": [
        "# Check the result\n",
        "dt_temp_stockcode.show()"
      ],
      "execution_count": null,
      "outputs": [
        {
          "output_type": "stream",
          "text": [
            "+---------+---------+--------------------+--------+---------+----------+-------------------+--------------+---------------+\n",
            "|InvoiceNo|StockCode|         Description|Quantity|UnitPrice|CustomerID|    InvoiceDateTime|       Country|StockcodeUpdate|\n",
            "+---------+---------+--------------------+--------+---------+----------+-------------------+--------------+---------------+\n",
            "|   536365|   85123A|WHITE HANGING HEA...|       6|     2.55|   17850.0|2018-12-01 08:26:00|United Kingdom|          85123|\n",
            "|   536365|    71053| WHITE METAL LANTERN|       6|     3.39|   17850.0|2018-12-01 08:26:00|United Kingdom|          71053|\n",
            "|   536365|   84406B|CREAM CUPID HEART...|       8|     2.75|   17850.0|2018-12-01 08:26:00|United Kingdom|          84406|\n",
            "|   536365|   84029G|KNITTED UNION FLA...|       6|     3.39|   17850.0|2018-12-01 08:26:00|United Kingdom|          84029|\n",
            "|   536365|   84029E|RED WOOLLY HOTTIE...|       6|     3.39|   17850.0|2018-12-01 08:26:00|United Kingdom|          84029|\n",
            "|   536365|    22752|SET 7 BABUSHKA NE...|       2|     7.65|   17850.0|2018-12-01 08:26:00|United Kingdom|          22752|\n",
            "|   536365|    21730|GLASS STAR FROSTE...|       6|     4.25|   17850.0|2018-12-01 08:26:00|United Kingdom|          21730|\n",
            "|   536366|    22633|HAND WARMER UNION...|       6|     1.85|   17850.0|2018-12-01 08:28:00|United Kingdom|          22633|\n",
            "|   536366|    22632|HAND WARMER RED P...|       6|     1.85|   17850.0|2018-12-01 08:28:00|United Kingdom|          22632|\n",
            "|   536367|    84879|ASSORTED COLOUR B...|      32|     1.69|   13047.0|2018-12-01 08:34:00|United Kingdom|          84879|\n",
            "|   536367|    22745|POPPY'S PLAYHOUSE...|       6|      2.1|   13047.0|2018-12-01 08:34:00|United Kingdom|          22745|\n",
            "|   536367|    22748|POPPY'S PLAYHOUSE...|       6|      2.1|   13047.0|2018-12-01 08:34:00|United Kingdom|          22748|\n",
            "|   536367|    22749|FELTCRAFT PRINCES...|       8|     3.75|   13047.0|2018-12-01 08:34:00|United Kingdom|          22749|\n",
            "|   536367|    22310|IVORY KNITTED MUG...|       6|     1.65|   13047.0|2018-12-01 08:34:00|United Kingdom|          22310|\n",
            "|   536367|    84969|BOX OF 6 ASSORTED...|       6|     4.25|   13047.0|2018-12-01 08:34:00|United Kingdom|          84969|\n",
            "|   536367|    22623|BOX OF VINTAGE JI...|       3|     4.95|   13047.0|2018-12-01 08:34:00|United Kingdom|          22623|\n",
            "|   536367|    22622|BOX OF VINTAGE AL...|       2|     9.95|   13047.0|2018-12-01 08:34:00|United Kingdom|          22622|\n",
            "|   536367|    21754|HOME BUILDING BLO...|       3|     5.95|   13047.0|2018-12-01 08:34:00|United Kingdom|          21754|\n",
            "|   536367|    21755|LOVE BUILDING BLO...|       3|     5.95|   13047.0|2018-12-01 08:34:00|United Kingdom|          21755|\n",
            "|   536367|    21777|RECIPE BOX WITH M...|       4|     7.95|   13047.0|2018-12-01 08:34:00|United Kingdom|          21777|\n",
            "+---------+---------+--------------------+--------+---------+----------+-------------------+--------------+---------------+\n",
            "only showing top 20 rows\n",
            "\n"
          ],
          "name": "stdout"
        }
      ]
    },
    {
      "cell_type": "code",
      "metadata": {
        "id": "m6LoL8etxNSO"
      },
      "source": [
        "# Create final Dataframe\n",
        "dt_final_stockcode = dt_temp_stockcode.drop(\"Stockcode\").withColumnRenamed('StockcodeUpdate', 'StockCode')"
      ],
      "execution_count": null,
      "outputs": []
    },
    {
      "cell_type": "code",
      "metadata": {
        "id": "KIcBie-jcAaC",
        "colab": {
          "base_uri": "https://localhost:8080/",
          "height": 188
        },
        "outputId": "669e813a-5f2a-4736-c9f5-54e18422a355"
      },
      "source": [
        "dt_final_stockcode.show(4)"
      ],
      "execution_count": null,
      "outputs": [
        {
          "output_type": "stream",
          "text": [
            "+---------+--------------------+--------+---------+----------+-------------------+--------------+---------+\n",
            "|InvoiceNo|         Description|Quantity|UnitPrice|CustomerID|    InvoiceDateTime|       Country|StockCode|\n",
            "+---------+--------------------+--------+---------+----------+-------------------+--------------+---------+\n",
            "|   536365|WHITE HANGING HEA...|       6|     2.55|   17850.0|2018-12-01 08:26:00|United Kingdom|    85123|\n",
            "|   536365| WHITE METAL LANTERN|       6|     3.39|   17850.0|2018-12-01 08:26:00|United Kingdom|    71053|\n",
            "|   536365|CREAM CUPID HEART...|       8|     2.75|   17850.0|2018-12-01 08:26:00|United Kingdom|    84406|\n",
            "|   536365|KNITTED UNION FLA...|       6|     3.39|   17850.0|2018-12-01 08:26:00|United Kingdom|    84029|\n",
            "+---------+--------------------+--------+---------+----------+-------------------+--------------+---------+\n",
            "only showing top 4 rows\n",
            "\n"
          ],
          "name": "stdout"
        }
      ]
    },
    {
      "cell_type": "markdown",
      "metadata": {
        "id": "4kCf3LsX2b8L"
      },
      "source": [
        "#### Missing values\n",
        "\n",
        "การเช็คและแก้ไข Missing Values (หากจำเป็น)"
      ]
    },
    {
      "cell_type": "code",
      "metadata": {
        "id": "T11c7iUs24Cu",
        "colab": {
          "base_uri": "https://localhost:8080/",
          "height": 120
        },
        "outputId": "88223b80-c55e-4b97-89c5-9dd6eb58b779"
      },
      "source": [
        "# Check จำนวน missing values ในแต่ละ column\n",
        "from pyspark.sql.functions import col,sum\n",
        "\n",
        "dt_final_stockcode.select(*[sum(col(c).isNull().cast(\"int\")).alias(c) for c in dt_final_stockcode.columns]).show()"
      ],
      "execution_count": null,
      "outputs": [
        {
          "output_type": "stream",
          "text": [
            "+---------+-----------+--------+---------+----------+---------------+-------+---------+\n",
            "|InvoiceNo|Description|Quantity|UnitPrice|CustomerID|InvoiceDateTime|Country|StockCode|\n",
            "+---------+-----------+--------+---------+----------+---------------+-------+---------+\n",
            "|        0|       1454|       0|        0|    135080|              0|      0|        0|\n",
            "+---------+-----------+--------+---------+----------+---------------+-------+---------+\n",
            "\n"
          ],
          "name": "stdout"
        }
      ]
    },
    {
      "cell_type": "code",
      "metadata": {
        "id": "KUSOqJ4p0E2W",
        "colab": {
          "base_uri": "https://localhost:8080/",
          "height": 463
        },
        "outputId": "c31d2526-b953-4b85-83b9-fcf9f4f3214c"
      },
      "source": [
        "# Check ว่ามีแถวไหนที่ description เป็น null บ้าง\n",
        "\n",
        "dt_final_stockcode.where( dt_final_stockcode['Description'].isNull() ).show()"
      ],
      "execution_count": null,
      "outputs": [
        {
          "output_type": "stream",
          "text": [
            "+---------+-----------+--------+---------+----------+-------------------+--------------+---------+\n",
            "|InvoiceNo|Description|Quantity|UnitPrice|CustomerID|    InvoiceDateTime|       Country|StockCode|\n",
            "+---------+-----------+--------+---------+----------+-------------------+--------------+---------+\n",
            "|   536414|       null|      56|      0.0|      null|2018-12-01 11:52:00|United Kingdom|    22139|\n",
            "|   536545|       null|       1|      0.0|      null|2018-12-01 14:32:00|United Kingdom|    21134|\n",
            "|   536546|       null|       1|      0.0|      null|2018-12-01 14:33:00|United Kingdom|    22145|\n",
            "|   536547|       null|       1|      0.0|      null|2018-12-01 14:33:00|United Kingdom|    37509|\n",
            "|   536549|       null|       1|      0.0|      null|2018-12-01 14:34:00|United Kingdom|    85226|\n",
            "|   536550|       null|       1|      0.0|      null|2018-12-01 14:34:00|United Kingdom|    85044|\n",
            "|   536552|       null|       1|      0.0|      null|2018-12-01 14:34:00|United Kingdom|    20950|\n",
            "|   536553|       null|       3|      0.0|      null|2018-12-01 14:35:00|United Kingdom|    37461|\n",
            "|   536554|       null|      23|      0.0|      null|2018-12-01 14:35:00|United Kingdom|    84670|\n",
            "|   536589|       null|     -10|      0.0|      null|2018-12-01 16:50:00|United Kingdom|    21777|\n",
            "|   536764|       null|     -38|      0.0|      null|2018-12-02 14:42:00|United Kingdom|    84952|\n",
            "|   536765|       null|      19|      0.0|      null|2018-12-02 14:43:00|United Kingdom|    84952|\n",
            "|   536995|       null|      57|      0.0|      null|2018-12-03 15:29:00|United Kingdom|    35951|\n",
            "|   536996|       null|     -20|      0.0|      null|2018-12-03 15:30:00|United Kingdom|    22712|\n",
            "|   536997|       null|     -20|      0.0|      null|2018-12-03 15:30:00|United Kingdom|    22028|\n",
            "|   536998|       null|      -6|      0.0|      null|2018-12-03 15:30:00|United Kingdom|    85067|\n",
            "|   536999|       null|     110|      0.0|      null|2018-12-03 15:32:00|United Kingdom|    21421|\n",
            "|   537000|       null|     -22|      0.0|      null|2018-12-03 15:32:00|United Kingdom|    21414|\n",
            "|   537001|       null|      -6|      0.0|      null|2018-12-03 15:33:00|United Kingdom|    21653|\n",
            "|   537002|       null|      70|      0.0|      null|2018-12-03 15:33:00|United Kingdom|    21651|\n",
            "+---------+-----------+--------+---------+----------+-------------------+--------------+---------+\n",
            "only showing top 20 rows\n",
            "\n"
          ],
          "name": "stdout"
        }
      ]
    },
    {
      "cell_type": "code",
      "metadata": {
        "id": "8Bi3ql4PzXae",
        "colab": {
          "base_uri": "https://localhost:8080/",
          "height": 463
        },
        "outputId": "338b4c14-a4f3-4421-9de6-67df8f9de845"
      },
      "source": [
        "# Check ว่ามีแถวไหนที่ customerID เป็น null บ้าง\n",
        "\n",
        "dt_final_stockcode.where( dt_final_stockcode['customerID'].isNull() ).show()"
      ],
      "execution_count": null,
      "outputs": [
        {
          "output_type": "stream",
          "text": [
            "+---------+--------------------+--------+---------+----------+-------------------+--------------+---------+\n",
            "|InvoiceNo|         Description|Quantity|UnitPrice|CustomerID|    InvoiceDateTime|       Country|StockCode|\n",
            "+---------+--------------------+--------+---------+----------+-------------------+--------------+---------+\n",
            "|   536414|                null|      56|      0.0|      null|2018-12-01 11:52:00|United Kingdom|    22139|\n",
            "|   536544|DECORATIVE ROSE B...|       1|     2.51|      null|2018-12-01 14:32:00|United Kingdom|    21773|\n",
            "|   536544|DECORATIVE CATS B...|       2|     2.51|      null|2018-12-01 14:32:00|United Kingdom|    21774|\n",
            "|   536544|  POLKADOT RAIN HAT |       4|     0.85|      null|2018-12-01 14:32:00|United Kingdom|    21786|\n",
            "|   536544|RAIN PONCHO RETRO...|       2|     1.66|      null|2018-12-01 14:32:00|United Kingdom|    21787|\n",
            "|   536544|  VINTAGE SNAP CARDS|       9|     1.66|      null|2018-12-01 14:32:00|United Kingdom|    21790|\n",
            "|   536544|VINTAGE HEADS AND...|       2|     2.51|      null|2018-12-01 14:32:00|United Kingdom|    21791|\n",
            "|   536544|CHRISTMAS TREE DE...|      10|     0.43|      null|2018-12-01 14:32:00|United Kingdom|    21801|\n",
            "|   536544|CHRISTMAS TREE HE...|       9|     0.43|      null|2018-12-01 14:32:00|United Kingdom|    21802|\n",
            "|   536544|CHRISTMAS TREE ST...|      11|     0.43|      null|2018-12-01 14:32:00|United Kingdom|    21803|\n",
            "|   536544|CHRISTMAS HANGING...|       1|     2.51|      null|2018-12-01 14:32:00|United Kingdom|    21809|\n",
            "|   536544|CHRISTMAS HANGING...|       3|     2.51|      null|2018-12-01 14:32:00|United Kingdom|    21810|\n",
            "|   536544|CHRISTMAS HANGING...|       1|     2.51|      null|2018-12-01 14:32:00|United Kingdom|    21811|\n",
            "|   536544|GLITTER STAR GARL...|       1|     7.62|      null|2018-12-01 14:32:00|United Kingdom|    21821|\n",
            "|   536544|GLITTER CHRISTMAS...|       1|     4.21|      null|2018-12-01 14:32:00|United Kingdom|    21822|\n",
            "|   536544|PAINTED METAL HEA...|       2|     2.98|      null|2018-12-01 14:32:00|United Kingdom|    21823|\n",
            "|   536544|   RED RETROSPOT MUG|       2|     5.91|      null|2018-12-01 14:32:00|United Kingdom|    21844|\n",
            "|   536544|LILAC DIAMANTE PE...|       1|     4.21|      null|2018-12-01 14:32:00|United Kingdom|    21851|\n",
            "|   536544|I CAN ONLY PLEASE...|       1|     3.36|      null|2018-12-01 14:32:00|United Kingdom|    21870|\n",
            "|   536544| SAVE THE PLANET MUG|       5|     3.36|      null|2018-12-01 14:32:00|United Kingdom|    21871|\n",
            "+---------+--------------------+--------+---------+----------+-------------------+--------------+---------+\n",
            "only showing top 20 rows\n",
            "\n"
          ],
          "name": "stdout"
        }
      ]
    },
    {
      "cell_type": "markdown",
      "metadata": {
        "id": "Xp3uwpf-Ty8Y"
      },
      "source": [
        "### Exercise:\n",
        "ทางทีม Data Analyst แจ้งว่าอยากให้เราแทน Customer ID ที่เป็น NULL ด้วย -1"
      ]
    },
    {
      "cell_type": "code",
      "metadata": {
        "id": "wnwxPdTHTyS5",
        "colab": {
          "base_uri": "https://localhost:8080/",
          "height": 463
        },
        "outputId": "ff338afa-f249-4eec-9a12-c5bac1c1179b"
      },
      "source": [
        "# Write code here\n",
        "dt_customer_notnull = dt_final_stockcode.withColumn(\"CustomerIDUpdate\", when(dt_final_stockcode['customerID'].isNull(), -1).otherwise(dt_final_stockcode['customerID']))\n",
        "\n",
        "dt_customer_notnull.show()"
      ],
      "execution_count": null,
      "outputs": [
        {
          "output_type": "stream",
          "text": [
            "+---------+--------------------+--------+---------+----------+-------------------+--------------+---------+----------------+\n",
            "|InvoiceNo|         Description|Quantity|UnitPrice|CustomerID|    InvoiceDateTime|       Country|StockCode|CustomerIDUpdate|\n",
            "+---------+--------------------+--------+---------+----------+-------------------+--------------+---------+----------------+\n",
            "|   536365|WHITE HANGING HEA...|       6|     2.55|   17850.0|2018-12-01 08:26:00|United Kingdom|    85123|         17850.0|\n",
            "|   536365| WHITE METAL LANTERN|       6|     3.39|   17850.0|2018-12-01 08:26:00|United Kingdom|    71053|         17850.0|\n",
            "|   536365|CREAM CUPID HEART...|       8|     2.75|   17850.0|2018-12-01 08:26:00|United Kingdom|    84406|         17850.0|\n",
            "|   536365|KNITTED UNION FLA...|       6|     3.39|   17850.0|2018-12-01 08:26:00|United Kingdom|    84029|         17850.0|\n",
            "|   536365|RED WOOLLY HOTTIE...|       6|     3.39|   17850.0|2018-12-01 08:26:00|United Kingdom|    84029|         17850.0|\n",
            "|   536365|SET 7 BABUSHKA NE...|       2|     7.65|   17850.0|2018-12-01 08:26:00|United Kingdom|    22752|         17850.0|\n",
            "|   536365|GLASS STAR FROSTE...|       6|     4.25|   17850.0|2018-12-01 08:26:00|United Kingdom|    21730|         17850.0|\n",
            "|   536366|HAND WARMER UNION...|       6|     1.85|   17850.0|2018-12-01 08:28:00|United Kingdom|    22633|         17850.0|\n",
            "|   536366|HAND WARMER RED P...|       6|     1.85|   17850.0|2018-12-01 08:28:00|United Kingdom|    22632|         17850.0|\n",
            "|   536367|ASSORTED COLOUR B...|      32|     1.69|   13047.0|2018-12-01 08:34:00|United Kingdom|    84879|         13047.0|\n",
            "|   536367|POPPY'S PLAYHOUSE...|       6|      2.1|   13047.0|2018-12-01 08:34:00|United Kingdom|    22745|         13047.0|\n",
            "|   536367|POPPY'S PLAYHOUSE...|       6|      2.1|   13047.0|2018-12-01 08:34:00|United Kingdom|    22748|         13047.0|\n",
            "|   536367|FELTCRAFT PRINCES...|       8|     3.75|   13047.0|2018-12-01 08:34:00|United Kingdom|    22749|         13047.0|\n",
            "|   536367|IVORY KNITTED MUG...|       6|     1.65|   13047.0|2018-12-01 08:34:00|United Kingdom|    22310|         13047.0|\n",
            "|   536367|BOX OF 6 ASSORTED...|       6|     4.25|   13047.0|2018-12-01 08:34:00|United Kingdom|    84969|         13047.0|\n",
            "|   536367|BOX OF VINTAGE JI...|       3|     4.95|   13047.0|2018-12-01 08:34:00|United Kingdom|    22623|         13047.0|\n",
            "|   536367|BOX OF VINTAGE AL...|       2|     9.95|   13047.0|2018-12-01 08:34:00|United Kingdom|    22622|         13047.0|\n",
            "|   536367|HOME BUILDING BLO...|       3|     5.95|   13047.0|2018-12-01 08:34:00|United Kingdom|    21754|         13047.0|\n",
            "|   536367|LOVE BUILDING BLO...|       3|     5.95|   13047.0|2018-12-01 08:34:00|United Kingdom|    21755|         13047.0|\n",
            "|   536367|RECIPE BOX WITH M...|       4|     7.95|   13047.0|2018-12-01 08:34:00|United Kingdom|    21777|         13047.0|\n",
            "+---------+--------------------+--------+---------+----------+-------------------+--------------+---------+----------------+\n",
            "only showing top 20 rows\n",
            "\n"
          ],
          "name": "stdout"
        }
      ]
    },
    {
      "cell_type": "markdown",
      "metadata": {
        "id": "a5DtVcoRUsFp"
      },
      "source": [
        "### Clean ข้อมูลด้วย Spark SQL\n",
        "\n",
        "![alt text](https://cdn-std.droplr.net/files/acc_513973/881iHw)\n",
        "\n",
        "เลือกเฉพาะข้อมูลที่ `unitPrice` กับ `Quantity` ถูกต้อง (มากกว่า 0)"
      ]
    },
    {
      "cell_type": "code",
      "metadata": {
        "id": "KMwaNBsSuygq",
        "colab": {
          "base_uri": "https://localhost:8080/",
          "height": 463
        },
        "outputId": "ebf1987a-73bc-4705-b7e7-9a57ceb89dc8"
      },
      "source": [
        "dt_final_stockcode.createOrReplaceTempView(\"sales\")\n",
        "dt_sql = spark.sql(\"SELECT * FROM sales\")\n",
        "dt_sql.show()"
      ],
      "execution_count": null,
      "outputs": [
        {
          "output_type": "stream",
          "text": [
            "+---------+--------------------+--------+---------+----------+-------------------+--------------+---------+\n",
            "|InvoiceNo|         Description|Quantity|UnitPrice|CustomerID|    InvoiceDateTime|       Country|StockCode|\n",
            "+---------+--------------------+--------+---------+----------+-------------------+--------------+---------+\n",
            "|   536365|WHITE HANGING HEA...|       6|     2.55|   17850.0|2018-12-01 08:26:00|United Kingdom|    85123|\n",
            "|   536365| WHITE METAL LANTERN|       6|     3.39|   17850.0|2018-12-01 08:26:00|United Kingdom|    71053|\n",
            "|   536365|CREAM CUPID HEART...|       8|     2.75|   17850.0|2018-12-01 08:26:00|United Kingdom|    84406|\n",
            "|   536365|KNITTED UNION FLA...|       6|     3.39|   17850.0|2018-12-01 08:26:00|United Kingdom|    84029|\n",
            "|   536365|RED WOOLLY HOTTIE...|       6|     3.39|   17850.0|2018-12-01 08:26:00|United Kingdom|    84029|\n",
            "|   536365|SET 7 BABUSHKA NE...|       2|     7.65|   17850.0|2018-12-01 08:26:00|United Kingdom|    22752|\n",
            "|   536365|GLASS STAR FROSTE...|       6|     4.25|   17850.0|2018-12-01 08:26:00|United Kingdom|    21730|\n",
            "|   536366|HAND WARMER UNION...|       6|     1.85|   17850.0|2018-12-01 08:28:00|United Kingdom|    22633|\n",
            "|   536366|HAND WARMER RED P...|       6|     1.85|   17850.0|2018-12-01 08:28:00|United Kingdom|    22632|\n",
            "|   536367|ASSORTED COLOUR B...|      32|     1.69|   13047.0|2018-12-01 08:34:00|United Kingdom|    84879|\n",
            "|   536367|POPPY'S PLAYHOUSE...|       6|      2.1|   13047.0|2018-12-01 08:34:00|United Kingdom|    22745|\n",
            "|   536367|POPPY'S PLAYHOUSE...|       6|      2.1|   13047.0|2018-12-01 08:34:00|United Kingdom|    22748|\n",
            "|   536367|FELTCRAFT PRINCES...|       8|     3.75|   13047.0|2018-12-01 08:34:00|United Kingdom|    22749|\n",
            "|   536367|IVORY KNITTED MUG...|       6|     1.65|   13047.0|2018-12-01 08:34:00|United Kingdom|    22310|\n",
            "|   536367|BOX OF 6 ASSORTED...|       6|     4.25|   13047.0|2018-12-01 08:34:00|United Kingdom|    84969|\n",
            "|   536367|BOX OF VINTAGE JI...|       3|     4.95|   13047.0|2018-12-01 08:34:00|United Kingdom|    22623|\n",
            "|   536367|BOX OF VINTAGE AL...|       2|     9.95|   13047.0|2018-12-01 08:34:00|United Kingdom|    22622|\n",
            "|   536367|HOME BUILDING BLO...|       3|     5.95|   13047.0|2018-12-01 08:34:00|United Kingdom|    21754|\n",
            "|   536367|LOVE BUILDING BLO...|       3|     5.95|   13047.0|2018-12-01 08:34:00|United Kingdom|    21755|\n",
            "|   536367|RECIPE BOX WITH M...|       4|     7.95|   13047.0|2018-12-01 08:34:00|United Kingdom|    21777|\n",
            "+---------+--------------------+--------+---------+----------+-------------------+--------------+---------+\n",
            "only showing top 20 rows\n",
            "\n"
          ],
          "name": "stdout"
        }
      ]
    },
    {
      "cell_type": "code",
      "metadata": {
        "id": "kQLzG7jz06vU",
        "colab": {
          "base_uri": "https://localhost:8080/",
          "height": 120
        },
        "outputId": "795fc73d-1c81-4507-8d0f-a99835ecc8a0"
      },
      "source": [
        "dt_sql_count = spark.sql(\"SELECT count(*) as cnt_row FROM sales\")\n",
        "dt_sql_count.show()"
      ],
      "execution_count": null,
      "outputs": [
        {
          "output_type": "stream",
          "text": [
            "+-------+\n",
            "|cnt_row|\n",
            "+-------+\n",
            "| 541909|\n",
            "+-------+\n",
            "\n"
          ],
          "name": "stdout"
        }
      ]
    },
    {
      "cell_type": "code",
      "metadata": {
        "id": "qFnsr05vYnOi",
        "colab": {
          "base_uri": "https://localhost:8080/",
          "height": 463
        },
        "outputId": "5485cd1e-445c-401a-f5f7-27de682ddd4b"
      },
      "source": [
        "dt_sql_count = spark.sql(\"SELECT count(*) as cnt_row, country FROM sales GROUP BY Country ORDER BY cnt_row DESC\")\n",
        "dt_sql_count.show()"
      ],
      "execution_count": null,
      "outputs": [
        {
          "output_type": "stream",
          "text": [
            "+-------+---------------+\n",
            "|cnt_row|        country|\n",
            "+-------+---------------+\n",
            "| 495478| United Kingdom|\n",
            "|   9495|        Germany|\n",
            "|   8557|         France|\n",
            "|   8196|           EIRE|\n",
            "|   2533|          Spain|\n",
            "|   2371|    Netherlands|\n",
            "|   2069|        Belgium|\n",
            "|   2002|    Switzerland|\n",
            "|   1519|       Portugal|\n",
            "|   1259|      Australia|\n",
            "|   1086|         Norway|\n",
            "|    803|          Italy|\n",
            "|    758|Channel Islands|\n",
            "|    695|        Finland|\n",
            "|    622|         Cyprus|\n",
            "|    462|         Sweden|\n",
            "|    446|    Unspecified|\n",
            "|    401|        Austria|\n",
            "|    389|        Denmark|\n",
            "|    358|          Japan|\n",
            "+-------+---------------+\n",
            "only showing top 20 rows\n",
            "\n"
          ],
          "name": "stdout"
        }
      ]
    },
    {
      "cell_type": "code",
      "metadata": {
        "id": "o4coCNUH07yW",
        "colab": {
          "base_uri": "https://localhost:8080/",
          "height": 120
        },
        "outputId": "727f72c5-5110-4032-f8d4-6686784d7d82"
      },
      "source": [
        "dt_sql_valid_price = spark.sql(\"SELECT count(*) as cnt_row FROM sales WHERE UnitPrice > 0 AND Quantity > 0\")\n",
        "dt_sql_valid_price.show()"
      ],
      "execution_count": null,
      "outputs": [
        {
          "output_type": "stream",
          "text": [
            "+-------+\n",
            "|cnt_row|\n",
            "+-------+\n",
            "| 530104|\n",
            "+-------+\n",
            "\n"
          ],
          "name": "stdout"
        }
      ]
    },
    {
      "cell_type": "code",
      "metadata": {
        "id": "hETimL9n1OxF",
        "colab": {
          "base_uri": "https://localhost:8080/",
          "height": 463
        },
        "outputId": "5fcfbc06-b6f2-4865-e371-4b364ca454a0"
      },
      "source": [
        "dt_sql_valid_price = spark.sql(\"SELECT * FROM sales WHERE UnitPrice > 0 AND Quantity > 0\")\n",
        "dt_sql_valid_price.show()"
      ],
      "execution_count": null,
      "outputs": [
        {
          "output_type": "stream",
          "text": [
            "+---------+--------------------+--------+---------+----------+-------------------+--------------+---------+\n",
            "|InvoiceNo|         Description|Quantity|UnitPrice|CustomerID|    InvoiceDateTime|       Country|StockCode|\n",
            "+---------+--------------------+--------+---------+----------+-------------------+--------------+---------+\n",
            "|   536365|WHITE HANGING HEA...|       6|     2.55|   17850.0|2018-12-01 08:26:00|United Kingdom|    85123|\n",
            "|   536365| WHITE METAL LANTERN|       6|     3.39|   17850.0|2018-12-01 08:26:00|United Kingdom|    71053|\n",
            "|   536365|CREAM CUPID HEART...|       8|     2.75|   17850.0|2018-12-01 08:26:00|United Kingdom|    84406|\n",
            "|   536365|KNITTED UNION FLA...|       6|     3.39|   17850.0|2018-12-01 08:26:00|United Kingdom|    84029|\n",
            "|   536365|RED WOOLLY HOTTIE...|       6|     3.39|   17850.0|2018-12-01 08:26:00|United Kingdom|    84029|\n",
            "|   536365|SET 7 BABUSHKA NE...|       2|     7.65|   17850.0|2018-12-01 08:26:00|United Kingdom|    22752|\n",
            "|   536365|GLASS STAR FROSTE...|       6|     4.25|   17850.0|2018-12-01 08:26:00|United Kingdom|    21730|\n",
            "|   536366|HAND WARMER UNION...|       6|     1.85|   17850.0|2018-12-01 08:28:00|United Kingdom|    22633|\n",
            "|   536366|HAND WARMER RED P...|       6|     1.85|   17850.0|2018-12-01 08:28:00|United Kingdom|    22632|\n",
            "|   536367|ASSORTED COLOUR B...|      32|     1.69|   13047.0|2018-12-01 08:34:00|United Kingdom|    84879|\n",
            "|   536367|POPPY'S PLAYHOUSE...|       6|      2.1|   13047.0|2018-12-01 08:34:00|United Kingdom|    22745|\n",
            "|   536367|POPPY'S PLAYHOUSE...|       6|      2.1|   13047.0|2018-12-01 08:34:00|United Kingdom|    22748|\n",
            "|   536367|FELTCRAFT PRINCES...|       8|     3.75|   13047.0|2018-12-01 08:34:00|United Kingdom|    22749|\n",
            "|   536367|IVORY KNITTED MUG...|       6|     1.65|   13047.0|2018-12-01 08:34:00|United Kingdom|    22310|\n",
            "|   536367|BOX OF 6 ASSORTED...|       6|     4.25|   13047.0|2018-12-01 08:34:00|United Kingdom|    84969|\n",
            "|   536367|BOX OF VINTAGE JI...|       3|     4.95|   13047.0|2018-12-01 08:34:00|United Kingdom|    22623|\n",
            "|   536367|BOX OF VINTAGE AL...|       2|     9.95|   13047.0|2018-12-01 08:34:00|United Kingdom|    22622|\n",
            "|   536367|HOME BUILDING BLO...|       3|     5.95|   13047.0|2018-12-01 08:34:00|United Kingdom|    21754|\n",
            "|   536367|LOVE BUILDING BLO...|       3|     5.95|   13047.0|2018-12-01 08:34:00|United Kingdom|    21755|\n",
            "|   536367|RECIPE BOX WITH M...|       4|     7.95|   13047.0|2018-12-01 08:34:00|United Kingdom|    21777|\n",
            "+---------+--------------------+--------+---------+----------+-------------------+--------------+---------+\n",
            "only showing top 20 rows\n",
            "\n"
          ],
          "name": "stdout"
        }
      ]
    },
    {
      "cell_type": "markdown",
      "metadata": {
        "id": "iv0YK6cFgSiB"
      },
      "source": [
        "### Exercise: \n",
        "1. ลองเลือก Country USA ที่มี InvoiceDateTime ตังแต่วันที่ 2010-12-01 เป็นต้นไป และ UnitPrice เกิน 3.5 \n",
        "2. ลองเลือก Country France ที่มี InvoiceDateTime ตังแต่วันที่ 2010-12-05 เป็นต้นไป และ UnitPrice เกิน 5.5 และ Description มีคำว่า Box"
      ]
    },
    {
      "cell_type": "code",
      "metadata": {
        "id": "2QHlrKnPgMRh",
        "colab": {
          "base_uri": "https://localhost:8080/",
          "height": 463
        },
        "outputId": "68b8cade-bafd-414a-82cc-4e468dd0ee15"
      },
      "source": [
        "# TODO: Country USA ที่มี InvoiceDateTime ตั้งแต่วันที่ 2010-12-01 เป็นต้นไป และ UnitPrice เกิน 3.5\n",
        "dt_sql_usa = spark.sql(\"\"\"\n",
        "SELECT * FROM sales\n",
        "  WHERE InvoiceDateTime >= '2010-12-01'\n",
        "  AND UnitPrice > 3.5\n",
        "  AND Country='USA'\n",
        "\"\"\").show()"
      ],
      "execution_count": null,
      "outputs": [
        {
          "output_type": "stream",
          "text": [
            "+---------+--------------------+--------+---------+----------+-------------------+-------+---------+\n",
            "|InvoiceNo|         Description|Quantity|UnitPrice|CustomerID|    InvoiceDateTime|Country|StockCode|\n",
            "+---------+--------------------+--------+---------+----------+-------------------+-------+---------+\n",
            "|   550644|SET OF 6 SPICE TI...|       7|     3.95|   12733.0|2019-04-19 16:19:00|    USA|    22722|\n",
            "|   550644|SET OF 3 CAKE TIN...|       1|     4.95|   12733.0|2019-04-19 16:19:00|    USA|    22720|\n",
            "|   550644|PINK HAPPY BIRTHD...|       4|     5.45|   12733.0|2019-04-19 16:19:00|    USA|    47590|\n",
            "|   550644|COTTON APRON PANT...|       5|     4.95|   12733.0|2019-04-19 16:19:00|    USA|    22990|\n",
            "|   550644|REGENCY CAKESTAND...|       6|    12.75|   12733.0|2019-04-19 16:19:00|    USA|    22423|\n",
            "|   550644|TEA TIME TEA SET ...|       5|     6.95|   12733.0|2019-04-19 16:19:00|    USA|    37501|\n",
            "|   550644|TEA TIME TEAPOT I...|       4|     4.95|   12733.0|2019-04-19 16:19:00|    USA|    37500|\n",
            "|   570467|SET OF 6 SOLDIER ...|       4|     3.75|   12607.0|2019-10-10 16:06:00|    USA|    22619|\n",
            "|   570467|BAKING SET 9 PIEC...|       3|     4.95|   12607.0|2019-10-10 16:06:00|    USA|    22138|\n",
            "|   570467|DOORMAT SPOTTY HO...|       2|     8.25|   12607.0|2019-10-10 16:06:00|    USA|    21524|\n",
            "|   570467|BLUE HAPPY BIRTHD...|       3|     5.45|   12607.0|2019-10-10 16:06:00|    USA|    47590|\n",
            "|   570467|PINK HAPPY BIRTHD...|       3|     5.45|   12607.0|2019-10-10 16:06:00|    USA|    47590|\n",
            "|   570467|SET OF 4 ENGLISH ...|       4|     3.75|   12607.0|2019-10-10 16:06:00|    USA|    84509|\n",
            "|   570467|STRAWBERRY FAIRY ...|       8|     4.95|   12607.0|2019-10-10 16:06:00|    USA|    22649|\n",
            "|   570467|FRYING PAN RED RE...|       4|     4.25|   12607.0|2019-10-10 16:06:00|    USA|    22199|\n",
            "|   570467|BREAD BIN DINER S...|       1|    16.95|   12607.0|2019-10-10 16:06:00|    USA|    22848|\n",
            "|   570467|MILK PAN BLUE POL...|       4|     3.75|   12607.0|2019-10-10 16:06:00|    USA|    22204|\n",
            "|   570467|  DOORMAT FAIRY CAKE|       2|     8.25|   12607.0|2019-10-10 16:06:00|    USA|    48185|\n",
            "|   570467|RETROSPOT TEA SET...|       3|     4.95|   12607.0|2019-10-10 16:06:00|    USA|    22139|\n",
            "|   570467|SET OF 3 CAKE TIN...|       3|     4.95|   12607.0|2019-10-10 16:06:00|    USA|    22720|\n",
            "+---------+--------------------+--------+---------+----------+-------------------+-------+---------+\n",
            "only showing top 20 rows\n",
            "\n"
          ],
          "name": "stdout"
        }
      ]
    },
    {
      "cell_type": "code",
      "metadata": {
        "id": "cgCm2SiKgMP7"
      },
      "source": [
        "# TODO: Country France ที่มี InvoiceDateTime ตังแต่วันที่ 2010-12-05 เป็นต้นไป และ UnitPrice เกิน 5.5 และ Description มีคำว่า Box\n",
        "dt_sql_france = spark.sql(\"\"\"\n",
        "SELECT * FROM sales\n",
        "  WHERE UnitPrice > 5.5\n",
        "  AND InvoiceDateTime >= '2010-12-05'\n",
        "  AND Country = 'France'\n",
        "  AND LOWER(Description) LIKE '%box%'\n",
        "\"\"\")"
      ],
      "execution_count": null,
      "outputs": []
    },
    {
      "cell_type": "markdown",
      "metadata": {
        "id": "lu3WQ4g8UBra"
      },
      "source": [
        "## Save cleaned data เป็น CSV\n",
        "\n",
        "โดยปกติแล้ว Spark จะทำการ Save ออกมาเป็นหลายไฟล์ เพราะใช้หลายเครื่องในการประมวลผล"
      ]
    },
    {
      "cell_type": "code",
      "metadata": {
        "id": "w6ZMEZ-8UIEJ"
      },
      "source": [
        "# Write as partitioned files (use multiple workers)\n",
        "dt_sql_valid_price.write.csv('Cleaned_Data_Now_Final.csv')"
      ],
      "execution_count": null,
      "outputs": []
    },
    {
      "cell_type": "markdown",
      "metadata": {
        "id": "mcPc7I-BYckx"
      },
      "source": [
        "เราสามารถบังคับให้ Spark ใช้เครื่องเดียวได้"
      ]
    },
    {
      "cell_type": "code",
      "metadata": {
        "id": "AzMterYlWA5X"
      },
      "source": [
        "# Write as 1 file (use single worker)\n",
        "dt_sql_valid_price.coalesce(1).write.csv('Cleaned_Data_Now_Final_Single.csv')"
      ],
      "execution_count": null,
      "outputs": []
    },
    {
      "cell_type": "markdown",
      "metadata": {
        "id": "cHJ93iwFY_rS"
      },
      "source": [
        "### Bonus Exercise: อ่านไฟล์ที่มีหลาย Part\n",
        "เช่น\n",
        "- /content/Cleaned_Data.csv/part-00000-25a1e27a-a2b1-4553-b8ae-e05a6c574b59-c000.csv\n",
        "- /content/Cleaned_Data.csv/part-00001-25a1e27a-a2b1-4553-b8ae-e05a6c574b59-c000.csv\n",
        "\n",
        "ป.ล. เครื่องคอมพิวเตอร์แต่ละท่านจะสร้างชื่อไฟล์ไม่เหมือนกัน กรุณาเช็คชื่อไฟล์ในแท็บ Files ด้านซ้าย (หรือดูวิธีการได้จากวีดิโอ Workshop)"
      ]
    },
    {
      "cell_type": "code",
      "metadata": {
        "id": "L_xj7NIbSv0w",
        "colab": {
          "base_uri": "https://localhost:8080/",
          "height": 963
        },
        "outputId": "9c1d72ba-fc5c-4b2b-aa11-445554c033bc"
      },
      "source": [
        "# สำคัญ: แก้โค้ดด้านล่างนี้เป็นชื่อไฟล์ที่ Spark สร้างขึ้นมาใน Google Drive ของนะครับ เพราะชื่อไฟล์จะสุ่มสร้างออกมา ถ้ารันโดยไม่แก้เลยจะ Error\n",
        "# อ่าน CSV ไฟล์ที่ 1\n",
        "part1 = spark.read.csv('/content/Cleaned_Data_Now_Final.csv/part-00000-5c261eef-4f45-41e6-a0ba-9d29af6f0a1f-c000.csv', header = True, inferSchema = True, )\n",
        "part1.count()"
      ],
      "execution_count": null,
      "outputs": [
        {
          "output_type": "error",
          "ename": "AnalysisException",
          "evalue": "ignored",
          "traceback": [
            "\u001b[0;31m---------------------------------------------------------------------------\u001b[0m",
            "\u001b[0;31mPy4JJavaError\u001b[0m                             Traceback (most recent call last)",
            "\u001b[0;32m/usr/local/lib/python3.6/dist-packages/pyspark/sql/utils.py\u001b[0m in \u001b[0;36mdeco\u001b[0;34m(*a, **kw)\u001b[0m\n\u001b[1;32m     62\u001b[0m         \u001b[0;32mtry\u001b[0m\u001b[0;34m:\u001b[0m\u001b[0;34m\u001b[0m\u001b[0;34m\u001b[0m\u001b[0m\n\u001b[0;32m---> 63\u001b[0;31m             \u001b[0;32mreturn\u001b[0m \u001b[0mf\u001b[0m\u001b[0;34m(\u001b[0m\u001b[0;34m*\u001b[0m\u001b[0ma\u001b[0m\u001b[0;34m,\u001b[0m \u001b[0;34m**\u001b[0m\u001b[0mkw\u001b[0m\u001b[0;34m)\u001b[0m\u001b[0;34m\u001b[0m\u001b[0;34m\u001b[0m\u001b[0m\n\u001b[0m\u001b[1;32m     64\u001b[0m         \u001b[0;32mexcept\u001b[0m \u001b[0mpy4j\u001b[0m\u001b[0;34m.\u001b[0m\u001b[0mprotocol\u001b[0m\u001b[0;34m.\u001b[0m\u001b[0mPy4JJavaError\u001b[0m \u001b[0;32mas\u001b[0m \u001b[0me\u001b[0m\u001b[0;34m:\u001b[0m\u001b[0;34m\u001b[0m\u001b[0;34m\u001b[0m\u001b[0m\n",
            "\u001b[0;32m/usr/local/lib/python3.6/dist-packages/py4j/protocol.py\u001b[0m in \u001b[0;36mget_return_value\u001b[0;34m(answer, gateway_client, target_id, name)\u001b[0m\n\u001b[1;32m    327\u001b[0m                     \u001b[0;34m\"An error occurred while calling {0}{1}{2}.\\n\"\u001b[0m\u001b[0;34m.\u001b[0m\u001b[0;34m\u001b[0m\u001b[0;34m\u001b[0m\u001b[0m\n\u001b[0;32m--> 328\u001b[0;31m                     format(target_id, \".\", name), value)\n\u001b[0m\u001b[1;32m    329\u001b[0m             \u001b[0;32melse\u001b[0m\u001b[0;34m:\u001b[0m\u001b[0;34m\u001b[0m\u001b[0;34m\u001b[0m\u001b[0m\n",
            "\u001b[0;31mPy4JJavaError\u001b[0m: An error occurred while calling o214.csv.\n: org.apache.spark.sql.AnalysisException: Path does not exist: file:/content/Cleaned_Data_Now_Final.csv/part-00000-5c261eef-4f45-41e6-a0ba-9d29af6f0a1f-c000.csv;\n\tat org.apache.spark.sql.execution.datasources.DataSource$$anonfun$org$apache$spark$sql$execution$datasources$DataSource$$checkAndGlobPathIfNecessary$1.apply(DataSource.scala:558)\n\tat org.apache.spark.sql.execution.datasources.DataSource$$anonfun$org$apache$spark$sql$execution$datasources$DataSource$$checkAndGlobPathIfNecessary$1.apply(DataSource.scala:545)\n\tat scala.collection.TraversableLike$$anonfun$flatMap$1.apply(TraversableLike.scala:241)\n\tat scala.collection.TraversableLike$$anonfun$flatMap$1.apply(TraversableLike.scala:241)\n\tat scala.collection.immutable.List.foreach(List.scala:392)\n\tat scala.collection.TraversableLike$class.flatMap(TraversableLike.scala:241)\n\tat scala.collection.immutable.List.flatMap(List.scala:355)\n\tat org.apache.spark.sql.execution.datasources.DataSource.org$apache$spark$sql$execution$datasources$DataSource$$checkAndGlobPathIfNecessary(DataSource.scala:545)\n\tat org.apache.spark.sql.execution.datasources.DataSource.resolveRelation(DataSource.scala:359)\n\tat org.apache.spark.sql.DataFrameReader.loadV1Source(DataFrameReader.scala:223)\n\tat org.apache.spark.sql.DataFrameReader.load(DataFrameReader.scala:211)\n\tat org.apache.spark.sql.DataFrameReader.csv(DataFrameReader.scala:619)\n\tat sun.reflect.NativeMethodAccessorImpl.invoke0(Native Method)\n\tat sun.reflect.NativeMethodAccessorImpl.invoke(NativeMethodAccessorImpl.java:62)\n\tat sun.reflect.DelegatingMethodAccessorImpl.invoke(DelegatingMethodAccessorImpl.java:43)\n\tat java.lang.reflect.Method.invoke(Method.java:498)\n\tat py4j.reflection.MethodInvoker.invoke(MethodInvoker.java:244)\n\tat py4j.reflection.ReflectionEngine.invoke(ReflectionEngine.java:357)\n\tat py4j.Gateway.invoke(Gateway.java:282)\n\tat py4j.commands.AbstractCommand.invokeMethod(AbstractCommand.java:132)\n\tat py4j.commands.CallCommand.execute(CallCommand.java:79)\n\tat py4j.GatewayConnection.run(GatewayConnection.java:238)\n\tat java.lang.Thread.run(Thread.java:748)\n",
            "\nDuring handling of the above exception, another exception occurred:\n",
            "\u001b[0;31mAnalysisException\u001b[0m                         Traceback (most recent call last)",
            "\u001b[0;32m<ipython-input-67-23ff0a25b896>\u001b[0m in \u001b[0;36m<module>\u001b[0;34m()\u001b[0m\n\u001b[1;32m      1\u001b[0m \u001b[0;31m# สำคัญ: แก้โค้ดด้านล่างนี้เป็นชื่อไฟล์ที่ Spark สร้างขึ้นมาใน Google Drive ของนะครับ เพราะชื่อไฟล์จะสุ่มสร้างออกมา ถ้ารันโดยไม่แก้เลยจะ Error\u001b[0m\u001b[0;34m\u001b[0m\u001b[0;34m\u001b[0m\u001b[0;34m\u001b[0m\u001b[0m\n\u001b[1;32m      2\u001b[0m \u001b[0;31m# อ่าน CSV ไฟล์ที่ 1\u001b[0m\u001b[0;34m\u001b[0m\u001b[0;34m\u001b[0m\u001b[0;34m\u001b[0m\u001b[0m\n\u001b[0;32m----> 3\u001b[0;31m \u001b[0mpart1\u001b[0m \u001b[0;34m=\u001b[0m \u001b[0mspark\u001b[0m\u001b[0;34m.\u001b[0m\u001b[0mread\u001b[0m\u001b[0;34m.\u001b[0m\u001b[0mcsv\u001b[0m\u001b[0;34m(\u001b[0m\u001b[0;34m'/content/Cleaned_Data_Now_Final.csv/part-00000-5c261eef-4f45-41e6-a0ba-9d29af6f0a1f-c000.csv'\u001b[0m\u001b[0;34m,\u001b[0m \u001b[0mheader\u001b[0m \u001b[0;34m=\u001b[0m \u001b[0;32mTrue\u001b[0m\u001b[0;34m,\u001b[0m \u001b[0minferSchema\u001b[0m \u001b[0;34m=\u001b[0m \u001b[0;32mTrue\u001b[0m\u001b[0;34m,\u001b[0m \u001b[0;34m)\u001b[0m\u001b[0;34m\u001b[0m\u001b[0;34m\u001b[0m\u001b[0m\n\u001b[0m\u001b[1;32m      4\u001b[0m \u001b[0mpart1\u001b[0m\u001b[0;34m.\u001b[0m\u001b[0mcount\u001b[0m\u001b[0;34m(\u001b[0m\u001b[0;34m)\u001b[0m\u001b[0;34m\u001b[0m\u001b[0;34m\u001b[0m\u001b[0m\n",
            "\u001b[0;32m/usr/local/lib/python3.6/dist-packages/pyspark/sql/readwriter.py\u001b[0m in \u001b[0;36mcsv\u001b[0;34m(self, path, schema, sep, encoding, quote, escape, comment, header, inferSchema, ignoreLeadingWhiteSpace, ignoreTrailingWhiteSpace, nullValue, nanValue, positiveInf, negativeInf, dateFormat, timestampFormat, maxColumns, maxCharsPerColumn, maxMalformedLogPerPartition, mode, columnNameOfCorruptRecord, multiLine, charToEscapeQuoteEscaping, samplingRatio, enforceSchema, emptyValue)\u001b[0m\n\u001b[1;32m    474\u001b[0m             \u001b[0mpath\u001b[0m \u001b[0;34m=\u001b[0m \u001b[0;34m[\u001b[0m\u001b[0mpath\u001b[0m\u001b[0;34m]\u001b[0m\u001b[0;34m\u001b[0m\u001b[0;34m\u001b[0m\u001b[0m\n\u001b[1;32m    475\u001b[0m         \u001b[0;32mif\u001b[0m \u001b[0mtype\u001b[0m\u001b[0;34m(\u001b[0m\u001b[0mpath\u001b[0m\u001b[0;34m)\u001b[0m \u001b[0;34m==\u001b[0m \u001b[0mlist\u001b[0m\u001b[0;34m:\u001b[0m\u001b[0;34m\u001b[0m\u001b[0;34m\u001b[0m\u001b[0m\n\u001b[0;32m--> 476\u001b[0;31m             \u001b[0;32mreturn\u001b[0m \u001b[0mself\u001b[0m\u001b[0;34m.\u001b[0m\u001b[0m_df\u001b[0m\u001b[0;34m(\u001b[0m\u001b[0mself\u001b[0m\u001b[0;34m.\u001b[0m\u001b[0m_jreader\u001b[0m\u001b[0;34m.\u001b[0m\u001b[0mcsv\u001b[0m\u001b[0;34m(\u001b[0m\u001b[0mself\u001b[0m\u001b[0;34m.\u001b[0m\u001b[0m_spark\u001b[0m\u001b[0;34m.\u001b[0m\u001b[0m_sc\u001b[0m\u001b[0;34m.\u001b[0m\u001b[0m_jvm\u001b[0m\u001b[0;34m.\u001b[0m\u001b[0mPythonUtils\u001b[0m\u001b[0;34m.\u001b[0m\u001b[0mtoSeq\u001b[0m\u001b[0;34m(\u001b[0m\u001b[0mpath\u001b[0m\u001b[0;34m)\u001b[0m\u001b[0;34m)\u001b[0m\u001b[0;34m)\u001b[0m\u001b[0;34m\u001b[0m\u001b[0;34m\u001b[0m\u001b[0m\n\u001b[0m\u001b[1;32m    477\u001b[0m         \u001b[0;32melif\u001b[0m \u001b[0misinstance\u001b[0m\u001b[0;34m(\u001b[0m\u001b[0mpath\u001b[0m\u001b[0;34m,\u001b[0m \u001b[0mRDD\u001b[0m\u001b[0;34m)\u001b[0m\u001b[0;34m:\u001b[0m\u001b[0;34m\u001b[0m\u001b[0;34m\u001b[0m\u001b[0m\n\u001b[1;32m    478\u001b[0m             \u001b[0;32mdef\u001b[0m \u001b[0mfunc\u001b[0m\u001b[0;34m(\u001b[0m\u001b[0miterator\u001b[0m\u001b[0;34m)\u001b[0m\u001b[0;34m:\u001b[0m\u001b[0;34m\u001b[0m\u001b[0;34m\u001b[0m\u001b[0m\n",
            "\u001b[0;32m/usr/local/lib/python3.6/dist-packages/py4j/java_gateway.py\u001b[0m in \u001b[0;36m__call__\u001b[0;34m(self, *args)\u001b[0m\n\u001b[1;32m   1255\u001b[0m         \u001b[0manswer\u001b[0m \u001b[0;34m=\u001b[0m \u001b[0mself\u001b[0m\u001b[0;34m.\u001b[0m\u001b[0mgateway_client\u001b[0m\u001b[0;34m.\u001b[0m\u001b[0msend_command\u001b[0m\u001b[0;34m(\u001b[0m\u001b[0mcommand\u001b[0m\u001b[0;34m)\u001b[0m\u001b[0;34m\u001b[0m\u001b[0;34m\u001b[0m\u001b[0m\n\u001b[1;32m   1256\u001b[0m         return_value = get_return_value(\n\u001b[0;32m-> 1257\u001b[0;31m             answer, self.gateway_client, self.target_id, self.name)\n\u001b[0m\u001b[1;32m   1258\u001b[0m \u001b[0;34m\u001b[0m\u001b[0m\n\u001b[1;32m   1259\u001b[0m         \u001b[0;32mfor\u001b[0m \u001b[0mtemp_arg\u001b[0m \u001b[0;32min\u001b[0m \u001b[0mtemp_args\u001b[0m\u001b[0;34m:\u001b[0m\u001b[0;34m\u001b[0m\u001b[0;34m\u001b[0m\u001b[0m\n",
            "\u001b[0;32m/usr/local/lib/python3.6/dist-packages/pyspark/sql/utils.py\u001b[0m in \u001b[0;36mdeco\u001b[0;34m(*a, **kw)\u001b[0m\n\u001b[1;32m     67\u001b[0m                                              e.java_exception.getStackTrace()))\n\u001b[1;32m     68\u001b[0m             \u001b[0;32mif\u001b[0m \u001b[0ms\u001b[0m\u001b[0;34m.\u001b[0m\u001b[0mstartswith\u001b[0m\u001b[0;34m(\u001b[0m\u001b[0;34m'org.apache.spark.sql.AnalysisException: '\u001b[0m\u001b[0;34m)\u001b[0m\u001b[0;34m:\u001b[0m\u001b[0;34m\u001b[0m\u001b[0;34m\u001b[0m\u001b[0m\n\u001b[0;32m---> 69\u001b[0;31m                 \u001b[0;32mraise\u001b[0m \u001b[0mAnalysisException\u001b[0m\u001b[0;34m(\u001b[0m\u001b[0ms\u001b[0m\u001b[0;34m.\u001b[0m\u001b[0msplit\u001b[0m\u001b[0;34m(\u001b[0m\u001b[0;34m': '\u001b[0m\u001b[0;34m,\u001b[0m \u001b[0;36m1\u001b[0m\u001b[0;34m)\u001b[0m\u001b[0;34m[\u001b[0m\u001b[0;36m1\u001b[0m\u001b[0;34m]\u001b[0m\u001b[0;34m,\u001b[0m \u001b[0mstackTrace\u001b[0m\u001b[0;34m)\u001b[0m\u001b[0;34m\u001b[0m\u001b[0;34m\u001b[0m\u001b[0m\n\u001b[0m\u001b[1;32m     70\u001b[0m             \u001b[0;32mif\u001b[0m \u001b[0ms\u001b[0m\u001b[0;34m.\u001b[0m\u001b[0mstartswith\u001b[0m\u001b[0;34m(\u001b[0m\u001b[0;34m'org.apache.spark.sql.catalyst.analysis'\u001b[0m\u001b[0;34m)\u001b[0m\u001b[0;34m:\u001b[0m\u001b[0;34m\u001b[0m\u001b[0;34m\u001b[0m\u001b[0m\n\u001b[1;32m     71\u001b[0m                 \u001b[0;32mraise\u001b[0m \u001b[0mAnalysisException\u001b[0m\u001b[0;34m(\u001b[0m\u001b[0ms\u001b[0m\u001b[0;34m.\u001b[0m\u001b[0msplit\u001b[0m\u001b[0;34m(\u001b[0m\u001b[0;34m': '\u001b[0m\u001b[0;34m,\u001b[0m \u001b[0;36m1\u001b[0m\u001b[0;34m)\u001b[0m\u001b[0;34m[\u001b[0m\u001b[0;36m1\u001b[0m\u001b[0;34m]\u001b[0m\u001b[0;34m,\u001b[0m \u001b[0mstackTrace\u001b[0m\u001b[0;34m)\u001b[0m\u001b[0;34m\u001b[0m\u001b[0;34m\u001b[0m\u001b[0m\n",
            "\u001b[0;31mAnalysisException\u001b[0m: 'Path does not exist: file:/content/Cleaned_Data_Now_Final.csv/part-00000-5c261eef-4f45-41e6-a0ba-9d29af6f0a1f-c000.csv;'"
          ]
        }
      ]
    },
    {
      "cell_type": "code",
      "metadata": {
        "id": "a_mj3koGS3Rn"
      },
      "source": [
        "# สำคัญ: แก้โค้ดด้านล่างนี้เป็นชื่อไฟล์ที่ Spark สร้างขึ้นมาใน Google Drive ของนะครับ เพราะชื่อไฟล์จะสุ่มสร้างออกมา ถ้ารันโดยไม่แก้เลยจะ Error\n",
        "# อ่าน CSV ไฟล์ที่ 2\n",
        "part2 = spark.read.csv('/content/Cleaned_Data_Now_Final.csv/part-00001-b357b1dd-f38e-459c-83ff-6e73bd6ebb0d-c000.csv', header = True, inferSchema = True, )\n",
        "part2.count()"
      ],
      "execution_count": null,
      "outputs": []
    },
    {
      "cell_type": "code",
      "metadata": {
        "id": "AJN1WjglaKK4"
      },
      "source": [
        "# วิธีอ่าน CSV ทุกไฟล์ในโฟลเดอร์นี้\n",
        "all_parts = spark.read.csv('/content/Cleaned_Data_Now_Final.csv/part-*.csv', header = True, inferSchema = True, )"
      ],
      "execution_count": null,
      "outputs": []
    },
    {
      "cell_type": "code",
      "metadata": {
        "id": "cxgNMXk_Ss_3"
      },
      "source": [
        "all_parts.count()"
      ],
      "execution_count": null,
      "outputs": []
    }
  ]
}